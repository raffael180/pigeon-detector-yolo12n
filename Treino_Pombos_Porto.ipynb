{
  "nbformat": 4,
  "nbformat_minor": 0,
  "metadata": {
    "colab": {
      "provenance": [],
      "gpuType": "T4"
    },
    "kernelspec": {
      "name": "python3",
      "display_name": "Python 3"
    },
    "language_info": {
      "name": "python"
    },
    "accelerator": "GPU"
  },
  "cells": [
    {
      "cell_type": "code",
      "execution_count": null,
      "metadata": {
        "colab": {
          "base_uri": "https://localhost:8080/"
        },
        "id": "piqR12OGsWCk",
        "outputId": "1f0c4f91-9d9c-4ca9-84cc-cb493e30cc7c"
      },
      "outputs": [
        {
          "output_type": "stream",
          "name": "stdout",
          "text": [
            "Collecting ultralytics\n",
            "  Downloading ultralytics-8.3.154-py3-none-any.whl.metadata (37 kB)\n",
            "Requirement already satisfied: numpy>=1.23.0 in /usr/local/lib/python3.11/dist-packages (from ultralytics) (2.0.2)\n",
            "Requirement already satisfied: matplotlib>=3.3.0 in /usr/local/lib/python3.11/dist-packages (from ultralytics) (3.10.0)\n",
            "Requirement already satisfied: opencv-python>=4.6.0 in /usr/local/lib/python3.11/dist-packages (from ultralytics) (4.11.0.86)\n",
            "Requirement already satisfied: pillow>=7.1.2 in /usr/local/lib/python3.11/dist-packages (from ultralytics) (11.2.1)\n",
            "Requirement already satisfied: pyyaml>=5.3.1 in /usr/local/lib/python3.11/dist-packages (from ultralytics) (6.0.2)\n",
            "Requirement already satisfied: requests>=2.23.0 in /usr/local/lib/python3.11/dist-packages (from ultralytics) (2.32.3)\n",
            "Requirement already satisfied: scipy>=1.4.1 in /usr/local/lib/python3.11/dist-packages (from ultralytics) (1.15.3)\n",
            "Requirement already satisfied: torch>=1.8.0 in /usr/local/lib/python3.11/dist-packages (from ultralytics) (2.6.0+cu124)\n",
            "Requirement already satisfied: torchvision>=0.9.0 in /usr/local/lib/python3.11/dist-packages (from ultralytics) (0.21.0+cu124)\n",
            "Requirement already satisfied: tqdm>=4.64.0 in /usr/local/lib/python3.11/dist-packages (from ultralytics) (4.67.1)\n",
            "Requirement already satisfied: psutil in /usr/local/lib/python3.11/dist-packages (from ultralytics) (5.9.5)\n",
            "Requirement already satisfied: py-cpuinfo in /usr/local/lib/python3.11/dist-packages (from ultralytics) (9.0.0)\n",
            "Requirement already satisfied: pandas>=1.1.4 in /usr/local/lib/python3.11/dist-packages (from ultralytics) (2.2.2)\n",
            "Collecting ultralytics-thop>=2.0.0 (from ultralytics)\n",
            "  Downloading ultralytics_thop-2.0.14-py3-none-any.whl.metadata (9.4 kB)\n",
            "Requirement already satisfied: contourpy>=1.0.1 in /usr/local/lib/python3.11/dist-packages (from matplotlib>=3.3.0->ultralytics) (1.3.2)\n",
            "Requirement already satisfied: cycler>=0.10 in /usr/local/lib/python3.11/dist-packages (from matplotlib>=3.3.0->ultralytics) (0.12.1)\n",
            "Requirement already satisfied: fonttools>=4.22.0 in /usr/local/lib/python3.11/dist-packages (from matplotlib>=3.3.0->ultralytics) (4.58.1)\n",
            "Requirement already satisfied: kiwisolver>=1.3.1 in /usr/local/lib/python3.11/dist-packages (from matplotlib>=3.3.0->ultralytics) (1.4.8)\n",
            "Requirement already satisfied: packaging>=20.0 in /usr/local/lib/python3.11/dist-packages (from matplotlib>=3.3.0->ultralytics) (24.2)\n",
            "Requirement already satisfied: pyparsing>=2.3.1 in /usr/local/lib/python3.11/dist-packages (from matplotlib>=3.3.0->ultralytics) (3.2.3)\n",
            "Requirement already satisfied: python-dateutil>=2.7 in /usr/local/lib/python3.11/dist-packages (from matplotlib>=3.3.0->ultralytics) (2.9.0.post0)\n",
            "Requirement already satisfied: pytz>=2020.1 in /usr/local/lib/python3.11/dist-packages (from pandas>=1.1.4->ultralytics) (2025.2)\n",
            "Requirement already satisfied: tzdata>=2022.7 in /usr/local/lib/python3.11/dist-packages (from pandas>=1.1.4->ultralytics) (2025.2)\n",
            "Requirement already satisfied: charset-normalizer<4,>=2 in /usr/local/lib/python3.11/dist-packages (from requests>=2.23.0->ultralytics) (3.4.2)\n",
            "Requirement already satisfied: idna<4,>=2.5 in /usr/local/lib/python3.11/dist-packages (from requests>=2.23.0->ultralytics) (3.10)\n",
            "Requirement already satisfied: urllib3<3,>=1.21.1 in /usr/local/lib/python3.11/dist-packages (from requests>=2.23.0->ultralytics) (2.4.0)\n",
            "Requirement already satisfied: certifi>=2017.4.17 in /usr/local/lib/python3.11/dist-packages (from requests>=2.23.0->ultralytics) (2025.4.26)\n",
            "Requirement already satisfied: filelock in /usr/local/lib/python3.11/dist-packages (from torch>=1.8.0->ultralytics) (3.18.0)\n",
            "Requirement already satisfied: typing-extensions>=4.10.0 in /usr/local/lib/python3.11/dist-packages (from torch>=1.8.0->ultralytics) (4.14.0)\n",
            "Requirement already satisfied: networkx in /usr/local/lib/python3.11/dist-packages (from torch>=1.8.0->ultralytics) (3.5)\n",
            "Requirement already satisfied: jinja2 in /usr/local/lib/python3.11/dist-packages (from torch>=1.8.0->ultralytics) (3.1.6)\n",
            "Requirement already satisfied: fsspec in /usr/local/lib/python3.11/dist-packages (from torch>=1.8.0->ultralytics) (2025.3.2)\n",
            "Collecting nvidia-cuda-nvrtc-cu12==12.4.127 (from torch>=1.8.0->ultralytics)\n",
            "  Downloading nvidia_cuda_nvrtc_cu12-12.4.127-py3-none-manylinux2014_x86_64.whl.metadata (1.5 kB)\n",
            "Collecting nvidia-cuda-runtime-cu12==12.4.127 (from torch>=1.8.0->ultralytics)\n",
            "  Downloading nvidia_cuda_runtime_cu12-12.4.127-py3-none-manylinux2014_x86_64.whl.metadata (1.5 kB)\n",
            "Collecting nvidia-cuda-cupti-cu12==12.4.127 (from torch>=1.8.0->ultralytics)\n",
            "  Downloading nvidia_cuda_cupti_cu12-12.4.127-py3-none-manylinux2014_x86_64.whl.metadata (1.6 kB)\n",
            "Collecting nvidia-cudnn-cu12==9.1.0.70 (from torch>=1.8.0->ultralytics)\n",
            "  Downloading nvidia_cudnn_cu12-9.1.0.70-py3-none-manylinux2014_x86_64.whl.metadata (1.6 kB)\n",
            "Collecting nvidia-cublas-cu12==12.4.5.8 (from torch>=1.8.0->ultralytics)\n",
            "  Downloading nvidia_cublas_cu12-12.4.5.8-py3-none-manylinux2014_x86_64.whl.metadata (1.5 kB)\n",
            "Collecting nvidia-cufft-cu12==11.2.1.3 (from torch>=1.8.0->ultralytics)\n",
            "  Downloading nvidia_cufft_cu12-11.2.1.3-py3-none-manylinux2014_x86_64.whl.metadata (1.5 kB)\n",
            "Collecting nvidia-curand-cu12==10.3.5.147 (from torch>=1.8.0->ultralytics)\n",
            "  Downloading nvidia_curand_cu12-10.3.5.147-py3-none-manylinux2014_x86_64.whl.metadata (1.5 kB)\n",
            "Collecting nvidia-cusolver-cu12==11.6.1.9 (from torch>=1.8.0->ultralytics)\n",
            "  Downloading nvidia_cusolver_cu12-11.6.1.9-py3-none-manylinux2014_x86_64.whl.metadata (1.6 kB)\n",
            "Collecting nvidia-cusparse-cu12==12.3.1.170 (from torch>=1.8.0->ultralytics)\n",
            "  Downloading nvidia_cusparse_cu12-12.3.1.170-py3-none-manylinux2014_x86_64.whl.metadata (1.6 kB)\n",
            "Requirement already satisfied: nvidia-cusparselt-cu12==0.6.2 in /usr/local/lib/python3.11/dist-packages (from torch>=1.8.0->ultralytics) (0.6.2)\n",
            "Requirement already satisfied: nvidia-nccl-cu12==2.21.5 in /usr/local/lib/python3.11/dist-packages (from torch>=1.8.0->ultralytics) (2.21.5)\n",
            "Requirement already satisfied: nvidia-nvtx-cu12==12.4.127 in /usr/local/lib/python3.11/dist-packages (from torch>=1.8.0->ultralytics) (12.4.127)\n",
            "Collecting nvidia-nvjitlink-cu12==12.4.127 (from torch>=1.8.0->ultralytics)\n",
            "  Downloading nvidia_nvjitlink_cu12-12.4.127-py3-none-manylinux2014_x86_64.whl.metadata (1.5 kB)\n",
            "Requirement already satisfied: triton==3.2.0 in /usr/local/lib/python3.11/dist-packages (from torch>=1.8.0->ultralytics) (3.2.0)\n",
            "Requirement already satisfied: sympy==1.13.1 in /usr/local/lib/python3.11/dist-packages (from torch>=1.8.0->ultralytics) (1.13.1)\n",
            "Requirement already satisfied: mpmath<1.4,>=1.1.0 in /usr/local/lib/python3.11/dist-packages (from sympy==1.13.1->torch>=1.8.0->ultralytics) (1.3.0)\n",
            "Requirement already satisfied: six>=1.5 in /usr/local/lib/python3.11/dist-packages (from python-dateutil>=2.7->matplotlib>=3.3.0->ultralytics) (1.17.0)\n",
            "Requirement already satisfied: MarkupSafe>=2.0 in /usr/local/lib/python3.11/dist-packages (from jinja2->torch>=1.8.0->ultralytics) (3.0.2)\n",
            "Downloading ultralytics-8.3.154-py3-none-any.whl (1.0 MB)\n",
            "\u001b[2K   \u001b[90m━━━━━━━━━━━━━━━━━━━━━━━━━━━━━━━━━━━━━━━━\u001b[0m \u001b[32m1.0/1.0 MB\u001b[0m \u001b[31m16.5 MB/s\u001b[0m eta \u001b[36m0:00:00\u001b[0m\n",
            "\u001b[?25hDownloading nvidia_cublas_cu12-12.4.5.8-py3-none-manylinux2014_x86_64.whl (363.4 MB)\n",
            "\u001b[2K   \u001b[90m━━━━━━━━━━━━━━━━━━━━━━━━━━━━━━━━━━━━━━━━\u001b[0m \u001b[32m363.4/363.4 MB\u001b[0m \u001b[31m3.9 MB/s\u001b[0m eta \u001b[36m0:00:00\u001b[0m\n",
            "\u001b[?25hDownloading nvidia_cuda_cupti_cu12-12.4.127-py3-none-manylinux2014_x86_64.whl (13.8 MB)\n",
            "\u001b[2K   \u001b[90m━━━━━━━━━━━━━━━━━━━━━━━━━━━━━━━━━━━━━━━━\u001b[0m \u001b[32m13.8/13.8 MB\u001b[0m \u001b[31m111.9 MB/s\u001b[0m eta \u001b[36m0:00:00\u001b[0m\n",
            "\u001b[?25hDownloading nvidia_cuda_nvrtc_cu12-12.4.127-py3-none-manylinux2014_x86_64.whl (24.6 MB)\n",
            "\u001b[2K   \u001b[90m━━━━━━━━━━━━━━━━━━━━━━━━━━━━━━━━━━━━━━━━\u001b[0m \u001b[32m24.6/24.6 MB\u001b[0m \u001b[31m89.0 MB/s\u001b[0m eta \u001b[36m0:00:00\u001b[0m\n",
            "\u001b[?25hDownloading nvidia_cuda_runtime_cu12-12.4.127-py3-none-manylinux2014_x86_64.whl (883 kB)\n",
            "\u001b[2K   \u001b[90m━━━━━━━━━━━━━━━━━━━━━━━━━━━━━━━━━━━━━━━━\u001b[0m \u001b[32m883.7/883.7 kB\u001b[0m \u001b[31m57.2 MB/s\u001b[0m eta \u001b[36m0:00:00\u001b[0m\n",
            "\u001b[?25hDownloading nvidia_cudnn_cu12-9.1.0.70-py3-none-manylinux2014_x86_64.whl (664.8 MB)\n",
            "\u001b[2K   \u001b[90m━━━━━━━━━━━━━━━━━━━━━━━━━━━━━━━━━━━━━━━━\u001b[0m \u001b[32m664.8/664.8 MB\u001b[0m \u001b[31m2.7 MB/s\u001b[0m eta \u001b[36m0:00:00\u001b[0m\n",
            "\u001b[?25hDownloading nvidia_cufft_cu12-11.2.1.3-py3-none-manylinux2014_x86_64.whl (211.5 MB)\n",
            "\u001b[2K   \u001b[90m━━━━━━━━━━━━━━━━━━━━━━━━━━━━━━━━━━━━━━━━\u001b[0m \u001b[32m211.5/211.5 MB\u001b[0m \u001b[31m5.3 MB/s\u001b[0m eta \u001b[36m0:00:00\u001b[0m\n",
            "\u001b[?25hDownloading nvidia_curand_cu12-10.3.5.147-py3-none-manylinux2014_x86_64.whl (56.3 MB)\n",
            "\u001b[2K   \u001b[90m━━━━━━━━━━━━━━━━━━━━━━━━━━━━━━━━━━━━━━━━\u001b[0m \u001b[32m56.3/56.3 MB\u001b[0m \u001b[31m13.9 MB/s\u001b[0m eta \u001b[36m0:00:00\u001b[0m\n",
            "\u001b[?25hDownloading nvidia_cusolver_cu12-11.6.1.9-py3-none-manylinux2014_x86_64.whl (127.9 MB)\n",
            "\u001b[2K   \u001b[90m━━━━━━━━━━━━━━━━━━━━━━━━━━━━━━━━━━━━━━━━\u001b[0m \u001b[32m127.9/127.9 MB\u001b[0m \u001b[31m7.4 MB/s\u001b[0m eta \u001b[36m0:00:00\u001b[0m\n",
            "\u001b[?25hDownloading nvidia_cusparse_cu12-12.3.1.170-py3-none-manylinux2014_x86_64.whl (207.5 MB)\n",
            "\u001b[2K   \u001b[90m━━━━━━━━━━━━━━━━━━━━━━━━━━━━━━━━━━━━━━━━\u001b[0m \u001b[32m207.5/207.5 MB\u001b[0m \u001b[31m5.1 MB/s\u001b[0m eta \u001b[36m0:00:00\u001b[0m\n",
            "\u001b[?25hDownloading nvidia_nvjitlink_cu12-12.4.127-py3-none-manylinux2014_x86_64.whl (21.1 MB)\n",
            "\u001b[2K   \u001b[90m━━━━━━━━━━━━━━━━━━━━━━━━━━━━━━━━━━━━━━━━\u001b[0m \u001b[32m21.1/21.1 MB\u001b[0m \u001b[31m75.7 MB/s\u001b[0m eta \u001b[36m0:00:00\u001b[0m\n",
            "\u001b[?25hDownloading ultralytics_thop-2.0.14-py3-none-any.whl (26 kB)\n",
            "Installing collected packages: nvidia-nvjitlink-cu12, nvidia-curand-cu12, nvidia-cufft-cu12, nvidia-cuda-runtime-cu12, nvidia-cuda-nvrtc-cu12, nvidia-cuda-cupti-cu12, nvidia-cublas-cu12, nvidia-cusparse-cu12, nvidia-cudnn-cu12, nvidia-cusolver-cu12, ultralytics-thop, ultralytics\n",
            "  Attempting uninstall: nvidia-nvjitlink-cu12\n",
            "    Found existing installation: nvidia-nvjitlink-cu12 12.5.82\n",
            "    Uninstalling nvidia-nvjitlink-cu12-12.5.82:\n",
            "      Successfully uninstalled nvidia-nvjitlink-cu12-12.5.82\n",
            "  Attempting uninstall: nvidia-curand-cu12\n",
            "    Found existing installation: nvidia-curand-cu12 10.3.6.82\n",
            "    Uninstalling nvidia-curand-cu12-10.3.6.82:\n",
            "      Successfully uninstalled nvidia-curand-cu12-10.3.6.82\n",
            "  Attempting uninstall: nvidia-cufft-cu12\n",
            "    Found existing installation: nvidia-cufft-cu12 11.2.3.61\n",
            "    Uninstalling nvidia-cufft-cu12-11.2.3.61:\n",
            "      Successfully uninstalled nvidia-cufft-cu12-11.2.3.61\n",
            "  Attempting uninstall: nvidia-cuda-runtime-cu12\n",
            "    Found existing installation: nvidia-cuda-runtime-cu12 12.5.82\n",
            "    Uninstalling nvidia-cuda-runtime-cu12-12.5.82:\n",
            "      Successfully uninstalled nvidia-cuda-runtime-cu12-12.5.82\n",
            "  Attempting uninstall: nvidia-cuda-nvrtc-cu12\n",
            "    Found existing installation: nvidia-cuda-nvrtc-cu12 12.5.82\n",
            "    Uninstalling nvidia-cuda-nvrtc-cu12-12.5.82:\n",
            "      Successfully uninstalled nvidia-cuda-nvrtc-cu12-12.5.82\n",
            "  Attempting uninstall: nvidia-cuda-cupti-cu12\n",
            "    Found existing installation: nvidia-cuda-cupti-cu12 12.5.82\n",
            "    Uninstalling nvidia-cuda-cupti-cu12-12.5.82:\n",
            "      Successfully uninstalled nvidia-cuda-cupti-cu12-12.5.82\n",
            "  Attempting uninstall: nvidia-cublas-cu12\n",
            "    Found existing installation: nvidia-cublas-cu12 12.5.3.2\n",
            "    Uninstalling nvidia-cublas-cu12-12.5.3.2:\n",
            "      Successfully uninstalled nvidia-cublas-cu12-12.5.3.2\n",
            "  Attempting uninstall: nvidia-cusparse-cu12\n",
            "    Found existing installation: nvidia-cusparse-cu12 12.5.1.3\n",
            "    Uninstalling nvidia-cusparse-cu12-12.5.1.3:\n",
            "      Successfully uninstalled nvidia-cusparse-cu12-12.5.1.3\n",
            "  Attempting uninstall: nvidia-cudnn-cu12\n",
            "    Found existing installation: nvidia-cudnn-cu12 9.3.0.75\n",
            "    Uninstalling nvidia-cudnn-cu12-9.3.0.75:\n",
            "      Successfully uninstalled nvidia-cudnn-cu12-9.3.0.75\n",
            "  Attempting uninstall: nvidia-cusolver-cu12\n",
            "    Found existing installation: nvidia-cusolver-cu12 11.6.3.83\n",
            "    Uninstalling nvidia-cusolver-cu12-11.6.3.83:\n",
            "      Successfully uninstalled nvidia-cusolver-cu12-11.6.3.83\n",
            "Successfully installed nvidia-cublas-cu12-12.4.5.8 nvidia-cuda-cupti-cu12-12.4.127 nvidia-cuda-nvrtc-cu12-12.4.127 nvidia-cuda-runtime-cu12-12.4.127 nvidia-cudnn-cu12-9.1.0.70 nvidia-cufft-cu12-11.2.1.3 nvidia-curand-cu12-10.3.5.147 nvidia-cusolver-cu12-11.6.1.9 nvidia-cusparse-cu12-12.3.1.170 nvidia-nvjitlink-cu12-12.4.127 ultralytics-8.3.154 ultralytics-thop-2.0.14\n"
          ]
        }
      ],
      "source": [
        "!pip install ultralytics"
      ]
    },
    {
      "cell_type": "code",
      "source": [
        "from ultralytics import YOLO"
      ],
      "metadata": {
        "id": "2qe_lFhntMXm"
      },
      "execution_count": null,
      "outputs": []
    },
    {
      "cell_type": "code",
      "source": [
        "model = YOLO(\"yolo11n.pt\")"
      ],
      "metadata": {
        "colab": {
          "base_uri": "https://localhost:8080/"
        },
        "id": "LNbqXntStPQ2",
        "outputId": "4e33f065-e14b-4ca9-9c95-9359323de8a7"
      },
      "execution_count": null,
      "outputs": [
        {
          "output_type": "stream",
          "name": "stdout",
          "text": [
            "Downloading https://github.com/ultralytics/assets/releases/download/v8.3.0/yolo11n.pt to 'yolo11n.pt'...\n"
          ]
        },
        {
          "output_type": "stream",
          "name": "stderr",
          "text": [
            "100%|██████████| 5.35M/5.35M [00:00<00:00, 66.8MB/s]\n"
          ]
        }
      ]
    },
    {
      "cell_type": "code",
      "source": [
        "!unzip dataset.zip -d dataset"
      ],
      "metadata": {
        "colab": {
          "base_uri": "https://localhost:8080/"
        },
        "id": "774MLapAtT5O",
        "outputId": "d389426c-0b96-49a6-da4c-76e8a0c9ffb1"
      },
      "execution_count": null,
      "outputs": [
        {
          "output_type": "stream",
          "name": "stdout",
          "text": [
            "Archive:  dataset.zip\n",
            "  inflating: dataset/README.dataset.txt  \n",
            "  inflating: dataset/README.roboflow.txt  \n",
            "  inflating: dataset/data.yaml       \n",
            "   creating: dataset/train/\n",
            "   creating: dataset/train/images/\n",
            " extracting: dataset/train/images/Rock-Pigeon-101_jpg.rf.51321a56b61091d941240ac59a2f3955.jpg  \n",
            " extracting: dataset/train/images/Rock-Pigeon-102_jpg.rf.04779e7312c1e196ceec4c6640b53197.jpg  \n",
            " extracting: dataset/train/images/Rock-Pigeon-103_jpg.rf.47af94dfc2a2efc9268cff1ea13d4299.jpg  \n",
            " extracting: dataset/train/images/Rock-Pigeon-104_jpg.rf.4a8fe2e443057711b48f2b0ba4308fb7.jpg  \n",
            " extracting: dataset/train/images/Rock-Pigeon-106_jpg.rf.31191a62ed28bfc4471569182a6a5550.jpg  \n",
            " extracting: dataset/train/images/Rock-Pigeon-108_jpg.rf.33f433adedc651d521ca8fe24f2e7ed2.jpg  \n",
            " extracting: dataset/train/images/Rock-Pigeon-10_jpg.rf.eec3287f1890ddc09f220652f4325b5a.jpg  \n",
            " extracting: dataset/train/images/Rock-Pigeon-111_jpg.rf.aeba73666f7ce5922518d4ab8413be59.jpg  \n",
            " extracting: dataset/train/images/Rock-Pigeon-112_jpg.rf.1bd3907440f5a3efe364324773c2ca08.jpg  \n",
            " extracting: dataset/train/images/Rock-Pigeon-113_jpg.rf.eb0353b837cd0af1ca121801379da274.jpg  \n",
            " extracting: dataset/train/images/Rock-Pigeon-114_jpg.rf.e8fb6791d41bf4d2b9d933b6be0fc63e.jpg  \n",
            " extracting: dataset/train/images/Rock-Pigeon-115_jpg.rf.a95a3f2f875f98af94abd80c55fe3439.jpg  \n",
            " extracting: dataset/train/images/Rock-Pigeon-116_jpg.rf.4f7ba1d7ea5084732f664e61d6a3d965.jpg  \n",
            " extracting: dataset/train/images/Rock-Pigeon-117_jpg.rf.75453059cd34f513375fb5833456449d.jpg  \n",
            " extracting: dataset/train/images/Rock-Pigeon-119_jpg.rf.1d0394c32b11626f39cbef1a04bb71d7.jpg  \n",
            " extracting: dataset/train/images/Rock-Pigeon-11_jpg.rf.9e2dde915cee54a2e7775dfbe5d6c349.jpg  \n",
            " extracting: dataset/train/images/Rock-Pigeon-120_jpg.rf.8bae2c3603a9aeaa858b1e0ba6e6260b.jpg  \n",
            " extracting: dataset/train/images/Rock-Pigeon-121_jpg.rf.f016e0ba95ac1ddda505368b1e0a31e3.jpg  \n",
            " extracting: dataset/train/images/Rock-Pigeon-122_jpg.rf.636647310b96b47cc35d6e516efe0b2b.jpg  \n",
            " extracting: dataset/train/images/Rock-Pigeon-123_jpg.rf.fed7ec30b90dcacdb724df66a3976935.jpg  \n",
            " extracting: dataset/train/images/Rock-Pigeon-124_jpg.rf.b87cc56c04aa83e56de6b4d65e3656ae.jpg  \n",
            " extracting: dataset/train/images/Rock-Pigeon-125_jpg.rf.94a35f8e2da4b8d6af30de7fce4a6a0b.jpg  \n",
            " extracting: dataset/train/images/Rock-Pigeon-126_jpg.rf.7a06f21b4629115c8d9bd648ee256d82.jpg  \n",
            " extracting: dataset/train/images/Rock-Pigeon-127_jpg.rf.678eff7ce7d12b3731bc7bb1f9f35546.jpg  \n",
            " extracting: dataset/train/images/Rock-Pigeon-128_jpg.rf.40081a67de3913a3b1945c3541cfb53b.jpg  \n",
            " extracting: dataset/train/images/Rock-Pigeon-129_jpg.rf.c23fef3132bda239ecfcb464e6bd5ecd.jpg  \n",
            " extracting: dataset/train/images/Rock-Pigeon-130_jpg.rf.84e534f9bb5f33552118c3d2ccdb2611.jpg  \n",
            " extracting: dataset/train/images/Rock-Pigeon-131_jpg.rf.b82ca583dfd4d1b46ca08751030a17d6.jpg  \n",
            " extracting: dataset/train/images/Rock-Pigeon-132_jpg.rf.95665c2f38f2b238613e9b795c2094d3.jpg  \n",
            " extracting: dataset/train/images/Rock-Pigeon-134_jpg.rf.f172fe006a32ea287852564816ad56c9.jpg  \n",
            " extracting: dataset/train/images/Rock-Pigeon-135_jpg.rf.1bd045f46b423d643b5b342ad3fea1a4.jpg  \n",
            " extracting: dataset/train/images/Rock-Pigeon-137_jpg.rf.fe8b7d2fcf4c15560de22d063da0635c.jpg  \n",
            " extracting: dataset/train/images/Rock-Pigeon-138_jpg.rf.19385d81d7780a3b188d128d73f11e36.jpg  \n",
            " extracting: dataset/train/images/Rock-Pigeon-139_jpg.rf.3090764d8cc8957b58aeb49eb034086f.jpg  \n",
            " extracting: dataset/train/images/Rock-Pigeon-13_jpg.rf.4a8782db4c9ed85089f824b90c0c75c2.jpg  \n",
            " extracting: dataset/train/images/Rock-Pigeon-140_jpg.rf.cde76618c406afce3fad6fd71ffa0e52.jpg  \n",
            " extracting: dataset/train/images/Rock-Pigeon-142_jpg.rf.98584b73a2e05112efe8fcd6dcb0b188.jpg  \n",
            " extracting: dataset/train/images/Rock-Pigeon-143_jpg.rf.0c5f5eb81704ddb9b75432687be2531a.jpg  \n",
            " extracting: dataset/train/images/Rock-Pigeon-145_jpg.rf.ac53d75e354194dac18a6c075845eb7d.jpg  \n",
            " extracting: dataset/train/images/Rock-Pigeon-146_jpg.rf.5f58e7aefca5cca5e5f088e52648c5f1.jpg  \n",
            " extracting: dataset/train/images/Rock-Pigeon-147_jpg.rf.b03cbf9ce3a9553a6cbecd5e2a48a437.jpg  \n",
            " extracting: dataset/train/images/Rock-Pigeon-148_jpg.rf.42bd4092696c812e9eb74cfdeec27f06.jpg  \n",
            " extracting: dataset/train/images/Rock-Pigeon-149_jpg.rf.c44d7e347acf706707fc91ee0bf4f999.jpg  \n",
            " extracting: dataset/train/images/Rock-Pigeon-150_jpg.rf.04dfb34060cb2b040071e461c85c6bae.jpg  \n",
            " extracting: dataset/train/images/Rock-Pigeon-151_jpg.rf.f06e519f4b4d0d57821e2d0adee9f3eb.jpg  \n",
            " extracting: dataset/train/images/Rock-Pigeon-152_png.rf.dbaaccb308719b8d0950fa25e47ab552.jpg  \n",
            " extracting: dataset/train/images/Rock-Pigeon-153_jpg.rf.ef467a17e463a132a5367b35eb521275.jpg  \n",
            " extracting: dataset/train/images/Rock-Pigeon-154_jpg.rf.2a344df99b31ae51e2ef483a4e0133bc.jpg  \n",
            " extracting: dataset/train/images/Rock-Pigeon-155_jpg.rf.f7a9f0d9b70adf2996fcbaa19e5d3ce9.jpg  \n",
            " extracting: dataset/train/images/Rock-Pigeon-156_jpg.rf.5d95ecae1a68db65151b5e362d6c44b6.jpg  \n",
            " extracting: dataset/train/images/Rock-Pigeon-158_jpg.rf.95ad9b99d221edaa0510fcbdaafe4c9e.jpg  \n",
            " extracting: dataset/train/images/Rock-Pigeon-159_jpeg.rf.6d590ab2bc432a61fc1ab115d0b4134b.jpg  \n",
            " extracting: dataset/train/images/Rock-Pigeon-15_jpg.rf.bd47d511b3bfe1495ab732fec9e80147.jpg  \n",
            " extracting: dataset/train/images/Rock-Pigeon-160_jpeg.rf.ab8d13bc26fa1779796996852381d8be.jpg  \n",
            " extracting: dataset/train/images/Rock-Pigeon-161_jpeg.rf.3cfe1aa834777073992e775c81a80199.jpg  \n",
            " extracting: dataset/train/images/Rock-Pigeon-162_jpg.rf.137de325ffc9ae078755c6c6e3ef88e7.jpg  \n",
            " extracting: dataset/train/images/Rock-Pigeon-164_jpg.rf.1c12772fafdcfd64b84f0bf044c0882c.jpg  \n",
            " extracting: dataset/train/images/Rock-Pigeon-165_jpg.rf.455b87c759f9965af86cea11677142eb.jpg  \n",
            " extracting: dataset/train/images/Rock-Pigeon-167_jpg.rf.695cdcc90eb3baca709607d4a9e69dc0.jpg  \n",
            " extracting: dataset/train/images/Rock-Pigeon-168_jpg.rf.042d1463a2b29b0eeebd8fa4c5267c08.jpg  \n",
            " extracting: dataset/train/images/Rock-Pigeon-169_jpg.rf.96abb137200618317f332df650884eae.jpg  \n",
            " extracting: dataset/train/images/Rock-Pigeon-16_jpg.rf.692a0a64afb064335afe2a70e46d67a2.jpg  \n",
            " extracting: dataset/train/images/Rock-Pigeon-170_jpg.rf.0bbb40ddde2696651992bd613eb745cd.jpg  \n",
            " extracting: dataset/train/images/Rock-Pigeon-171_jpg.rf.10d9bfdeff31b1b87688841f0f09e0a7.jpg  \n",
            " extracting: dataset/train/images/Rock-Pigeon-172_jpg.rf.7296a367aa4e086c7a999f976a96c994.jpg  \n",
            " extracting: dataset/train/images/Rock-Pigeon-173_jpg.rf.7f8ed023f94be519c2d2a3c3a82c673d.jpg  \n",
            " extracting: dataset/train/images/Rock-Pigeon-175_jpg.rf.32ed94516e82defbdc6ac9a60a1f85f3.jpg  \n",
            " extracting: dataset/train/images/Rock-Pigeon-176_jpeg.rf.1f4188476655bd240810f152ddd05b05.jpg  \n",
            " extracting: dataset/train/images/Rock-Pigeon-177_jpg.rf.d0e244d0143a479412e16c9b54900dd0.jpg  \n",
            " extracting: dataset/train/images/Rock-Pigeon-179_jpg.rf.58e88245aba56707f389afeca182f84f.jpg  \n",
            " extracting: dataset/train/images/Rock-Pigeon-182_jpg.rf.ff723ae5d16b8160b2d36a5f05ecb656.jpg  \n",
            " extracting: dataset/train/images/Rock-Pigeon-184_jpg.rf.1d42f1d14d51db8d0e2b2d1226899bed.jpg  \n",
            " extracting: dataset/train/images/Rock-Pigeon-185_jpg.rf.7d20b46eddf6f2b41574c990355f96ea.jpg  \n",
            " extracting: dataset/train/images/Rock-Pigeon-186_JPG.rf.62499a2f7720e8cb13ad0d0b63cdeb41.jpg  \n",
            " extracting: dataset/train/images/Rock-Pigeon-187_jpg.rf.ab237d2659b06149c054e2c8a32abe97.jpg  \n",
            " extracting: dataset/train/images/Rock-Pigeon-189_jpg.rf.0893c0dd42fd7df344893701489aa25d.jpg  \n",
            " extracting: dataset/train/images/Rock-Pigeon-18_jpg.rf.a6dd6fb9a1d30607bfcca75fa407b474.jpg  \n",
            " extracting: dataset/train/images/Rock-Pigeon-192_jpg.rf.7b5c735433a8a5779a9b1da5dd590129.jpg  \n",
            " extracting: dataset/train/images/Rock-Pigeon-193_jpg.rf.72a392075f5fd4b9bb31b77e4e0768b3.jpg  \n",
            " extracting: dataset/train/images/Rock-Pigeon-196_jpg.rf.8235fafc39ead40c18d02a8401c6cba7.jpg  \n",
            " extracting: dataset/train/images/Rock-Pigeon-197_jpg.rf.06e2dfc15e84b7f05bde8f85efc4b70a.jpg  \n",
            " extracting: dataset/train/images/Rock-Pigeon-198_jpg.rf.a724ba46543f712b2f9d9d7cf2a936fc.jpg  \n",
            " extracting: dataset/train/images/Rock-Pigeon-19_jpg.rf.52dc7ff0707f05b7b8fa6f8b351ede99.jpg  \n",
            " extracting: dataset/train/images/Rock-Pigeon-1_jpg.rf.e4912392500906131915e60c65f6fe77.jpg  \n",
            " extracting: dataset/train/images/Rock-Pigeon-200_jpg.rf.872afd9fbbf7d805d4b27e026a95b2c2.jpg  \n",
            " extracting: dataset/train/images/Rock-Pigeon-201_jpg.rf.c5dbe4c4d18da951841ae8cc18e10391.jpg  \n",
            " extracting: dataset/train/images/Rock-Pigeon-202_jpg.rf.ba217ebb34b93435c4442f247c46c07a.jpg  \n",
            " extracting: dataset/train/images/Rock-Pigeon-203_jpg.rf.bef2f520b74ed3fa1b9e59aafd1e19a0.jpg  \n",
            " extracting: dataset/train/images/Rock-Pigeon-204_jpg.rf.5954b74296f8f33b1cea50545a7e0a57.jpg  \n",
            " extracting: dataset/train/images/Rock-Pigeon-205_jpg.rf.d289e1d75c9171a883c39763d00a2ec5.jpg  \n",
            " extracting: dataset/train/images/Rock-Pigeon-206_jpg.rf.e260d636b7646f701724dba66a6213df.jpg  \n",
            " extracting: dataset/train/images/Rock-Pigeon-208_jpg.rf.0b07e6b39325a95549a76934b5899fa2.jpg  \n",
            " extracting: dataset/train/images/Rock-Pigeon-209_jpg.rf.4298af56050b573b14a4d19b246907a0.jpg  \n",
            " extracting: dataset/train/images/Rock-Pigeon-20_jpg.rf.bd2c3dd5342f005ad98a9858f0241f5a.jpg  \n",
            " extracting: dataset/train/images/Rock-Pigeon-210_png.rf.42a927605344c57ab7633f80fa914995.jpg  \n",
            " extracting: dataset/train/images/Rock-Pigeon-211_jpg.rf.ee8ee75654366e18506d2f64d0deb1df.jpg  \n",
            " extracting: dataset/train/images/Rock-Pigeon-213_jpg.rf.f6b49305392cb0cc30238b42df972a23.jpg  \n",
            " extracting: dataset/train/images/Rock-Pigeon-214_jpg.rf.88a5013a08a01d5233202a1808d1d8b2.jpg  \n",
            " extracting: dataset/train/images/Rock-Pigeon-215_jpg.rf.0e4c2312034df13c7bcd5d6792783348.jpg  \n",
            " extracting: dataset/train/images/Rock-Pigeon-218_jpg.rf.96db400e2a05cb50c54cf23a731cb469.jpg  \n",
            " extracting: dataset/train/images/Rock-Pigeon-219_jpg.rf.805fabde9b60b7dfe181bb012a26134b.jpg  \n",
            " extracting: dataset/train/images/Rock-Pigeon-21_jpg.rf.4ea5ef44bfe66c968634bd1bac92dc8c.jpg  \n",
            " extracting: dataset/train/images/Rock-Pigeon-220_jpg.rf.5a2cd3e4b780c3b245c36845bd1d96cd.jpg  \n",
            " extracting: dataset/train/images/Rock-Pigeon-221_jpg.rf.7f0277856a26535e12218d48d35a393b.jpg  \n",
            " extracting: dataset/train/images/Rock-Pigeon-222_jpg.rf.65f78e0cf786047d3b573bb4b18dfc1e.jpg  \n",
            " extracting: dataset/train/images/Rock-Pigeon-223_jpg.rf.ac8115051be573ad3060b90c8f89cd12.jpg  \n",
            " extracting: dataset/train/images/Rock-Pigeon-224_jpg.rf.5e8b5353ca38124286d126e48ff497b0.jpg  \n",
            " extracting: dataset/train/images/Rock-Pigeon-225_jpg.rf.99912ee31f16d03a171202b7dc33e739.jpg  \n",
            " extracting: dataset/train/images/Rock-Pigeon-226_jpg.rf.dd6eb409ac391add56e5a6685ef7f792.jpg  \n",
            " extracting: dataset/train/images/Rock-Pigeon-227_jpg.rf.200bcad6bcf476003af537d02dddfc12.jpg  \n",
            " extracting: dataset/train/images/Rock-Pigeon-228_jpg.rf.1276283b5f84b59c1bad1482cfe97c42.jpg  \n",
            " extracting: dataset/train/images/Rock-Pigeon-229_jpg.rf.5e3e1b92e1bb18d545d29223a8427e10.jpg  \n",
            " extracting: dataset/train/images/Rock-Pigeon-230_jpg.rf.d8e5e0e1cfec0e24b40bb5737f8a08ab.jpg  \n",
            " extracting: dataset/train/images/Rock-Pigeon-231_jpg.rf.f21560e400301eedf94c306b24987c94.jpg  \n",
            " extracting: dataset/train/images/Rock-Pigeon-233_jpg.rf.75474b9024f8560166d5e313356f211b.jpg  \n",
            " extracting: dataset/train/images/Rock-Pigeon-234_jpg.rf.15d4f1ae9f99feec99585aadfa905308.jpg  \n",
            " extracting: dataset/train/images/Rock-Pigeon-235_jpg.rf.b274e779d11a9b124b0c19c10c125c9d.jpg  \n",
            " extracting: dataset/train/images/Rock-Pigeon-236_jpg.rf.9f9dfc33eb51f5fe4aba2f041cca81a4.jpg  \n",
            " extracting: dataset/train/images/Rock-Pigeon-237_jpg.rf.14d4cf9037d43739e2272912cd6474d6.jpg  \n",
            " extracting: dataset/train/images/Rock-Pigeon-239_jpg.rf.a87b33d21e7ba297e52f3a5eba5ef2a2.jpg  \n",
            " extracting: dataset/train/images/Rock-Pigeon-240_jpg.rf.2b45f838d9c91fbac773dadb3080d22e.jpg  \n",
            " extracting: dataset/train/images/Rock-Pigeon-241_jpg.rf.587b406c06e8d7aa7ffa7de45bd32349.jpg  \n",
            " extracting: dataset/train/images/Rock-Pigeon-242_jpg.rf.0a540307c862bab88939227bb68ab5f2.jpg  \n",
            " extracting: dataset/train/images/Rock-Pigeon-244_jpg.rf.368f754096314d98931b76fcf7a49e7d.jpg  \n",
            " extracting: dataset/train/images/Rock-Pigeon-246_jpg.rf.ae935a0df0824614c40abe9739776547.jpg  \n",
            " extracting: dataset/train/images/Rock-Pigeon-247_jpg.rf.f020acc2df47428a8f586502a8ac4409.jpg  \n",
            " extracting: dataset/train/images/Rock-Pigeon-249_jpg.rf.f1f53cae59c363d16b38e51064df3842.jpg  \n",
            " extracting: dataset/train/images/Rock-Pigeon-24_jpg.rf.03b115370862c2b89dc3fa8ec7cf7c78.jpg  \n",
            " extracting: dataset/train/images/Rock-Pigeon-250_jpg.rf.ec30c4a2f6d0cb107f064fd570fd5a35.jpg  \n",
            " extracting: dataset/train/images/Rock-Pigeon-251_jpg.rf.f4c746cf6a99cc76011e09e4bd20e427.jpg  \n",
            " extracting: dataset/train/images/Rock-Pigeon-252_jpg.rf.eca979c4bf652169b124e5ee0b8cdf79.jpg  \n",
            " extracting: dataset/train/images/Rock-Pigeon-253_jpg.rf.f30db6084df55c02a43cce98aad3c8a1.jpg  \n",
            " extracting: dataset/train/images/Rock-Pigeon-254_jpg.rf.a1c7fc7e402188c2042a7d1a729671ab.jpg  \n",
            " extracting: dataset/train/images/Rock-Pigeon-256_jpg.rf.329cb5512684f2fa5f77ebd0f22c0882.jpg  \n",
            " extracting: dataset/train/images/Rock-Pigeon-258_jpg.rf.d626586c139c76bc8ab5d223f42b54e5.jpg  \n",
            " extracting: dataset/train/images/Rock-Pigeon-259_jpg.rf.a4a3ff36b66d8f1de2d0d894085116cf.jpg  \n",
            " extracting: dataset/train/images/Rock-Pigeon-260_jpg.rf.28808a9cc07205c72443fa8b431e373e.jpg  \n",
            " extracting: dataset/train/images/Rock-Pigeon-261_jpg.rf.de985697993bec4f87828fa7b973e249.jpg  \n",
            " extracting: dataset/train/images/Rock-Pigeon-262_jpg.rf.b591ae1cad1d7fa493e32cb15cd42cbc.jpg  \n",
            " extracting: dataset/train/images/Rock-Pigeon-263_jpg.rf.3105089a61dd02aa243544d3c94a9f24.jpg  \n",
            " extracting: dataset/train/images/Rock-Pigeon-264_jpg.rf.de35e942876a6fd63e1cbbd06c1ee19c.jpg  \n",
            " extracting: dataset/train/images/Rock-Pigeon-266_jpg.rf.74b43c58e1d8ae5c419570b751c5afde.jpg  \n",
            " extracting: dataset/train/images/Rock-Pigeon-267_jpg.rf.052871230240697e126b1185c22d224d.jpg  \n",
            " extracting: dataset/train/images/Rock-Pigeon-269_jpg.rf.c5667f66be20d03b565adddf31617d43.jpg  \n",
            " extracting: dataset/train/images/Rock-Pigeon-26_jpg.rf.3f1b66084c251af705f0db672676b88d.jpg  \n",
            " extracting: dataset/train/images/Rock-Pigeon-270_jpg.rf.7ab06904551883c679e9a00b4b445d21.jpg  \n",
            " extracting: dataset/train/images/Rock-Pigeon-272_jpg.rf.6c8e75dfb5a35e6079e950b4b4ffbbca.jpg  \n",
            " extracting: dataset/train/images/Rock-Pigeon-273_jpg.rf.6a8faaae03687868b19f2d422f07fb60.jpg  \n",
            " extracting: dataset/train/images/Rock-Pigeon-274_jpg.rf.3bf8d09c7ceca32bf0aad64790d3b858.jpg  \n",
            " extracting: dataset/train/images/Rock-Pigeon-275_jpg.rf.4cc7129d912b25c492a24a8b2c3ef114.jpg  \n",
            " extracting: dataset/train/images/Rock-Pigeon-278_jpg.rf.7e942962794aaa9b861865ae066cc46f.jpg  \n",
            " extracting: dataset/train/images/Rock-Pigeon-279_jpg.rf.a8efed12f4ea6ef50f9487f97ff827e8.jpg  \n",
            " extracting: dataset/train/images/Rock-Pigeon-27_jpg.rf.b6f4e08a00ac39c464142100e3e85aa8.jpg  \n",
            " extracting: dataset/train/images/Rock-Pigeon-280_jpg.rf.0b378d229c6bde199b94a46bd868108c.jpg  \n",
            " extracting: dataset/train/images/Rock-Pigeon-281_jpg.rf.1155ac7449c488f699b52eb7659efd51.jpg  \n",
            " extracting: dataset/train/images/Rock-Pigeon-282_jpg.rf.5fcbdd664058bc57a92d1f6ac50edec0.jpg  \n",
            " extracting: dataset/train/images/Rock-Pigeon-283_jpg.rf.e650b5ee3b1e4c2e6dd00ec65a974a99.jpg  \n",
            " extracting: dataset/train/images/Rock-Pigeon-284_jpg.rf.cb166671c4a3d5b562fe809a15af0da8.jpg  \n",
            " extracting: dataset/train/images/Rock-Pigeon-285_jpg.rf.eb2858698023df51e14c2648c4039998.jpg  \n",
            " extracting: dataset/train/images/Rock-Pigeon-286_jpg.rf.406d6315a7c870442171f32076ba0846.jpg  \n",
            " extracting: dataset/train/images/Rock-Pigeon-287_jpg.rf.8d88d73b343585416acbb289b45f0828.jpg  \n",
            " extracting: dataset/train/images/Rock-Pigeon-288_jpg.rf.4b80e65c9b530b6fee72e711de198d69.jpg  \n",
            " extracting: dataset/train/images/Rock-Pigeon-28_jpg.rf.589e7731b659e726dee89ed57a27b79a.jpg  \n",
            " extracting: dataset/train/images/Rock-Pigeon-291_jpg.rf.0ce825309d1dae637aed14bdf5d1bd76.jpg  \n",
            " extracting: dataset/train/images/Rock-Pigeon-292_jpg.rf.a7d196ee530aa00f572cc68c10cace2f.jpg  \n",
            " extracting: dataset/train/images/Rock-Pigeon-293_jpg.rf.ece62d15e37fdf165c5d60570f8f2065.jpg  \n",
            " extracting: dataset/train/images/Rock-Pigeon-294_jpg.rf.41d4058e65215aff73974785bdbff844.jpg  \n",
            " extracting: dataset/train/images/Rock-Pigeon-295_jpg.rf.0befc888902b708bb3a1cc76521ee42d.jpg  \n",
            " extracting: dataset/train/images/Rock-Pigeon-296_jpg.rf.c98515fa529b6fe2afa75d8c7368a580.jpg  \n",
            " extracting: dataset/train/images/Rock-Pigeon-298_jpg.rf.115442dc26a0ca082f7c5658a48e655f.jpg  \n",
            " extracting: dataset/train/images/Rock-Pigeon-29_jpg.rf.bec4fe65fb006e2f2376887da0df0292.jpg  \n",
            " extracting: dataset/train/images/Rock-Pigeon-2_jpg.rf.be8bfefe237ae47ed4a6188f146d646e.jpg  \n",
            " extracting: dataset/train/images/Rock-Pigeon-300_jpg.rf.44ce642a2a10128232b3d1ab576af517.jpg  \n",
            " extracting: dataset/train/images/Rock-Pigeon-302_jpg.rf.9790c94b38a0ad911744edf7d46c2d91.jpg  \n",
            " extracting: dataset/train/images/Rock-Pigeon-304_jpg.rf.8e5dd50e9e25cf9b9e2429e4587df9cc.jpg  \n",
            " extracting: dataset/train/images/Rock-Pigeon-305_jpg.rf.64fb9ff7749e9ab43e6eceb441d23dae.jpg  \n",
            " extracting: dataset/train/images/Rock-Pigeon-306_jpg.rf.6365dc13cd181167f7893a0cd370e43f.jpg  \n",
            " extracting: dataset/train/images/Rock-Pigeon-307_jpg.rf.642afaf21de730910a17651dfc7d4419.jpg  \n",
            " extracting: dataset/train/images/Rock-Pigeon-308_jpg.rf.31c896991a0c5856587321ea0e587403.jpg  \n",
            " extracting: dataset/train/images/Rock-Pigeon-309_jpg.rf.d9f3fa206dfbf7d25bf162169877d187.jpg  \n",
            " extracting: dataset/train/images/Rock-Pigeon-310_jpg.rf.08e8718015ac1350258db3c64db147b3.jpg  \n",
            " extracting: dataset/train/images/Rock-Pigeon-311_jpg.rf.92d1eb3643c135c2c2ab97f130fe3c49.jpg  \n",
            " extracting: dataset/train/images/Rock-Pigeon-312_jpg.rf.fda2f2a6bcedf008007f6ee4eb853e60.jpg  \n",
            " extracting: dataset/train/images/Rock-Pigeon-313_jpg.rf.36156ca260ecbcea5433e1f76f5c680d.jpg  \n",
            " extracting: dataset/train/images/Rock-Pigeon-314_jpg.rf.7e675f655354c422da6dbbdc1291edf5.jpg  \n",
            " extracting: dataset/train/images/Rock-Pigeon-315_jpg.rf.7af63a60656d2d066773bcc3ea02fad9.jpg  \n",
            " extracting: dataset/train/images/Rock-Pigeon-316_jpg.rf.4877e6750385e3a07d3109fe2a3ea032.jpg  \n",
            " extracting: dataset/train/images/Rock-Pigeon-317_jpg.rf.04ef3b7158cbd74e38607b201e094089.jpg  \n",
            " extracting: dataset/train/images/Rock-Pigeon-318_jpg.rf.2eeacd11c0aa73bc7331e9db14a180de.jpg  \n",
            " extracting: dataset/train/images/Rock-Pigeon-319_jpg.rf.6197ddafa089db51c7707b44fe7458ac.jpg  \n",
            " extracting: dataset/train/images/Rock-Pigeon-31_jpg.rf.2a99b5ba51945ddc65475deca9b8e937.jpg  \n",
            " extracting: dataset/train/images/Rock-Pigeon-320_jpg.rf.45670f3286c743755a7ebcd39e1889b7.jpg  \n",
            " extracting: dataset/train/images/Rock-Pigeon-321_jpg.rf.fd408b63149ff20e23ecdad518600f5d.jpg  \n",
            " extracting: dataset/train/images/Rock-Pigeon-322_jpg.rf.df188970873e98951b3867f3fd4e9df8.jpg  \n",
            " extracting: dataset/train/images/Rock-Pigeon-323_jpg.rf.094a88e6d889edcc35006d2ce69f12a6.jpg  \n",
            " extracting: dataset/train/images/Rock-Pigeon-325_jpg.rf.6d3ac438730ca1e64416ab50de1dd08d.jpg  \n",
            " extracting: dataset/train/images/Rock-Pigeon-326_jpg.rf.b8f592ac50e9d2c4abbf6b11bad09f30.jpg  \n",
            " extracting: dataset/train/images/Rock-Pigeon-328_jpg.rf.6fadf13be6931438ae3462d885857065.jpg  \n",
            " extracting: dataset/train/images/Rock-Pigeon-329_jpg.rf.d26cb4f8ba33feb1d3503b43e0413c7b.jpg  \n",
            " extracting: dataset/train/images/Rock-Pigeon-32_jpg.rf.8091a7b3e88f41a41b1bf77f74d090c6.jpg  \n",
            " extracting: dataset/train/images/Rock-Pigeon-330_jpg.rf.1e026bd8bfd9dd83b625ffe1ce71a4b7.jpg  \n",
            " extracting: dataset/train/images/Rock-Pigeon-331_jpg.rf.bcd06ec82b6ed4c9fae737d36f6a179f.jpg  \n",
            " extracting: dataset/train/images/Rock-Pigeon-332_jpg.rf.0870a7f9b1baed3bea2b18324c1aff17.jpg  \n",
            " extracting: dataset/train/images/Rock-Pigeon-334_jpg.rf.c2cb2681768f21804bdd85503f08d5ec.jpg  \n",
            " extracting: dataset/train/images/Rock-Pigeon-336_jpg.rf.63b30b35e6d4b7f9db4727f7a6cb0f4e.jpg  \n",
            " extracting: dataset/train/images/Rock-Pigeon-338_jpg.rf.3813424fdf30d3f9ea7c1482cd1da744.jpg  \n",
            " extracting: dataset/train/images/Rock-Pigeon-339_jpg.rf.ca5fb9821c59401f349be5ab3866b775.jpg  \n",
            " extracting: dataset/train/images/Rock-Pigeon-33_jpg.rf.d8345574eeae0709f5409ca767995dd9.jpg  \n",
            " extracting: dataset/train/images/Rock-Pigeon-340_jpg.rf.f82f1e617aa79abbe435fd136829d9ad.jpg  \n",
            " extracting: dataset/train/images/Rock-Pigeon-341_jpg.rf.391a250351cc6f937c3d39ecd7d202d7.jpg  \n",
            " extracting: dataset/train/images/Rock-Pigeon-342_jpg.rf.7f108586fe2d5e7abaf2fa83daece855.jpg  \n",
            " extracting: dataset/train/images/Rock-Pigeon-343_jpg.rf.e95ff6ea99909ae652934007cda1bdde.jpg  \n",
            " extracting: dataset/train/images/Rock-Pigeon-344_jpg.rf.567313ca69615d4f69f6ee528b04fb2a.jpg  \n",
            " extracting: dataset/train/images/Rock-Pigeon-345_jpg.rf.856f0f4590a81a534eb693b8ea347926.jpg  \n",
            " extracting: dataset/train/images/Rock-Pigeon-346_jpg.rf.646a0b5fdb80447e6a646632d93b7369.jpg  \n",
            " extracting: dataset/train/images/Rock-Pigeon-348_jpg.rf.c5ae450eb4217784c2239ce5b2620fdf.jpg  \n",
            " extracting: dataset/train/images/Rock-Pigeon-34_jpg.rf.07f257e7652d02a01eb8f7b795113de6.jpg  \n",
            " extracting: dataset/train/images/Rock-Pigeon-350_jpg.rf.3c8e0cac96d07e7f681fbf1243876ee8.jpg  \n",
            " extracting: dataset/train/images/Rock-Pigeon-351_jpg.rf.3624817f28c2e28a72829b286a8d4271.jpg  \n",
            " extracting: dataset/train/images/Rock-Pigeon-352_jpg.rf.10771eeffe5798c9afcae8467c931a28.jpg  \n",
            " extracting: dataset/train/images/Rock-Pigeon-354_jpg.rf.8ec3adc556d8c8bd84e643a48d37934f.jpg  \n",
            " extracting: dataset/train/images/Rock-Pigeon-355_jpg.rf.1b611e10d53e69b2fde0d0c950d35ad9.jpg  \n",
            " extracting: dataset/train/images/Rock-Pigeon-356_jpg.rf.a11d715fa02095b52e829b0a805ac3db.jpg  \n",
            " extracting: dataset/train/images/Rock-Pigeon-357_jpg.rf.e1e45198c6e31a34f0c9d1ec9989259e.jpg  \n",
            " extracting: dataset/train/images/Rock-Pigeon-358_jpg.rf.bed26da9f3841e98df867d64c05facb6.jpg  \n",
            " extracting: dataset/train/images/Rock-Pigeon-359_jpg.rf.02ce8c24c80613ebfda7edf29481a244.jpg  \n",
            " extracting: dataset/train/images/Rock-Pigeon-360_jpg.rf.f121d7a22dac4637a9af13e170ebbf3b.jpg  \n",
            " extracting: dataset/train/images/Rock-Pigeon-361_jpg.rf.4a5e3e6251ac7d8c13d35c36df10ebd7.jpg  \n",
            " extracting: dataset/train/images/Rock-Pigeon-362_jpg.rf.fc4313b168ae42b5fbee0d7473daf6af.jpg  \n",
            " extracting: dataset/train/images/Rock-Pigeon-363_jpg.rf.a9222a18e593cd9b937376fb8eefc7ef.jpg  \n",
            " extracting: dataset/train/images/Rock-Pigeon-364_jpg.rf.a426b8a90c04192c6465616db65c6712.jpg  \n",
            " extracting: dataset/train/images/Rock-Pigeon-365_jpg.rf.85ef54b99b1edaa06321ea823fa044eb.jpg  \n",
            " extracting: dataset/train/images/Rock-Pigeon-366_jpg.rf.17672a6e0a3312e13213b9e4a9edfe22.jpg  \n",
            " extracting: dataset/train/images/Rock-Pigeon-367_jpg.rf.229193a6392a3094b989a1676ce2b6c6.jpg  \n",
            " extracting: dataset/train/images/Rock-Pigeon-369_jpg.rf.571e2894cadcfd6c2962e7b7f527a885.jpg  \n",
            " extracting: dataset/train/images/Rock-Pigeon-36_jpg.rf.ac2a968e692afbc3902f4ab016d6ef79.jpg  \n",
            " extracting: dataset/train/images/Rock-Pigeon-371_jpg.rf.6920a14924c757b497f23358d18b71a5.jpg  \n",
            " extracting: dataset/train/images/Rock-Pigeon-37_jpg.rf.7087aab9122a4f3b9c89bf013ae3272a.jpg  \n",
            " extracting: dataset/train/images/Rock-Pigeon-38_jpg.rf.b3880b1e76ca846776ca91b7e765afca.jpg  \n",
            " extracting: dataset/train/images/Rock-Pigeon-39_jpg.rf.0a917a7faefe225fc66c2b4b98e0d857.jpg  \n",
            " extracting: dataset/train/images/Rock-Pigeon-3_jpg.rf.972a8894e6cfac709ead3aaee2130add.jpg  \n",
            " extracting: dataset/train/images/Rock-Pigeon-40_jpg.rf.1a362ef0f88f354c4bb206f67298e5e2.jpg  \n",
            " extracting: dataset/train/images/Rock-Pigeon-41_jpg.rf.73170d3977707f225a609acef0f149f6.jpg  \n",
            " extracting: dataset/train/images/Rock-Pigeon-42_jpg.rf.28473c5ab9ce401b6d9acdfdfd422d3a.jpg  \n",
            " extracting: dataset/train/images/Rock-Pigeon-43_jpg.rf.d2002f82454421f6bb0f1bca78d4dd75.jpg  \n",
            " extracting: dataset/train/images/Rock-Pigeon-44_jpg.rf.ba520e27278bca8da96f04a0f4f6ae63.jpg  \n",
            " extracting: dataset/train/images/Rock-Pigeon-45_jpg.rf.9ad85d28201955bd3cde28d1778fd618.jpg  \n",
            " extracting: dataset/train/images/Rock-Pigeon-47_jpg.rf.d120a16ab43cd4ead4c55a6ab75749a7.jpg  \n",
            " extracting: dataset/train/images/Rock-Pigeon-48_jpg.rf.5a73b4b1829c8858861b00725c247db7.jpg  \n",
            " extracting: dataset/train/images/Rock-Pigeon-4_jpg.rf.603da0cf5e0ca534493a56c607a85c2d.jpg  \n",
            " extracting: dataset/train/images/Rock-Pigeon-50_jpg.rf.7f76d04c4a53752e9a3a263ca129d42a.jpg  \n",
            " extracting: dataset/train/images/Rock-Pigeon-51_jpg.rf.e0c84c34ea3b63178c6ca8ab92ecac82.jpg  \n",
            " extracting: dataset/train/images/Rock-Pigeon-52_jpg.rf.61a0d1a41a9c921889178231c2dc2695.jpg  \n",
            " extracting: dataset/train/images/Rock-Pigeon-54_jpg.rf.66aa2b288fb643547f2dc60e84430dba.jpg  \n",
            " extracting: dataset/train/images/Rock-Pigeon-55_jpg.rf.f5e3c0d2d125f84c5bb6630db98d2339.jpg  \n",
            " extracting: dataset/train/images/Rock-Pigeon-56_jpg.rf.a4bc31c86593319a20d00338b5bae084.jpg  \n",
            " extracting: dataset/train/images/Rock-Pigeon-57_jpg.rf.de67ceaca9d3b9ddca5a3d7255cf50fc.jpg  \n",
            " extracting: dataset/train/images/Rock-Pigeon-58_jpg.rf.c3d58468a4820d636557396e809c3f97.jpg  \n",
            " extracting: dataset/train/images/Rock-Pigeon-59_jpg.rf.fe033260f30dae88a99000d399eeb7dd.jpg  \n",
            " extracting: dataset/train/images/Rock-Pigeon-5_jpg.rf.fc70e96f7854e717647ab1e44b132705.jpg  \n",
            " extracting: dataset/train/images/Rock-Pigeon-60_jpg.rf.06e064955470591ad3f2e38c4181f1ff.jpg  \n",
            " extracting: dataset/train/images/Rock-Pigeon-62_jpg.rf.e75f2c007916a40fc6281ef6d83309c0.jpg  \n",
            " extracting: dataset/train/images/Rock-Pigeon-63_jpg.rf.7dd8f5598b36f0f9805b0e670947328d.jpg  \n",
            " extracting: dataset/train/images/Rock-Pigeon-64_jpg.rf.7d0a62abfebd1f4808f631fc33c5a161.jpg  \n",
            " extracting: dataset/train/images/Rock-Pigeon-65_jpg.rf.4a8779c532f62b6e3a1efefcbbcdb58b.jpg  \n",
            " extracting: dataset/train/images/Rock-Pigeon-66_jpg.rf.25aa2c5de8566b15512d099dd36882f7.jpg  \n",
            " extracting: dataset/train/images/Rock-Pigeon-67_jpg.rf.ef48390ba7cd48743e27c0ec5df98f74.jpg  \n",
            " extracting: dataset/train/images/Rock-Pigeon-68_jpg.rf.8ddd85e863ad3c86905c209358239393.jpg  \n",
            " extracting: dataset/train/images/Rock-Pigeon-69_jpg.rf.52f3c4ee281393126234aad52d01ab39.jpg  \n",
            " extracting: dataset/train/images/Rock-Pigeon-6_jpg.rf.b79dd74eaf3c3dbe6ff3e19cbdefc13e.jpg  \n",
            " extracting: dataset/train/images/Rock-Pigeon-71_jpg.rf.1a2fd46c74594bd22ad732004e544003.jpg  \n",
            " extracting: dataset/train/images/Rock-Pigeon-73_jpg.rf.ad3c92678e2323d1e77de83e31e820b2.jpg  \n",
            " extracting: dataset/train/images/Rock-Pigeon-75_jpg.rf.fcd670639cfcaf6f6329f8781153b09f.jpg  \n",
            " extracting: dataset/train/images/Rock-Pigeon-76_jpg.rf.2168dc52391920ac8e96c31438d96227.jpg  \n",
            " extracting: dataset/train/images/Rock-Pigeon-77_jpg.rf.c59e43fd6263e1a43cef26ea59b43148.jpg  \n",
            " extracting: dataset/train/images/Rock-Pigeon-78_jpg.rf.e75f7f56f583cfe17617bf64e3d95cc5.jpg  \n",
            " extracting: dataset/train/images/Rock-Pigeon-79_jpg.rf.8b1857b848c59e716bfdd9359181284f.jpg  \n",
            " extracting: dataset/train/images/Rock-Pigeon-7_jpg.rf.e7d7f59488bab6460968d89998f1d4a0.jpg  \n",
            " extracting: dataset/train/images/Rock-Pigeon-80_jpg.rf.3edda52f05ae34855b9c49672704921b.jpg  \n",
            " extracting: dataset/train/images/Rock-Pigeon-81_jpg.rf.a9d8b07fcbccb00231e97c9fe96d79ef.jpg  \n",
            " extracting: dataset/train/images/Rock-Pigeon-82_jpg.rf.43a68c36260f622307906c403b90b681.jpg  \n",
            " extracting: dataset/train/images/Rock-Pigeon-83_jpg.rf.cfbb3a9a003c4dff2fe46aa9f84b0f39.jpg  \n",
            " extracting: dataset/train/images/Rock-Pigeon-85_jpg.rf.9a40b353201cf95f061f3d41cca35dba.jpg  \n",
            " extracting: dataset/train/images/Rock-Pigeon-86_jpg.rf.05663377b3c91fd651c8b1d55bed06ae.jpg  \n",
            " extracting: dataset/train/images/Rock-Pigeon-89_jpg.rf.f905ec82e5bcec56794dcee2f2320f7e.jpg  \n",
            " extracting: dataset/train/images/Rock-Pigeon-8_jpg.rf.3a7010b2fd12b2699466ce8efddd6b61.jpg  \n",
            " extracting: dataset/train/images/Rock-Pigeon-90_jpg.rf.ec88f063e474e451c51f3dd4df2b6660.jpg  \n",
            " extracting: dataset/train/images/Rock-Pigeon-91_jpg.rf.df1d21f260986a2de62da27b3ac6d0a7.jpg  \n",
            " extracting: dataset/train/images/Rock-Pigeon-92_jpg.rf.cffbac5e661080dfe15f531347fd5233.jpg  \n",
            " extracting: dataset/train/images/Rock-Pigeon-93_jpg.rf.0516fce6a901acf492d03fe9550e017b.jpg  \n",
            " extracting: dataset/train/images/Rock-Pigeon-94_jpg.rf.ec0e2bc316ac621fc7f647893172a047.jpg  \n",
            " extracting: dataset/train/images/Rock-Pigeon-95_jpg.rf.ebb9f57bca6d6da7d9b1e3d46658078e.jpg  \n",
            " extracting: dataset/train/images/Rock-Pigeon-96_jpg.rf.de1a4c805ee0e66ce41f11b5bbfd0732.jpg  \n",
            " extracting: dataset/train/images/Rock-Pigeon-97_jpg.rf.9e3363ef1aa592eac0e00cb2e5fbf62c.jpg  \n",
            " extracting: dataset/train/images/Rock-Pigeon-98_jpg.rf.7024726fe1660dd2e2b591ca3def51f6.jpg  \n",
            " extracting: dataset/train/images/Rock-Pigeon-9_jpg.rf.2d285b7614433f4e85c4218f4ff9cb0e.jpg  \n",
            "   creating: dataset/train/labels/\n",
            "  inflating: dataset/train/labels/Rock-Pigeon-101_jpg.rf.51321a56b61091d941240ac59a2f3955.txt  \n",
            "  inflating: dataset/train/labels/Rock-Pigeon-102_jpg.rf.04779e7312c1e196ceec4c6640b53197.txt  \n",
            "  inflating: dataset/train/labels/Rock-Pigeon-103_jpg.rf.47af94dfc2a2efc9268cff1ea13d4299.txt  \n",
            "  inflating: dataset/train/labels/Rock-Pigeon-104_jpg.rf.4a8fe2e443057711b48f2b0ba4308fb7.txt  \n",
            "  inflating: dataset/train/labels/Rock-Pigeon-106_jpg.rf.31191a62ed28bfc4471569182a6a5550.txt  \n",
            "  inflating: dataset/train/labels/Rock-Pigeon-108_jpg.rf.33f433adedc651d521ca8fe24f2e7ed2.txt  \n",
            "  inflating: dataset/train/labels/Rock-Pigeon-10_jpg.rf.eec3287f1890ddc09f220652f4325b5a.txt  \n",
            "  inflating: dataset/train/labels/Rock-Pigeon-111_jpg.rf.aeba73666f7ce5922518d4ab8413be59.txt  \n",
            "  inflating: dataset/train/labels/Rock-Pigeon-112_jpg.rf.1bd3907440f5a3efe364324773c2ca08.txt  \n",
            "  inflating: dataset/train/labels/Rock-Pigeon-113_jpg.rf.eb0353b837cd0af1ca121801379da274.txt  \n",
            "  inflating: dataset/train/labels/Rock-Pigeon-114_jpg.rf.e8fb6791d41bf4d2b9d933b6be0fc63e.txt  \n",
            "  inflating: dataset/train/labels/Rock-Pigeon-115_jpg.rf.a95a3f2f875f98af94abd80c55fe3439.txt  \n",
            "  inflating: dataset/train/labels/Rock-Pigeon-116_jpg.rf.4f7ba1d7ea5084732f664e61d6a3d965.txt  \n",
            "  inflating: dataset/train/labels/Rock-Pigeon-117_jpg.rf.75453059cd34f513375fb5833456449d.txt  \n",
            "  inflating: dataset/train/labels/Rock-Pigeon-119_jpg.rf.1d0394c32b11626f39cbef1a04bb71d7.txt  \n",
            "  inflating: dataset/train/labels/Rock-Pigeon-11_jpg.rf.9e2dde915cee54a2e7775dfbe5d6c349.txt  \n",
            "  inflating: dataset/train/labels/Rock-Pigeon-120_jpg.rf.8bae2c3603a9aeaa858b1e0ba6e6260b.txt  \n",
            "  inflating: dataset/train/labels/Rock-Pigeon-121_jpg.rf.f016e0ba95ac1ddda505368b1e0a31e3.txt  \n",
            "  inflating: dataset/train/labels/Rock-Pigeon-122_jpg.rf.636647310b96b47cc35d6e516efe0b2b.txt  \n",
            "  inflating: dataset/train/labels/Rock-Pigeon-123_jpg.rf.fed7ec30b90dcacdb724df66a3976935.txt  \n",
            "  inflating: dataset/train/labels/Rock-Pigeon-124_jpg.rf.b87cc56c04aa83e56de6b4d65e3656ae.txt  \n",
            "  inflating: dataset/train/labels/Rock-Pigeon-125_jpg.rf.94a35f8e2da4b8d6af30de7fce4a6a0b.txt  \n",
            "  inflating: dataset/train/labels/Rock-Pigeon-126_jpg.rf.7a06f21b4629115c8d9bd648ee256d82.txt  \n",
            "  inflating: dataset/train/labels/Rock-Pigeon-127_jpg.rf.678eff7ce7d12b3731bc7bb1f9f35546.txt  \n",
            "  inflating: dataset/train/labels/Rock-Pigeon-128_jpg.rf.40081a67de3913a3b1945c3541cfb53b.txt  \n",
            "  inflating: dataset/train/labels/Rock-Pigeon-129_jpg.rf.c23fef3132bda239ecfcb464e6bd5ecd.txt  \n",
            "  inflating: dataset/train/labels/Rock-Pigeon-130_jpg.rf.84e534f9bb5f33552118c3d2ccdb2611.txt  \n",
            "  inflating: dataset/train/labels/Rock-Pigeon-131_jpg.rf.b82ca583dfd4d1b46ca08751030a17d6.txt  \n",
            "  inflating: dataset/train/labels/Rock-Pigeon-132_jpg.rf.95665c2f38f2b238613e9b795c2094d3.txt  \n",
            "  inflating: dataset/train/labels/Rock-Pigeon-134_jpg.rf.f172fe006a32ea287852564816ad56c9.txt  \n",
            "  inflating: dataset/train/labels/Rock-Pigeon-135_jpg.rf.1bd045f46b423d643b5b342ad3fea1a4.txt  \n",
            "  inflating: dataset/train/labels/Rock-Pigeon-137_jpg.rf.fe8b7d2fcf4c15560de22d063da0635c.txt  \n",
            "  inflating: dataset/train/labels/Rock-Pigeon-138_jpg.rf.19385d81d7780a3b188d128d73f11e36.txt  \n",
            "  inflating: dataset/train/labels/Rock-Pigeon-139_jpg.rf.3090764d8cc8957b58aeb49eb034086f.txt  \n",
            "  inflating: dataset/train/labels/Rock-Pigeon-13_jpg.rf.4a8782db4c9ed85089f824b90c0c75c2.txt  \n",
            "  inflating: dataset/train/labels/Rock-Pigeon-140_jpg.rf.cde76618c406afce3fad6fd71ffa0e52.txt  \n",
            "  inflating: dataset/train/labels/Rock-Pigeon-142_jpg.rf.98584b73a2e05112efe8fcd6dcb0b188.txt  \n",
            "  inflating: dataset/train/labels/Rock-Pigeon-143_jpg.rf.0c5f5eb81704ddb9b75432687be2531a.txt  \n",
            "  inflating: dataset/train/labels/Rock-Pigeon-145_jpg.rf.ac53d75e354194dac18a6c075845eb7d.txt  \n",
            "  inflating: dataset/train/labels/Rock-Pigeon-146_jpg.rf.5f58e7aefca5cca5e5f088e52648c5f1.txt  \n",
            "  inflating: dataset/train/labels/Rock-Pigeon-147_jpg.rf.b03cbf9ce3a9553a6cbecd5e2a48a437.txt  \n",
            "  inflating: dataset/train/labels/Rock-Pigeon-148_jpg.rf.42bd4092696c812e9eb74cfdeec27f06.txt  \n",
            "  inflating: dataset/train/labels/Rock-Pigeon-149_jpg.rf.c44d7e347acf706707fc91ee0bf4f999.txt  \n",
            "  inflating: dataset/train/labels/Rock-Pigeon-150_jpg.rf.04dfb34060cb2b040071e461c85c6bae.txt  \n",
            "  inflating: dataset/train/labels/Rock-Pigeon-151_jpg.rf.f06e519f4b4d0d57821e2d0adee9f3eb.txt  \n",
            "  inflating: dataset/train/labels/Rock-Pigeon-152_png.rf.dbaaccb308719b8d0950fa25e47ab552.txt  \n",
            "  inflating: dataset/train/labels/Rock-Pigeon-153_jpg.rf.ef467a17e463a132a5367b35eb521275.txt  \n",
            "  inflating: dataset/train/labels/Rock-Pigeon-154_jpg.rf.2a344df99b31ae51e2ef483a4e0133bc.txt  \n",
            "  inflating: dataset/train/labels/Rock-Pigeon-155_jpg.rf.f7a9f0d9b70adf2996fcbaa19e5d3ce9.txt  \n",
            "  inflating: dataset/train/labels/Rock-Pigeon-156_jpg.rf.5d95ecae1a68db65151b5e362d6c44b6.txt  \n",
            "  inflating: dataset/train/labels/Rock-Pigeon-158_jpg.rf.95ad9b99d221edaa0510fcbdaafe4c9e.txt  \n",
            "  inflating: dataset/train/labels/Rock-Pigeon-159_jpeg.rf.6d590ab2bc432a61fc1ab115d0b4134b.txt  \n",
            "  inflating: dataset/train/labels/Rock-Pigeon-15_jpg.rf.bd47d511b3bfe1495ab732fec9e80147.txt  \n",
            "  inflating: dataset/train/labels/Rock-Pigeon-160_jpeg.rf.ab8d13bc26fa1779796996852381d8be.txt  \n",
            "  inflating: dataset/train/labels/Rock-Pigeon-161_jpeg.rf.3cfe1aa834777073992e775c81a80199.txt  \n",
            "  inflating: dataset/train/labels/Rock-Pigeon-162_jpg.rf.137de325ffc9ae078755c6c6e3ef88e7.txt  \n",
            "  inflating: dataset/train/labels/Rock-Pigeon-164_jpg.rf.1c12772fafdcfd64b84f0bf044c0882c.txt  \n",
            "  inflating: dataset/train/labels/Rock-Pigeon-165_jpg.rf.455b87c759f9965af86cea11677142eb.txt  \n",
            "  inflating: dataset/train/labels/Rock-Pigeon-167_jpg.rf.695cdcc90eb3baca709607d4a9e69dc0.txt  \n",
            "  inflating: dataset/train/labels/Rock-Pigeon-168_jpg.rf.042d1463a2b29b0eeebd8fa4c5267c08.txt  \n",
            "  inflating: dataset/train/labels/Rock-Pigeon-169_jpg.rf.96abb137200618317f332df650884eae.txt  \n",
            "  inflating: dataset/train/labels/Rock-Pigeon-16_jpg.rf.692a0a64afb064335afe2a70e46d67a2.txt  \n",
            "  inflating: dataset/train/labels/Rock-Pigeon-170_jpg.rf.0bbb40ddde2696651992bd613eb745cd.txt  \n",
            "  inflating: dataset/train/labels/Rock-Pigeon-171_jpg.rf.10d9bfdeff31b1b87688841f0f09e0a7.txt  \n",
            "  inflating: dataset/train/labels/Rock-Pigeon-172_jpg.rf.7296a367aa4e086c7a999f976a96c994.txt  \n",
            "  inflating: dataset/train/labels/Rock-Pigeon-173_jpg.rf.7f8ed023f94be519c2d2a3c3a82c673d.txt  \n",
            "  inflating: dataset/train/labels/Rock-Pigeon-175_jpg.rf.32ed94516e82defbdc6ac9a60a1f85f3.txt  \n",
            "  inflating: dataset/train/labels/Rock-Pigeon-176_jpeg.rf.1f4188476655bd240810f152ddd05b05.txt  \n",
            "  inflating: dataset/train/labels/Rock-Pigeon-177_jpg.rf.d0e244d0143a479412e16c9b54900dd0.txt  \n",
            "  inflating: dataset/train/labels/Rock-Pigeon-179_jpg.rf.58e88245aba56707f389afeca182f84f.txt  \n",
            "  inflating: dataset/train/labels/Rock-Pigeon-182_jpg.rf.ff723ae5d16b8160b2d36a5f05ecb656.txt  \n",
            "  inflating: dataset/train/labels/Rock-Pigeon-184_jpg.rf.1d42f1d14d51db8d0e2b2d1226899bed.txt  \n",
            "  inflating: dataset/train/labels/Rock-Pigeon-185_jpg.rf.7d20b46eddf6f2b41574c990355f96ea.txt  \n",
            "  inflating: dataset/train/labels/Rock-Pigeon-186_JPG.rf.62499a2f7720e8cb13ad0d0b63cdeb41.txt  \n",
            "  inflating: dataset/train/labels/Rock-Pigeon-187_jpg.rf.ab237d2659b06149c054e2c8a32abe97.txt  \n",
            "  inflating: dataset/train/labels/Rock-Pigeon-189_jpg.rf.0893c0dd42fd7df344893701489aa25d.txt  \n",
            "  inflating: dataset/train/labels/Rock-Pigeon-18_jpg.rf.a6dd6fb9a1d30607bfcca75fa407b474.txt  \n",
            "  inflating: dataset/train/labels/Rock-Pigeon-192_jpg.rf.7b5c735433a8a5779a9b1da5dd590129.txt  \n",
            "  inflating: dataset/train/labels/Rock-Pigeon-193_jpg.rf.72a392075f5fd4b9bb31b77e4e0768b3.txt  \n",
            "  inflating: dataset/train/labels/Rock-Pigeon-196_jpg.rf.8235fafc39ead40c18d02a8401c6cba7.txt  \n",
            "  inflating: dataset/train/labels/Rock-Pigeon-197_jpg.rf.06e2dfc15e84b7f05bde8f85efc4b70a.txt  \n",
            "  inflating: dataset/train/labels/Rock-Pigeon-198_jpg.rf.a724ba46543f712b2f9d9d7cf2a936fc.txt  \n",
            "  inflating: dataset/train/labels/Rock-Pigeon-19_jpg.rf.52dc7ff0707f05b7b8fa6f8b351ede99.txt  \n",
            "  inflating: dataset/train/labels/Rock-Pigeon-1_jpg.rf.e4912392500906131915e60c65f6fe77.txt  \n",
            "  inflating: dataset/train/labels/Rock-Pigeon-200_jpg.rf.872afd9fbbf7d805d4b27e026a95b2c2.txt  \n",
            "  inflating: dataset/train/labels/Rock-Pigeon-201_jpg.rf.c5dbe4c4d18da951841ae8cc18e10391.txt  \n",
            "  inflating: dataset/train/labels/Rock-Pigeon-202_jpg.rf.ba217ebb34b93435c4442f247c46c07a.txt  \n",
            "  inflating: dataset/train/labels/Rock-Pigeon-203_jpg.rf.bef2f520b74ed3fa1b9e59aafd1e19a0.txt  \n",
            "  inflating: dataset/train/labels/Rock-Pigeon-204_jpg.rf.5954b74296f8f33b1cea50545a7e0a57.txt  \n",
            "  inflating: dataset/train/labels/Rock-Pigeon-205_jpg.rf.d289e1d75c9171a883c39763d00a2ec5.txt  \n",
            "  inflating: dataset/train/labels/Rock-Pigeon-206_jpg.rf.e260d636b7646f701724dba66a6213df.txt  \n",
            "  inflating: dataset/train/labels/Rock-Pigeon-208_jpg.rf.0b07e6b39325a95549a76934b5899fa2.txt  \n",
            "  inflating: dataset/train/labels/Rock-Pigeon-209_jpg.rf.4298af56050b573b14a4d19b246907a0.txt  \n",
            "  inflating: dataset/train/labels/Rock-Pigeon-20_jpg.rf.bd2c3dd5342f005ad98a9858f0241f5a.txt  \n",
            "  inflating: dataset/train/labels/Rock-Pigeon-210_png.rf.42a927605344c57ab7633f80fa914995.txt  \n",
            "  inflating: dataset/train/labels/Rock-Pigeon-211_jpg.rf.ee8ee75654366e18506d2f64d0deb1df.txt  \n",
            "  inflating: dataset/train/labels/Rock-Pigeon-213_jpg.rf.f6b49305392cb0cc30238b42df972a23.txt  \n",
            "  inflating: dataset/train/labels/Rock-Pigeon-214_jpg.rf.88a5013a08a01d5233202a1808d1d8b2.txt  \n",
            "  inflating: dataset/train/labels/Rock-Pigeon-215_jpg.rf.0e4c2312034df13c7bcd5d6792783348.txt  \n",
            "  inflating: dataset/train/labels/Rock-Pigeon-218_jpg.rf.96db400e2a05cb50c54cf23a731cb469.txt  \n",
            "  inflating: dataset/train/labels/Rock-Pigeon-219_jpg.rf.805fabde9b60b7dfe181bb012a26134b.txt  \n",
            "  inflating: dataset/train/labels/Rock-Pigeon-21_jpg.rf.4ea5ef44bfe66c968634bd1bac92dc8c.txt  \n",
            "  inflating: dataset/train/labels/Rock-Pigeon-220_jpg.rf.5a2cd3e4b780c3b245c36845bd1d96cd.txt  \n",
            "  inflating: dataset/train/labels/Rock-Pigeon-221_jpg.rf.7f0277856a26535e12218d48d35a393b.txt  \n",
            "  inflating: dataset/train/labels/Rock-Pigeon-222_jpg.rf.65f78e0cf786047d3b573bb4b18dfc1e.txt  \n",
            "  inflating: dataset/train/labels/Rock-Pigeon-223_jpg.rf.ac8115051be573ad3060b90c8f89cd12.txt  \n",
            "  inflating: dataset/train/labels/Rock-Pigeon-224_jpg.rf.5e8b5353ca38124286d126e48ff497b0.txt  \n",
            "  inflating: dataset/train/labels/Rock-Pigeon-225_jpg.rf.99912ee31f16d03a171202b7dc33e739.txt  \n",
            "  inflating: dataset/train/labels/Rock-Pigeon-226_jpg.rf.dd6eb409ac391add56e5a6685ef7f792.txt  \n",
            "  inflating: dataset/train/labels/Rock-Pigeon-227_jpg.rf.200bcad6bcf476003af537d02dddfc12.txt  \n",
            "  inflating: dataset/train/labels/Rock-Pigeon-228_jpg.rf.1276283b5f84b59c1bad1482cfe97c42.txt  \n",
            "  inflating: dataset/train/labels/Rock-Pigeon-229_jpg.rf.5e3e1b92e1bb18d545d29223a8427e10.txt  \n",
            "  inflating: dataset/train/labels/Rock-Pigeon-230_jpg.rf.d8e5e0e1cfec0e24b40bb5737f8a08ab.txt  \n",
            "  inflating: dataset/train/labels/Rock-Pigeon-231_jpg.rf.f21560e400301eedf94c306b24987c94.txt  \n",
            "  inflating: dataset/train/labels/Rock-Pigeon-233_jpg.rf.75474b9024f8560166d5e313356f211b.txt  \n",
            "  inflating: dataset/train/labels/Rock-Pigeon-234_jpg.rf.15d4f1ae9f99feec99585aadfa905308.txt  \n",
            "  inflating: dataset/train/labels/Rock-Pigeon-235_jpg.rf.b274e779d11a9b124b0c19c10c125c9d.txt  \n",
            "  inflating: dataset/train/labels/Rock-Pigeon-236_jpg.rf.9f9dfc33eb51f5fe4aba2f041cca81a4.txt  \n",
            "  inflating: dataset/train/labels/Rock-Pigeon-237_jpg.rf.14d4cf9037d43739e2272912cd6474d6.txt  \n",
            "  inflating: dataset/train/labels/Rock-Pigeon-239_jpg.rf.a87b33d21e7ba297e52f3a5eba5ef2a2.txt  \n",
            "  inflating: dataset/train/labels/Rock-Pigeon-240_jpg.rf.2b45f838d9c91fbac773dadb3080d22e.txt  \n",
            "  inflating: dataset/train/labels/Rock-Pigeon-241_jpg.rf.587b406c06e8d7aa7ffa7de45bd32349.txt  \n",
            "  inflating: dataset/train/labels/Rock-Pigeon-242_jpg.rf.0a540307c862bab88939227bb68ab5f2.txt  \n",
            "  inflating: dataset/train/labels/Rock-Pigeon-244_jpg.rf.368f754096314d98931b76fcf7a49e7d.txt  \n",
            "  inflating: dataset/train/labels/Rock-Pigeon-246_jpg.rf.ae935a0df0824614c40abe9739776547.txt  \n",
            "  inflating: dataset/train/labels/Rock-Pigeon-247_jpg.rf.f020acc2df47428a8f586502a8ac4409.txt  \n",
            "  inflating: dataset/train/labels/Rock-Pigeon-249_jpg.rf.f1f53cae59c363d16b38e51064df3842.txt  \n",
            "  inflating: dataset/train/labels/Rock-Pigeon-24_jpg.rf.03b115370862c2b89dc3fa8ec7cf7c78.txt  \n",
            "  inflating: dataset/train/labels/Rock-Pigeon-250_jpg.rf.ec30c4a2f6d0cb107f064fd570fd5a35.txt  \n",
            "  inflating: dataset/train/labels/Rock-Pigeon-251_jpg.rf.f4c746cf6a99cc76011e09e4bd20e427.txt  \n",
            "  inflating: dataset/train/labels/Rock-Pigeon-252_jpg.rf.eca979c4bf652169b124e5ee0b8cdf79.txt  \n",
            "  inflating: dataset/train/labels/Rock-Pigeon-253_jpg.rf.f30db6084df55c02a43cce98aad3c8a1.txt  \n",
            "  inflating: dataset/train/labels/Rock-Pigeon-254_jpg.rf.a1c7fc7e402188c2042a7d1a729671ab.txt  \n",
            "  inflating: dataset/train/labels/Rock-Pigeon-256_jpg.rf.329cb5512684f2fa5f77ebd0f22c0882.txt  \n",
            "  inflating: dataset/train/labels/Rock-Pigeon-258_jpg.rf.d626586c139c76bc8ab5d223f42b54e5.txt  \n",
            "  inflating: dataset/train/labels/Rock-Pigeon-259_jpg.rf.a4a3ff36b66d8f1de2d0d894085116cf.txt  \n",
            "  inflating: dataset/train/labels/Rock-Pigeon-260_jpg.rf.28808a9cc07205c72443fa8b431e373e.txt  \n",
            "  inflating: dataset/train/labels/Rock-Pigeon-261_jpg.rf.de985697993bec4f87828fa7b973e249.txt  \n",
            "  inflating: dataset/train/labels/Rock-Pigeon-262_jpg.rf.b591ae1cad1d7fa493e32cb15cd42cbc.txt  \n",
            "  inflating: dataset/train/labels/Rock-Pigeon-263_jpg.rf.3105089a61dd02aa243544d3c94a9f24.txt  \n",
            "  inflating: dataset/train/labels/Rock-Pigeon-264_jpg.rf.de35e942876a6fd63e1cbbd06c1ee19c.txt  \n",
            "  inflating: dataset/train/labels/Rock-Pigeon-266_jpg.rf.74b43c58e1d8ae5c419570b751c5afde.txt  \n",
            "  inflating: dataset/train/labels/Rock-Pigeon-267_jpg.rf.052871230240697e126b1185c22d224d.txt  \n",
            "  inflating: dataset/train/labels/Rock-Pigeon-269_jpg.rf.c5667f66be20d03b565adddf31617d43.txt  \n",
            "  inflating: dataset/train/labels/Rock-Pigeon-26_jpg.rf.3f1b66084c251af705f0db672676b88d.txt  \n",
            "  inflating: dataset/train/labels/Rock-Pigeon-270_jpg.rf.7ab06904551883c679e9a00b4b445d21.txt  \n",
            "  inflating: dataset/train/labels/Rock-Pigeon-272_jpg.rf.6c8e75dfb5a35e6079e950b4b4ffbbca.txt  \n",
            "  inflating: dataset/train/labels/Rock-Pigeon-273_jpg.rf.6a8faaae03687868b19f2d422f07fb60.txt  \n",
            "  inflating: dataset/train/labels/Rock-Pigeon-274_jpg.rf.3bf8d09c7ceca32bf0aad64790d3b858.txt  \n",
            "  inflating: dataset/train/labels/Rock-Pigeon-275_jpg.rf.4cc7129d912b25c492a24a8b2c3ef114.txt  \n",
            "  inflating: dataset/train/labels/Rock-Pigeon-278_jpg.rf.7e942962794aaa9b861865ae066cc46f.txt  \n",
            "  inflating: dataset/train/labels/Rock-Pigeon-279_jpg.rf.a8efed12f4ea6ef50f9487f97ff827e8.txt  \n",
            "  inflating: dataset/train/labels/Rock-Pigeon-27_jpg.rf.b6f4e08a00ac39c464142100e3e85aa8.txt  \n",
            "  inflating: dataset/train/labels/Rock-Pigeon-280_jpg.rf.0b378d229c6bde199b94a46bd868108c.txt  \n",
            "  inflating: dataset/train/labels/Rock-Pigeon-281_jpg.rf.1155ac7449c488f699b52eb7659efd51.txt  \n",
            "  inflating: dataset/train/labels/Rock-Pigeon-282_jpg.rf.5fcbdd664058bc57a92d1f6ac50edec0.txt  \n",
            "  inflating: dataset/train/labels/Rock-Pigeon-283_jpg.rf.e650b5ee3b1e4c2e6dd00ec65a974a99.txt  \n",
            "  inflating: dataset/train/labels/Rock-Pigeon-284_jpg.rf.cb166671c4a3d5b562fe809a15af0da8.txt  \n",
            "  inflating: dataset/train/labels/Rock-Pigeon-285_jpg.rf.eb2858698023df51e14c2648c4039998.txt  \n",
            "  inflating: dataset/train/labels/Rock-Pigeon-286_jpg.rf.406d6315a7c870442171f32076ba0846.txt  \n",
            "  inflating: dataset/train/labels/Rock-Pigeon-287_jpg.rf.8d88d73b343585416acbb289b45f0828.txt  \n",
            "  inflating: dataset/train/labels/Rock-Pigeon-288_jpg.rf.4b80e65c9b530b6fee72e711de198d69.txt  \n",
            "  inflating: dataset/train/labels/Rock-Pigeon-28_jpg.rf.589e7731b659e726dee89ed57a27b79a.txt  \n",
            "  inflating: dataset/train/labels/Rock-Pigeon-291_jpg.rf.0ce825309d1dae637aed14bdf5d1bd76.txt  \n",
            "  inflating: dataset/train/labels/Rock-Pigeon-292_jpg.rf.a7d196ee530aa00f572cc68c10cace2f.txt  \n",
            "  inflating: dataset/train/labels/Rock-Pigeon-293_jpg.rf.ece62d15e37fdf165c5d60570f8f2065.txt  \n",
            "  inflating: dataset/train/labels/Rock-Pigeon-294_jpg.rf.41d4058e65215aff73974785bdbff844.txt  \n",
            "  inflating: dataset/train/labels/Rock-Pigeon-295_jpg.rf.0befc888902b708bb3a1cc76521ee42d.txt  \n",
            "  inflating: dataset/train/labels/Rock-Pigeon-296_jpg.rf.c98515fa529b6fe2afa75d8c7368a580.txt  \n",
            "  inflating: dataset/train/labels/Rock-Pigeon-298_jpg.rf.115442dc26a0ca082f7c5658a48e655f.txt  \n",
            "  inflating: dataset/train/labels/Rock-Pigeon-29_jpg.rf.bec4fe65fb006e2f2376887da0df0292.txt  \n",
            "  inflating: dataset/train/labels/Rock-Pigeon-2_jpg.rf.be8bfefe237ae47ed4a6188f146d646e.txt  \n",
            "  inflating: dataset/train/labels/Rock-Pigeon-300_jpg.rf.44ce642a2a10128232b3d1ab576af517.txt  \n",
            "  inflating: dataset/train/labels/Rock-Pigeon-302_jpg.rf.9790c94b38a0ad911744edf7d46c2d91.txt  \n",
            "  inflating: dataset/train/labels/Rock-Pigeon-304_jpg.rf.8e5dd50e9e25cf9b9e2429e4587df9cc.txt  \n",
            "  inflating: dataset/train/labels/Rock-Pigeon-305_jpg.rf.64fb9ff7749e9ab43e6eceb441d23dae.txt  \n",
            "  inflating: dataset/train/labels/Rock-Pigeon-306_jpg.rf.6365dc13cd181167f7893a0cd370e43f.txt  \n",
            "  inflating: dataset/train/labels/Rock-Pigeon-307_jpg.rf.642afaf21de730910a17651dfc7d4419.txt  \n",
            "  inflating: dataset/train/labels/Rock-Pigeon-308_jpg.rf.31c896991a0c5856587321ea0e587403.txt  \n",
            "  inflating: dataset/train/labels/Rock-Pigeon-309_jpg.rf.d9f3fa206dfbf7d25bf162169877d187.txt  \n",
            "  inflating: dataset/train/labels/Rock-Pigeon-310_jpg.rf.08e8718015ac1350258db3c64db147b3.txt  \n",
            "  inflating: dataset/train/labels/Rock-Pigeon-311_jpg.rf.92d1eb3643c135c2c2ab97f130fe3c49.txt  \n",
            "  inflating: dataset/train/labels/Rock-Pigeon-312_jpg.rf.fda2f2a6bcedf008007f6ee4eb853e60.txt  \n",
            "  inflating: dataset/train/labels/Rock-Pigeon-313_jpg.rf.36156ca260ecbcea5433e1f76f5c680d.txt  \n",
            "  inflating: dataset/train/labels/Rock-Pigeon-314_jpg.rf.7e675f655354c422da6dbbdc1291edf5.txt  \n",
            "  inflating: dataset/train/labels/Rock-Pigeon-315_jpg.rf.7af63a60656d2d066773bcc3ea02fad9.txt  \n",
            "  inflating: dataset/train/labels/Rock-Pigeon-316_jpg.rf.4877e6750385e3a07d3109fe2a3ea032.txt  \n",
            "  inflating: dataset/train/labels/Rock-Pigeon-317_jpg.rf.04ef3b7158cbd74e38607b201e094089.txt  \n",
            "  inflating: dataset/train/labels/Rock-Pigeon-318_jpg.rf.2eeacd11c0aa73bc7331e9db14a180de.txt  \n",
            "  inflating: dataset/train/labels/Rock-Pigeon-319_jpg.rf.6197ddafa089db51c7707b44fe7458ac.txt  \n",
            "  inflating: dataset/train/labels/Rock-Pigeon-31_jpg.rf.2a99b5ba51945ddc65475deca9b8e937.txt  \n",
            "  inflating: dataset/train/labels/Rock-Pigeon-320_jpg.rf.45670f3286c743755a7ebcd39e1889b7.txt  \n",
            "  inflating: dataset/train/labels/Rock-Pigeon-321_jpg.rf.fd408b63149ff20e23ecdad518600f5d.txt  \n",
            "  inflating: dataset/train/labels/Rock-Pigeon-322_jpg.rf.df188970873e98951b3867f3fd4e9df8.txt  \n",
            "  inflating: dataset/train/labels/Rock-Pigeon-323_jpg.rf.094a88e6d889edcc35006d2ce69f12a6.txt  \n",
            "  inflating: dataset/train/labels/Rock-Pigeon-325_jpg.rf.6d3ac438730ca1e64416ab50de1dd08d.txt  \n",
            "  inflating: dataset/train/labels/Rock-Pigeon-326_jpg.rf.b8f592ac50e9d2c4abbf6b11bad09f30.txt  \n",
            "  inflating: dataset/train/labels/Rock-Pigeon-328_jpg.rf.6fadf13be6931438ae3462d885857065.txt  \n",
            "  inflating: dataset/train/labels/Rock-Pigeon-329_jpg.rf.d26cb4f8ba33feb1d3503b43e0413c7b.txt  \n",
            "  inflating: dataset/train/labels/Rock-Pigeon-32_jpg.rf.8091a7b3e88f41a41b1bf77f74d090c6.txt  \n",
            "  inflating: dataset/train/labels/Rock-Pigeon-330_jpg.rf.1e026bd8bfd9dd83b625ffe1ce71a4b7.txt  \n",
            "  inflating: dataset/train/labels/Rock-Pigeon-331_jpg.rf.bcd06ec82b6ed4c9fae737d36f6a179f.txt  \n",
            "  inflating: dataset/train/labels/Rock-Pigeon-332_jpg.rf.0870a7f9b1baed3bea2b18324c1aff17.txt  \n",
            "  inflating: dataset/train/labels/Rock-Pigeon-334_jpg.rf.c2cb2681768f21804bdd85503f08d5ec.txt  \n",
            "  inflating: dataset/train/labels/Rock-Pigeon-336_jpg.rf.63b30b35e6d4b7f9db4727f7a6cb0f4e.txt  \n",
            "  inflating: dataset/train/labels/Rock-Pigeon-338_jpg.rf.3813424fdf30d3f9ea7c1482cd1da744.txt  \n",
            "  inflating: dataset/train/labels/Rock-Pigeon-339_jpg.rf.ca5fb9821c59401f349be5ab3866b775.txt  \n",
            "  inflating: dataset/train/labels/Rock-Pigeon-33_jpg.rf.d8345574eeae0709f5409ca767995dd9.txt  \n",
            "  inflating: dataset/train/labels/Rock-Pigeon-340_jpg.rf.f82f1e617aa79abbe435fd136829d9ad.txt  \n",
            "  inflating: dataset/train/labels/Rock-Pigeon-341_jpg.rf.391a250351cc6f937c3d39ecd7d202d7.txt  \n",
            "  inflating: dataset/train/labels/Rock-Pigeon-342_jpg.rf.7f108586fe2d5e7abaf2fa83daece855.txt  \n",
            "  inflating: dataset/train/labels/Rock-Pigeon-343_jpg.rf.e95ff6ea99909ae652934007cda1bdde.txt  \n",
            "  inflating: dataset/train/labels/Rock-Pigeon-344_jpg.rf.567313ca69615d4f69f6ee528b04fb2a.txt  \n",
            "  inflating: dataset/train/labels/Rock-Pigeon-345_jpg.rf.856f0f4590a81a534eb693b8ea347926.txt  \n",
            "  inflating: dataset/train/labels/Rock-Pigeon-346_jpg.rf.646a0b5fdb80447e6a646632d93b7369.txt  \n",
            "  inflating: dataset/train/labels/Rock-Pigeon-348_jpg.rf.c5ae450eb4217784c2239ce5b2620fdf.txt  \n",
            "  inflating: dataset/train/labels/Rock-Pigeon-34_jpg.rf.07f257e7652d02a01eb8f7b795113de6.txt  \n",
            "  inflating: dataset/train/labels/Rock-Pigeon-350_jpg.rf.3c8e0cac96d07e7f681fbf1243876ee8.txt  \n",
            "  inflating: dataset/train/labels/Rock-Pigeon-351_jpg.rf.3624817f28c2e28a72829b286a8d4271.txt  \n",
            "  inflating: dataset/train/labels/Rock-Pigeon-352_jpg.rf.10771eeffe5798c9afcae8467c931a28.txt  \n",
            "  inflating: dataset/train/labels/Rock-Pigeon-354_jpg.rf.8ec3adc556d8c8bd84e643a48d37934f.txt  \n",
            "  inflating: dataset/train/labels/Rock-Pigeon-355_jpg.rf.1b611e10d53e69b2fde0d0c950d35ad9.txt  \n",
            "  inflating: dataset/train/labels/Rock-Pigeon-356_jpg.rf.a11d715fa02095b52e829b0a805ac3db.txt  \n",
            "  inflating: dataset/train/labels/Rock-Pigeon-357_jpg.rf.e1e45198c6e31a34f0c9d1ec9989259e.txt  \n",
            "  inflating: dataset/train/labels/Rock-Pigeon-358_jpg.rf.bed26da9f3841e98df867d64c05facb6.txt  \n",
            "  inflating: dataset/train/labels/Rock-Pigeon-359_jpg.rf.02ce8c24c80613ebfda7edf29481a244.txt  \n",
            "  inflating: dataset/train/labels/Rock-Pigeon-360_jpg.rf.f121d7a22dac4637a9af13e170ebbf3b.txt  \n",
            "  inflating: dataset/train/labels/Rock-Pigeon-361_jpg.rf.4a5e3e6251ac7d8c13d35c36df10ebd7.txt  \n",
            "  inflating: dataset/train/labels/Rock-Pigeon-362_jpg.rf.fc4313b168ae42b5fbee0d7473daf6af.txt  \n",
            "  inflating: dataset/train/labels/Rock-Pigeon-363_jpg.rf.a9222a18e593cd9b937376fb8eefc7ef.txt  \n",
            "  inflating: dataset/train/labels/Rock-Pigeon-364_jpg.rf.a426b8a90c04192c6465616db65c6712.txt  \n",
            "  inflating: dataset/train/labels/Rock-Pigeon-365_jpg.rf.85ef54b99b1edaa06321ea823fa044eb.txt  \n",
            "  inflating: dataset/train/labels/Rock-Pigeon-366_jpg.rf.17672a6e0a3312e13213b9e4a9edfe22.txt  \n",
            "  inflating: dataset/train/labels/Rock-Pigeon-367_jpg.rf.229193a6392a3094b989a1676ce2b6c6.txt  \n",
            "  inflating: dataset/train/labels/Rock-Pigeon-369_jpg.rf.571e2894cadcfd6c2962e7b7f527a885.txt  \n",
            "  inflating: dataset/train/labels/Rock-Pigeon-36_jpg.rf.ac2a968e692afbc3902f4ab016d6ef79.txt  \n",
            "  inflating: dataset/train/labels/Rock-Pigeon-371_jpg.rf.6920a14924c757b497f23358d18b71a5.txt  \n",
            "  inflating: dataset/train/labels/Rock-Pigeon-37_jpg.rf.7087aab9122a4f3b9c89bf013ae3272a.txt  \n",
            "  inflating: dataset/train/labels/Rock-Pigeon-38_jpg.rf.b3880b1e76ca846776ca91b7e765afca.txt  \n",
            "  inflating: dataset/train/labels/Rock-Pigeon-39_jpg.rf.0a917a7faefe225fc66c2b4b98e0d857.txt  \n",
            "  inflating: dataset/train/labels/Rock-Pigeon-3_jpg.rf.972a8894e6cfac709ead3aaee2130add.txt  \n",
            "  inflating: dataset/train/labels/Rock-Pigeon-40_jpg.rf.1a362ef0f88f354c4bb206f67298e5e2.txt  \n",
            "  inflating: dataset/train/labels/Rock-Pigeon-41_jpg.rf.73170d3977707f225a609acef0f149f6.txt  \n",
            "  inflating: dataset/train/labels/Rock-Pigeon-42_jpg.rf.28473c5ab9ce401b6d9acdfdfd422d3a.txt  \n",
            "  inflating: dataset/train/labels/Rock-Pigeon-43_jpg.rf.d2002f82454421f6bb0f1bca78d4dd75.txt  \n",
            "  inflating: dataset/train/labels/Rock-Pigeon-44_jpg.rf.ba520e27278bca8da96f04a0f4f6ae63.txt  \n",
            "  inflating: dataset/train/labels/Rock-Pigeon-45_jpg.rf.9ad85d28201955bd3cde28d1778fd618.txt  \n",
            "  inflating: dataset/train/labels/Rock-Pigeon-47_jpg.rf.d120a16ab43cd4ead4c55a6ab75749a7.txt  \n",
            "  inflating: dataset/train/labels/Rock-Pigeon-48_jpg.rf.5a73b4b1829c8858861b00725c247db7.txt  \n",
            "  inflating: dataset/train/labels/Rock-Pigeon-4_jpg.rf.603da0cf5e0ca534493a56c607a85c2d.txt  \n",
            "  inflating: dataset/train/labels/Rock-Pigeon-50_jpg.rf.7f76d04c4a53752e9a3a263ca129d42a.txt  \n",
            "  inflating: dataset/train/labels/Rock-Pigeon-51_jpg.rf.e0c84c34ea3b63178c6ca8ab92ecac82.txt  \n",
            "  inflating: dataset/train/labels/Rock-Pigeon-52_jpg.rf.61a0d1a41a9c921889178231c2dc2695.txt  \n",
            "  inflating: dataset/train/labels/Rock-Pigeon-54_jpg.rf.66aa2b288fb643547f2dc60e84430dba.txt  \n",
            "  inflating: dataset/train/labels/Rock-Pigeon-55_jpg.rf.f5e3c0d2d125f84c5bb6630db98d2339.txt  \n",
            "  inflating: dataset/train/labels/Rock-Pigeon-56_jpg.rf.a4bc31c86593319a20d00338b5bae084.txt  \n",
            "  inflating: dataset/train/labels/Rock-Pigeon-57_jpg.rf.de67ceaca9d3b9ddca5a3d7255cf50fc.txt  \n",
            "  inflating: dataset/train/labels/Rock-Pigeon-58_jpg.rf.c3d58468a4820d636557396e809c3f97.txt  \n",
            "  inflating: dataset/train/labels/Rock-Pigeon-59_jpg.rf.fe033260f30dae88a99000d399eeb7dd.txt  \n",
            "  inflating: dataset/train/labels/Rock-Pigeon-5_jpg.rf.fc70e96f7854e717647ab1e44b132705.txt  \n",
            "  inflating: dataset/train/labels/Rock-Pigeon-60_jpg.rf.06e064955470591ad3f2e38c4181f1ff.txt  \n",
            "  inflating: dataset/train/labels/Rock-Pigeon-62_jpg.rf.e75f2c007916a40fc6281ef6d83309c0.txt  \n",
            "  inflating: dataset/train/labels/Rock-Pigeon-63_jpg.rf.7dd8f5598b36f0f9805b0e670947328d.txt  \n",
            "  inflating: dataset/train/labels/Rock-Pigeon-64_jpg.rf.7d0a62abfebd1f4808f631fc33c5a161.txt  \n",
            "  inflating: dataset/train/labels/Rock-Pigeon-65_jpg.rf.4a8779c532f62b6e3a1efefcbbcdb58b.txt  \n",
            "  inflating: dataset/train/labels/Rock-Pigeon-66_jpg.rf.25aa2c5de8566b15512d099dd36882f7.txt  \n",
            "  inflating: dataset/train/labels/Rock-Pigeon-67_jpg.rf.ef48390ba7cd48743e27c0ec5df98f74.txt  \n",
            "  inflating: dataset/train/labels/Rock-Pigeon-68_jpg.rf.8ddd85e863ad3c86905c209358239393.txt  \n",
            "  inflating: dataset/train/labels/Rock-Pigeon-69_jpg.rf.52f3c4ee281393126234aad52d01ab39.txt  \n",
            "  inflating: dataset/train/labels/Rock-Pigeon-6_jpg.rf.b79dd74eaf3c3dbe6ff3e19cbdefc13e.txt  \n",
            "  inflating: dataset/train/labels/Rock-Pigeon-71_jpg.rf.1a2fd46c74594bd22ad732004e544003.txt  \n",
            "  inflating: dataset/train/labels/Rock-Pigeon-73_jpg.rf.ad3c92678e2323d1e77de83e31e820b2.txt  \n",
            "  inflating: dataset/train/labels/Rock-Pigeon-75_jpg.rf.fcd670639cfcaf6f6329f8781153b09f.txt  \n",
            "  inflating: dataset/train/labels/Rock-Pigeon-76_jpg.rf.2168dc52391920ac8e96c31438d96227.txt  \n",
            "  inflating: dataset/train/labels/Rock-Pigeon-77_jpg.rf.c59e43fd6263e1a43cef26ea59b43148.txt  \n",
            "  inflating: dataset/train/labels/Rock-Pigeon-78_jpg.rf.e75f7f56f583cfe17617bf64e3d95cc5.txt  \n",
            "  inflating: dataset/train/labels/Rock-Pigeon-79_jpg.rf.8b1857b848c59e716bfdd9359181284f.txt  \n",
            "  inflating: dataset/train/labels/Rock-Pigeon-7_jpg.rf.e7d7f59488bab6460968d89998f1d4a0.txt  \n",
            "  inflating: dataset/train/labels/Rock-Pigeon-80_jpg.rf.3edda52f05ae34855b9c49672704921b.txt  \n",
            "  inflating: dataset/train/labels/Rock-Pigeon-81_jpg.rf.a9d8b07fcbccb00231e97c9fe96d79ef.txt  \n",
            "  inflating: dataset/train/labels/Rock-Pigeon-82_jpg.rf.43a68c36260f622307906c403b90b681.txt  \n",
            "  inflating: dataset/train/labels/Rock-Pigeon-83_jpg.rf.cfbb3a9a003c4dff2fe46aa9f84b0f39.txt  \n",
            "  inflating: dataset/train/labels/Rock-Pigeon-85_jpg.rf.9a40b353201cf95f061f3d41cca35dba.txt  \n",
            "  inflating: dataset/train/labels/Rock-Pigeon-86_jpg.rf.05663377b3c91fd651c8b1d55bed06ae.txt  \n",
            "  inflating: dataset/train/labels/Rock-Pigeon-89_jpg.rf.f905ec82e5bcec56794dcee2f2320f7e.txt  \n",
            "  inflating: dataset/train/labels/Rock-Pigeon-8_jpg.rf.3a7010b2fd12b2699466ce8efddd6b61.txt  \n",
            "  inflating: dataset/train/labels/Rock-Pigeon-90_jpg.rf.ec88f063e474e451c51f3dd4df2b6660.txt  \n",
            "  inflating: dataset/train/labels/Rock-Pigeon-91_jpg.rf.df1d21f260986a2de62da27b3ac6d0a7.txt  \n",
            "  inflating: dataset/train/labels/Rock-Pigeon-92_jpg.rf.cffbac5e661080dfe15f531347fd5233.txt  \n",
            "  inflating: dataset/train/labels/Rock-Pigeon-93_jpg.rf.0516fce6a901acf492d03fe9550e017b.txt  \n",
            "  inflating: dataset/train/labels/Rock-Pigeon-94_jpg.rf.ec0e2bc316ac621fc7f647893172a047.txt  \n",
            "  inflating: dataset/train/labels/Rock-Pigeon-95_jpg.rf.ebb9f57bca6d6da7d9b1e3d46658078e.txt  \n",
            "  inflating: dataset/train/labels/Rock-Pigeon-96_jpg.rf.de1a4c805ee0e66ce41f11b5bbfd0732.txt  \n",
            "  inflating: dataset/train/labels/Rock-Pigeon-97_jpg.rf.9e3363ef1aa592eac0e00cb2e5fbf62c.txt  \n",
            "  inflating: dataset/train/labels/Rock-Pigeon-98_jpg.rf.7024726fe1660dd2e2b591ca3def51f6.txt  \n",
            "  inflating: dataset/train/labels/Rock-Pigeon-9_jpg.rf.2d285b7614433f4e85c4218f4ff9cb0e.txt  \n",
            "   creating: dataset/valid/\n",
            "   creating: dataset/valid/images/\n",
            " extracting: dataset/valid/images/Rock-Pigeon-100_jpg.rf.674fe64fcc4b108f47698141a299c809.jpg  \n",
            " extracting: dataset/valid/images/Rock-Pigeon-105_jpg.rf.781d9907299b4e032d8251d25e8ab8d8.jpg  \n",
            " extracting: dataset/valid/images/Rock-Pigeon-107_jpg.rf.9243218825a0506f90a0b067bb2810c1.jpg  \n",
            " extracting: dataset/valid/images/Rock-Pigeon-109_jpg.rf.d34fb38ecca046871a608357f411331c.jpg  \n",
            " extracting: dataset/valid/images/Rock-Pigeon-110_jpg.rf.90af3f556520e2731eb8df131037c41a.jpg  \n",
            " extracting: dataset/valid/images/Rock-Pigeon-118_jpg.rf.51f7c704228a00de42daa2c9333892e0.jpg  \n",
            " extracting: dataset/valid/images/Rock-Pigeon-12_jpg.rf.f8be9443beeace687d805cb954c9c88f.jpg  \n",
            " extracting: dataset/valid/images/Rock-Pigeon-133_jpg.rf.456d92d0e52f30d5895722805d378a94.jpg  \n",
            " extracting: dataset/valid/images/Rock-Pigeon-136_jpg.rf.6bec115d438c200abac8dfc8443b1eeb.jpg  \n",
            " extracting: dataset/valid/images/Rock-Pigeon-141_jpg.rf.eda5568145202551f84e8b8910e67201.jpg  \n",
            " extracting: dataset/valid/images/Rock-Pigeon-144_jpg.rf.b66b35b5fb73d497eb8136c5dcf4e1a0.jpg  \n",
            " extracting: dataset/valid/images/Rock-Pigeon-14_jpg.rf.b605abd3933b41e80f1d79a90851a4ff.jpg  \n",
            " extracting: dataset/valid/images/Rock-Pigeon-157_jpg.rf.2ef26f9ea086de469c98079d93b33826.jpg  \n",
            " extracting: dataset/valid/images/Rock-Pigeon-163_jpg.rf.0e58b36b43cd47b5b9b045e961e2f437.jpg  \n",
            " extracting: dataset/valid/images/Rock-Pigeon-166_jpg.rf.6b171447cf92d69503f179e5592f3c96.jpg  \n",
            " extracting: dataset/valid/images/Rock-Pigeon-174_jpg.rf.59eb44b24263c3c10c39d9fcd6cadd6e.jpg  \n",
            " extracting: dataset/valid/images/Rock-Pigeon-178_jpg.rf.6c2265c41164b1511b5c6ca6c641f5dc.jpg  \n",
            " extracting: dataset/valid/images/Rock-Pigeon-17_jpg.rf.22e2f63d0ccd9951acd7be4ba5bd6c21.jpg  \n",
            " extracting: dataset/valid/images/Rock-Pigeon-180_jpg.rf.18613624efe7d9cfa9e6b3ed5f19a4b5.jpg  \n",
            " extracting: dataset/valid/images/Rock-Pigeon-181_jpg.rf.90841ff5663353533596ddc75c1151cc.jpg  \n",
            " extracting: dataset/valid/images/Rock-Pigeon-183_jpg.rf.03cc3493f40b587a6cdb51560e0f7f59.jpg  \n",
            " extracting: dataset/valid/images/Rock-Pigeon-188_jpg.rf.3606bfefb2bb67d677cd93f05347a43c.jpg  \n",
            " extracting: dataset/valid/images/Rock-Pigeon-190_jpg.rf.90c4424c1e26537ebae2fd8dafeb448f.jpg  \n",
            " extracting: dataset/valid/images/Rock-Pigeon-191_jpg.rf.f7fc021947fed61e3bad08c03a2f125e.jpg  \n",
            " extracting: dataset/valid/images/Rock-Pigeon-194_jpg.rf.d77d33a1a9388dce7d576b06cd5da9a0.jpg  \n",
            " extracting: dataset/valid/images/Rock-Pigeon-195_jpg.rf.08484f147149e4a8a5b6a5e63dc84932.jpg  \n",
            " extracting: dataset/valid/images/Rock-Pigeon-199_jpg.rf.189c2b7c5d5a29a3dd9069bdeeaa82a3.jpg  \n",
            " extracting: dataset/valid/images/Rock-Pigeon-207_jpg.rf.70adefebd5743626c6fb4b02b7856ac1.jpg  \n",
            " extracting: dataset/valid/images/Rock-Pigeon-212_jpg.rf.eebdf941160efd570bed097dcdcdeca2.jpg  \n",
            " extracting: dataset/valid/images/Rock-Pigeon-216_jpg.rf.ef9db713e8a79e1f511132215191c2ec.jpg  \n",
            " extracting: dataset/valid/images/Rock-Pigeon-217_jpg.rf.996f7ee7d130f4101a6f6a9c2bd5c264.jpg  \n",
            " extracting: dataset/valid/images/Rock-Pigeon-22_jpg.rf.b3f8b5d61e7e44de1419a0228d22c2c3.jpg  \n",
            " extracting: dataset/valid/images/Rock-Pigeon-232_jpg.rf.b984d3adba511392caf327c6a41836f7.jpg  \n",
            " extracting: dataset/valid/images/Rock-Pigeon-238_jpg.rf.0f1d60b2582cc809b361a3c2d4d0f4ea.jpg  \n",
            " extracting: dataset/valid/images/Rock-Pigeon-23_jpg.rf.42bc05513afbfdea7f93e6b8546cb4da.jpg  \n",
            " extracting: dataset/valid/images/Rock-Pigeon-243_jpg.rf.0ab384dad080a64ee1b43bc4d4066ad0.jpg  \n",
            " extracting: dataset/valid/images/Rock-Pigeon-245_jpg.rf.92a6379a144ebe0d24653b20cedcf8ef.jpg  \n",
            " extracting: dataset/valid/images/Rock-Pigeon-248_jpg.rf.860afb8b8b22a214116ae4a2b893965e.jpg  \n",
            " extracting: dataset/valid/images/Rock-Pigeon-255_jpg.rf.077ee9854acf7150f4c0e5c135a48c35.jpg  \n",
            " extracting: dataset/valid/images/Rock-Pigeon-257_jpg.rf.467f14376e3070fc725878dd352f0be5.jpg  \n",
            " extracting: dataset/valid/images/Rock-Pigeon-25_jpg.rf.ed0e32b9f1b739f1000be876d73c86ce.jpg  \n",
            " extracting: dataset/valid/images/Rock-Pigeon-265_jpg.rf.73447c88b98a206caff63906b7fe965c.jpg  \n",
            " extracting: dataset/valid/images/Rock-Pigeon-268_jpg.rf.1bf26005b2eb20800eae956185532ec2.jpg  \n",
            " extracting: dataset/valid/images/Rock-Pigeon-271_jpg.rf.3fadbcf42059d22f5a260f92f4e1fe96.jpg  \n",
            " extracting: dataset/valid/images/Rock-Pigeon-276_jpg.rf.75ce756f0d98f80932c209773b9fd07c.jpg  \n",
            " extracting: dataset/valid/images/Rock-Pigeon-277_jpg.rf.f7477947f3cca0bfe293bfcdb4c472a6.jpg  \n",
            " extracting: dataset/valid/images/Rock-Pigeon-289_jpg.rf.10ed2e537a339cbbff26bdc6bda55c16.jpg  \n",
            " extracting: dataset/valid/images/Rock-Pigeon-290_jpg.rf.3e6236d3c56c93bc104a96d99d01da30.jpg  \n",
            " extracting: dataset/valid/images/Rock-Pigeon-297_jpg.rf.a4d2f27c49b7a809a7b61b28fe520e09.jpg  \n",
            " extracting: dataset/valid/images/Rock-Pigeon-299_jpg.rf.3966d407023eec4c613cc3733fff9777.jpg  \n",
            " extracting: dataset/valid/images/Rock-Pigeon-301_jpg.rf.b7645e27f1784a598de5765cd7d466cb.jpg  \n",
            " extracting: dataset/valid/images/Rock-Pigeon-303_jpg.rf.492b128bf3fe033ab789864474ef1572.jpg  \n",
            " extracting: dataset/valid/images/Rock-Pigeon-30_jpg.rf.483fd7b78deaac0eb0b3788f3bffbfde.jpg  \n",
            " extracting: dataset/valid/images/Rock-Pigeon-324_jpg.rf.161382bfb3c68d7e4ade3d99514df48d.jpg  \n",
            " extracting: dataset/valid/images/Rock-Pigeon-327_jpg.rf.988f7831835f8f9bb6e8d15af92b5982.jpg  \n",
            " extracting: dataset/valid/images/Rock-Pigeon-335_jpg.rf.460d6f73cbd25dc11aaa13f195c5bd39.jpg  \n",
            " extracting: dataset/valid/images/Rock-Pigeon-337_jpg.rf.3b2ab74c18926c7ab7f57ec81734af64.jpg  \n",
            " extracting: dataset/valid/images/Rock-Pigeon-347_jpg.rf.4ff04bde0f882e5d99a94e15b98888aa.jpg  \n",
            " extracting: dataset/valid/images/Rock-Pigeon-349_jpg.rf.ac5936bf6c63b8f67dd004fdc943c6b6.jpg  \n",
            " extracting: dataset/valid/images/Rock-Pigeon-353_jpg.rf.56a8150475a5c52a434a053aebbf9382.jpg  \n",
            " extracting: dataset/valid/images/Rock-Pigeon-35_jpg.rf.75ece46ed5f6aa50ae4bf253df17ab08.jpg  \n",
            " extracting: dataset/valid/images/Rock-Pigeon-368_jpg.rf.c8b2675ceec5cf3d9319d15b26ad678d.jpg  \n",
            " extracting: dataset/valid/images/Rock-Pigeon-372_jpg.rf.b171779b8a6ca4ca628da9427b58e36e.jpg  \n",
            " extracting: dataset/valid/images/Rock-Pigeon-46_jpg.rf.ab5ac6cc7278d0c5bf617ef3dd498347.jpg  \n",
            " extracting: dataset/valid/images/Rock-Pigeon-49_jpg.rf.6827610d1dba43e3a64ca2ac0ec0fe64.jpg  \n",
            " extracting: dataset/valid/images/Rock-Pigeon-53_jpg.rf.dc018bcc715d29f264c47312d5c84b5a.jpg  \n",
            " extracting: dataset/valid/images/Rock-Pigeon-61_jpg.rf.9f1e4df144ac30336c5a05eaa1e8f29a.jpg  \n",
            " extracting: dataset/valid/images/Rock-Pigeon-70_jpg.rf.89bdaa10215125a40dfa4f97089a5327.jpg  \n",
            " extracting: dataset/valid/images/Rock-Pigeon-72_jpg.rf.0fd9227fbc4862640aa1e32959d5cda5.jpg  \n",
            " extracting: dataset/valid/images/Rock-Pigeon-74_jpg.rf.0938f47902e4a84709e308da39db24b6.jpg  \n",
            " extracting: dataset/valid/images/Rock-Pigeon-84_jpg.rf.bcbb6b07afa305603e7e5a51567b6c5b.jpg  \n",
            " extracting: dataset/valid/images/Rock-Pigeon-87_jpg.rf.dd4cad5b6f02309ccccdb8bc57d425a9.jpg  \n",
            " extracting: dataset/valid/images/Rock-Pigeon-88_jpg.rf.e01d8795a28352866599a3cc5028a92a.jpg  \n",
            " extracting: dataset/valid/images/Rock-Pigeon-99_jpg.rf.41ac376b3009cc9cec75711d3a0e74bb.jpg  \n",
            "   creating: dataset/valid/labels/\n",
            "  inflating: dataset/valid/labels/Rock-Pigeon-100_jpg.rf.674fe64fcc4b108f47698141a299c809.txt  \n",
            "  inflating: dataset/valid/labels/Rock-Pigeon-105_jpg.rf.781d9907299b4e032d8251d25e8ab8d8.txt  \n",
            "  inflating: dataset/valid/labels/Rock-Pigeon-107_jpg.rf.9243218825a0506f90a0b067bb2810c1.txt  \n",
            "  inflating: dataset/valid/labels/Rock-Pigeon-109_jpg.rf.d34fb38ecca046871a608357f411331c.txt  \n",
            "  inflating: dataset/valid/labels/Rock-Pigeon-110_jpg.rf.90af3f556520e2731eb8df131037c41a.txt  \n",
            "  inflating: dataset/valid/labels/Rock-Pigeon-118_jpg.rf.51f7c704228a00de42daa2c9333892e0.txt  \n",
            "  inflating: dataset/valid/labels/Rock-Pigeon-12_jpg.rf.f8be9443beeace687d805cb954c9c88f.txt  \n",
            "  inflating: dataset/valid/labels/Rock-Pigeon-133_jpg.rf.456d92d0e52f30d5895722805d378a94.txt  \n",
            "  inflating: dataset/valid/labels/Rock-Pigeon-136_jpg.rf.6bec115d438c200abac8dfc8443b1eeb.txt  \n",
            "  inflating: dataset/valid/labels/Rock-Pigeon-141_jpg.rf.eda5568145202551f84e8b8910e67201.txt  \n",
            "  inflating: dataset/valid/labels/Rock-Pigeon-144_jpg.rf.b66b35b5fb73d497eb8136c5dcf4e1a0.txt  \n",
            "  inflating: dataset/valid/labels/Rock-Pigeon-14_jpg.rf.b605abd3933b41e80f1d79a90851a4ff.txt  \n",
            "  inflating: dataset/valid/labels/Rock-Pigeon-157_jpg.rf.2ef26f9ea086de469c98079d93b33826.txt  \n",
            "  inflating: dataset/valid/labels/Rock-Pigeon-163_jpg.rf.0e58b36b43cd47b5b9b045e961e2f437.txt  \n",
            "  inflating: dataset/valid/labels/Rock-Pigeon-166_jpg.rf.6b171447cf92d69503f179e5592f3c96.txt  \n",
            "  inflating: dataset/valid/labels/Rock-Pigeon-174_jpg.rf.59eb44b24263c3c10c39d9fcd6cadd6e.txt  \n",
            "  inflating: dataset/valid/labels/Rock-Pigeon-178_jpg.rf.6c2265c41164b1511b5c6ca6c641f5dc.txt  \n",
            "  inflating: dataset/valid/labels/Rock-Pigeon-17_jpg.rf.22e2f63d0ccd9951acd7be4ba5bd6c21.txt  \n",
            "  inflating: dataset/valid/labels/Rock-Pigeon-180_jpg.rf.18613624efe7d9cfa9e6b3ed5f19a4b5.txt  \n",
            "  inflating: dataset/valid/labels/Rock-Pigeon-181_jpg.rf.90841ff5663353533596ddc75c1151cc.txt  \n",
            "  inflating: dataset/valid/labels/Rock-Pigeon-183_jpg.rf.03cc3493f40b587a6cdb51560e0f7f59.txt  \n",
            "  inflating: dataset/valid/labels/Rock-Pigeon-188_jpg.rf.3606bfefb2bb67d677cd93f05347a43c.txt  \n",
            "  inflating: dataset/valid/labels/Rock-Pigeon-190_jpg.rf.90c4424c1e26537ebae2fd8dafeb448f.txt  \n",
            "  inflating: dataset/valid/labels/Rock-Pigeon-191_jpg.rf.f7fc021947fed61e3bad08c03a2f125e.txt  \n",
            "  inflating: dataset/valid/labels/Rock-Pigeon-194_jpg.rf.d77d33a1a9388dce7d576b06cd5da9a0.txt  \n",
            "  inflating: dataset/valid/labels/Rock-Pigeon-195_jpg.rf.08484f147149e4a8a5b6a5e63dc84932.txt  \n",
            "  inflating: dataset/valid/labels/Rock-Pigeon-199_jpg.rf.189c2b7c5d5a29a3dd9069bdeeaa82a3.txt  \n",
            "  inflating: dataset/valid/labels/Rock-Pigeon-207_jpg.rf.70adefebd5743626c6fb4b02b7856ac1.txt  \n",
            "  inflating: dataset/valid/labels/Rock-Pigeon-212_jpg.rf.eebdf941160efd570bed097dcdcdeca2.txt  \n",
            "  inflating: dataset/valid/labels/Rock-Pigeon-216_jpg.rf.ef9db713e8a79e1f511132215191c2ec.txt  \n",
            "  inflating: dataset/valid/labels/Rock-Pigeon-217_jpg.rf.996f7ee7d130f4101a6f6a9c2bd5c264.txt  \n",
            "  inflating: dataset/valid/labels/Rock-Pigeon-22_jpg.rf.b3f8b5d61e7e44de1419a0228d22c2c3.txt  \n",
            "  inflating: dataset/valid/labels/Rock-Pigeon-232_jpg.rf.b984d3adba511392caf327c6a41836f7.txt  \n",
            "  inflating: dataset/valid/labels/Rock-Pigeon-238_jpg.rf.0f1d60b2582cc809b361a3c2d4d0f4ea.txt  \n",
            "  inflating: dataset/valid/labels/Rock-Pigeon-23_jpg.rf.42bc05513afbfdea7f93e6b8546cb4da.txt  \n",
            "  inflating: dataset/valid/labels/Rock-Pigeon-243_jpg.rf.0ab384dad080a64ee1b43bc4d4066ad0.txt  \n",
            "  inflating: dataset/valid/labels/Rock-Pigeon-245_jpg.rf.92a6379a144ebe0d24653b20cedcf8ef.txt  \n",
            "  inflating: dataset/valid/labels/Rock-Pigeon-248_jpg.rf.860afb8b8b22a214116ae4a2b893965e.txt  \n",
            "  inflating: dataset/valid/labels/Rock-Pigeon-255_jpg.rf.077ee9854acf7150f4c0e5c135a48c35.txt  \n",
            "  inflating: dataset/valid/labels/Rock-Pigeon-257_jpg.rf.467f14376e3070fc725878dd352f0be5.txt  \n",
            "  inflating: dataset/valid/labels/Rock-Pigeon-25_jpg.rf.ed0e32b9f1b739f1000be876d73c86ce.txt  \n",
            "  inflating: dataset/valid/labels/Rock-Pigeon-265_jpg.rf.73447c88b98a206caff63906b7fe965c.txt  \n",
            "  inflating: dataset/valid/labels/Rock-Pigeon-268_jpg.rf.1bf26005b2eb20800eae956185532ec2.txt  \n",
            "  inflating: dataset/valid/labels/Rock-Pigeon-271_jpg.rf.3fadbcf42059d22f5a260f92f4e1fe96.txt  \n",
            "  inflating: dataset/valid/labels/Rock-Pigeon-276_jpg.rf.75ce756f0d98f80932c209773b9fd07c.txt  \n",
            "  inflating: dataset/valid/labels/Rock-Pigeon-277_jpg.rf.f7477947f3cca0bfe293bfcdb4c472a6.txt  \n",
            "  inflating: dataset/valid/labels/Rock-Pigeon-289_jpg.rf.10ed2e537a339cbbff26bdc6bda55c16.txt  \n",
            "  inflating: dataset/valid/labels/Rock-Pigeon-290_jpg.rf.3e6236d3c56c93bc104a96d99d01da30.txt  \n",
            "  inflating: dataset/valid/labels/Rock-Pigeon-297_jpg.rf.a4d2f27c49b7a809a7b61b28fe520e09.txt  \n",
            "  inflating: dataset/valid/labels/Rock-Pigeon-299_jpg.rf.3966d407023eec4c613cc3733fff9777.txt  \n",
            "  inflating: dataset/valid/labels/Rock-Pigeon-301_jpg.rf.b7645e27f1784a598de5765cd7d466cb.txt  \n",
            "  inflating: dataset/valid/labels/Rock-Pigeon-303_jpg.rf.492b128bf3fe033ab789864474ef1572.txt  \n",
            "  inflating: dataset/valid/labels/Rock-Pigeon-30_jpg.rf.483fd7b78deaac0eb0b3788f3bffbfde.txt  \n",
            "  inflating: dataset/valid/labels/Rock-Pigeon-324_jpg.rf.161382bfb3c68d7e4ade3d99514df48d.txt  \n",
            "  inflating: dataset/valid/labels/Rock-Pigeon-327_jpg.rf.988f7831835f8f9bb6e8d15af92b5982.txt  \n",
            "  inflating: dataset/valid/labels/Rock-Pigeon-335_jpg.rf.460d6f73cbd25dc11aaa13f195c5bd39.txt  \n",
            "  inflating: dataset/valid/labels/Rock-Pigeon-337_jpg.rf.3b2ab74c18926c7ab7f57ec81734af64.txt  \n",
            "  inflating: dataset/valid/labels/Rock-Pigeon-347_jpg.rf.4ff04bde0f882e5d99a94e15b98888aa.txt  \n",
            "  inflating: dataset/valid/labels/Rock-Pigeon-349_jpg.rf.ac5936bf6c63b8f67dd004fdc943c6b6.txt  \n",
            "  inflating: dataset/valid/labels/Rock-Pigeon-353_jpg.rf.56a8150475a5c52a434a053aebbf9382.txt  \n",
            "  inflating: dataset/valid/labels/Rock-Pigeon-35_jpg.rf.75ece46ed5f6aa50ae4bf253df17ab08.txt  \n",
            "  inflating: dataset/valid/labels/Rock-Pigeon-368_jpg.rf.c8b2675ceec5cf3d9319d15b26ad678d.txt  \n",
            "  inflating: dataset/valid/labels/Rock-Pigeon-372_jpg.rf.b171779b8a6ca4ca628da9427b58e36e.txt  \n",
            "  inflating: dataset/valid/labels/Rock-Pigeon-46_jpg.rf.ab5ac6cc7278d0c5bf617ef3dd498347.txt  \n",
            "  inflating: dataset/valid/labels/Rock-Pigeon-49_jpg.rf.6827610d1dba43e3a64ca2ac0ec0fe64.txt  \n",
            "  inflating: dataset/valid/labels/Rock-Pigeon-53_jpg.rf.dc018bcc715d29f264c47312d5c84b5a.txt  \n",
            "  inflating: dataset/valid/labels/Rock-Pigeon-61_jpg.rf.9f1e4df144ac30336c5a05eaa1e8f29a.txt  \n",
            "  inflating: dataset/valid/labels/Rock-Pigeon-70_jpg.rf.89bdaa10215125a40dfa4f97089a5327.txt  \n",
            "  inflating: dataset/valid/labels/Rock-Pigeon-72_jpg.rf.0fd9227fbc4862640aa1e32959d5cda5.txt  \n",
            "  inflating: dataset/valid/labels/Rock-Pigeon-74_jpg.rf.0938f47902e4a84709e308da39db24b6.txt  \n",
            "  inflating: dataset/valid/labels/Rock-Pigeon-84_jpg.rf.bcbb6b07afa305603e7e5a51567b6c5b.txt  \n",
            "  inflating: dataset/valid/labels/Rock-Pigeon-87_jpg.rf.dd4cad5b6f02309ccccdb8bc57d425a9.txt  \n",
            "  inflating: dataset/valid/labels/Rock-Pigeon-88_jpg.rf.e01d8795a28352866599a3cc5028a92a.txt  \n",
            "  inflating: dataset/valid/labels/Rock-Pigeon-99_jpg.rf.41ac376b3009cc9cec75711d3a0e74bb.txt  \n"
          ]
        }
      ]
    },
    {
      "cell_type": "code",
      "source": [
        "model.train(\n",
        "    data=\"/content/dataset/data.yaml\",\n",
        "    epochs=80,\n",
        "    imgsz=640,\n",
        "    project=\"treinamento\",\n",
        "    name=\"pombos_yolov12n\",\n",
        "    exist_ok=True\n",
        ")"
      ],
      "metadata": {
        "colab": {
          "base_uri": "https://localhost:8080/"
        },
        "id": "Bf0oaGTGtbkn",
        "outputId": "0f4877d7-c4ff-4327-f0c8-64b3e6bd4549"
      },
      "execution_count": null,
      "outputs": [
        {
          "output_type": "stream",
          "name": "stdout",
          "text": [
            "Ultralytics 8.3.154 🚀 Python-3.11.13 torch-2.6.0+cu124 CUDA:0 (Tesla T4, 15095MiB)\n",
            "\u001b[34m\u001b[1mengine/trainer: \u001b[0magnostic_nms=False, amp=True, augment=False, auto_augment=randaugment, batch=16, bgr=0.0, box=7.5, cache=False, cfg=None, classes=None, close_mosaic=10, cls=0.5, conf=None, copy_paste=0.0, copy_paste_mode=flip, cos_lr=False, cutmix=0.0, data=/content/dataset/data.yaml, degrees=0.0, deterministic=True, device=None, dfl=1.5, dnn=False, dropout=0.0, dynamic=False, embed=None, epochs=80, erasing=0.4, exist_ok=True, fliplr=0.5, flipud=0.0, format=torchscript, fraction=1.0, freeze=None, half=False, hsv_h=0.015, hsv_s=0.7, hsv_v=0.4, imgsz=640, int8=False, iou=0.7, keras=False, kobj=1.0, line_width=None, lr0=0.01, lrf=0.01, mask_ratio=4, max_det=300, mixup=0.0, mode=train, model=yolo11n.pt, momentum=0.937, mosaic=1.0, multi_scale=False, name=pombos_yolov12n, nbs=64, nms=False, opset=None, optimize=False, optimizer=auto, overlap_mask=True, patience=100, perspective=0.0, plots=True, pose=12.0, pretrained=True, profile=False, project=treinamento, rect=False, resume=False, retina_masks=False, save=True, save_conf=False, save_crop=False, save_dir=treinamento/pombos_yolov12n, save_frames=False, save_json=False, save_period=-1, save_txt=False, scale=0.5, seed=0, shear=0.0, show=False, show_boxes=True, show_conf=True, show_labels=True, simplify=True, single_cls=False, source=None, split=val, stream_buffer=False, task=detect, time=None, tracker=botsort.yaml, translate=0.1, val=True, verbose=True, vid_stride=1, visualize=False, warmup_bias_lr=0.1, warmup_epochs=3.0, warmup_momentum=0.8, weight_decay=0.0005, workers=8, workspace=None\n",
            "Overriding model.yaml nc=80 with nc=1\n",
            "\n",
            "                   from  n    params  module                                       arguments                     \n",
            "  0                  -1  1       464  ultralytics.nn.modules.conv.Conv             [3, 16, 3, 2]                 \n",
            "  1                  -1  1      4672  ultralytics.nn.modules.conv.Conv             [16, 32, 3, 2]                \n",
            "  2                  -1  1      6640  ultralytics.nn.modules.block.C3k2            [32, 64, 1, False, 0.25]      \n",
            "  3                  -1  1     36992  ultralytics.nn.modules.conv.Conv             [64, 64, 3, 2]                \n",
            "  4                  -1  1     26080  ultralytics.nn.modules.block.C3k2            [64, 128, 1, False, 0.25]     \n",
            "  5                  -1  1    147712  ultralytics.nn.modules.conv.Conv             [128, 128, 3, 2]              \n",
            "  6                  -1  1     87040  ultralytics.nn.modules.block.C3k2            [128, 128, 1, True]           \n",
            "  7                  -1  1    295424  ultralytics.nn.modules.conv.Conv             [128, 256, 3, 2]              \n",
            "  8                  -1  1    346112  ultralytics.nn.modules.block.C3k2            [256, 256, 1, True]           \n",
            "  9                  -1  1    164608  ultralytics.nn.modules.block.SPPF            [256, 256, 5]                 \n",
            " 10                  -1  1    249728  ultralytics.nn.modules.block.C2PSA           [256, 256, 1]                 \n",
            " 11                  -1  1         0  torch.nn.modules.upsampling.Upsample         [None, 2, 'nearest']          \n",
            " 12             [-1, 6]  1         0  ultralytics.nn.modules.conv.Concat           [1]                           \n",
            " 13                  -1  1    111296  ultralytics.nn.modules.block.C3k2            [384, 128, 1, False]          \n",
            " 14                  -1  1         0  torch.nn.modules.upsampling.Upsample         [None, 2, 'nearest']          \n",
            " 15             [-1, 4]  1         0  ultralytics.nn.modules.conv.Concat           [1]                           \n",
            " 16                  -1  1     32096  ultralytics.nn.modules.block.C3k2            [256, 64, 1, False]           \n",
            " 17                  -1  1     36992  ultralytics.nn.modules.conv.Conv             [64, 64, 3, 2]                \n",
            " 18            [-1, 13]  1         0  ultralytics.nn.modules.conv.Concat           [1]                           \n",
            " 19                  -1  1     86720  ultralytics.nn.modules.block.C3k2            [192, 128, 1, False]          \n",
            " 20                  -1  1    147712  ultralytics.nn.modules.conv.Conv             [128, 128, 3, 2]              \n",
            " 21            [-1, 10]  1         0  ultralytics.nn.modules.conv.Concat           [1]                           \n",
            " 22                  -1  1    378880  ultralytics.nn.modules.block.C3k2            [384, 256, 1, True]           \n",
            " 23        [16, 19, 22]  1    430867  ultralytics.nn.modules.head.Detect           [1, [64, 128, 256]]           \n",
            "YOLO11n summary: 181 layers, 2,590,035 parameters, 2,590,019 gradients, 6.4 GFLOPs\n",
            "\n",
            "Transferred 448/499 items from pretrained weights\n",
            "Freezing layer 'model.23.dfl.conv.weight'\n",
            "\u001b[34m\u001b[1mAMP: \u001b[0mrunning Automatic Mixed Precision (AMP) checks...\n",
            "\u001b[34m\u001b[1mAMP: \u001b[0mchecks passed ✅\n",
            "\u001b[34m\u001b[1mtrain: \u001b[0mFast image access ✅ (ping: 0.0±0.0 ms, read: 312.4±187.2 MB/s, size: 15.8 KB)\n"
          ]
        },
        {
          "output_type": "stream",
          "name": "stderr",
          "text": [
            "\u001b[34m\u001b[1mtrain: \u001b[0mScanning /content/dataset/train/labels... 296 images, 0 backgrounds, 0 corrupt: 100%|██████████| 296/296 [00:00<00:00, 2347.83it/s]"
          ]
        },
        {
          "output_type": "stream",
          "name": "stdout",
          "text": [
            "\u001b[34m\u001b[1mtrain: \u001b[0mNew cache created: /content/dataset/train/labels.cache\n",
            "\u001b[34m\u001b[1malbumentations: \u001b[0mBlur(p=0.01, blur_limit=(3, 7)), MedianBlur(p=0.01, blur_limit=(3, 7)), ToGray(p=0.01, method='weighted_average', num_output_channels=3), CLAHE(p=0.01, clip_limit=(1.0, 4.0), tile_grid_size=(8, 8))\n"
          ]
        },
        {
          "output_type": "stream",
          "name": "stderr",
          "text": [
            "\n"
          ]
        },
        {
          "output_type": "stream",
          "name": "stdout",
          "text": [
            "\u001b[34m\u001b[1mval: \u001b[0mFast image access ✅ (ping: 0.0±0.0 ms, read: 137.2±50.5 MB/s, size: 14.4 KB)\n"
          ]
        },
        {
          "output_type": "stream",
          "name": "stderr",
          "text": [
            "\u001b[34m\u001b[1mval: \u001b[0mScanning /content/dataset/valid/labels... 74 images, 0 backgrounds, 0 corrupt: 100%|██████████| 74/74 [00:00<00:00, 985.33it/s]"
          ]
        },
        {
          "output_type": "stream",
          "name": "stdout",
          "text": [
            "\u001b[34m\u001b[1mval: \u001b[0mNew cache created: /content/dataset/valid/labels.cache\n"
          ]
        },
        {
          "output_type": "stream",
          "name": "stderr",
          "text": [
            "\n"
          ]
        },
        {
          "output_type": "stream",
          "name": "stdout",
          "text": [
            "Plotting labels to treinamento/pombos_yolov12n/labels.jpg... \n",
            "\u001b[34m\u001b[1moptimizer:\u001b[0m 'optimizer=auto' found, ignoring 'lr0=0.01' and 'momentum=0.937' and determining best 'optimizer', 'lr0' and 'momentum' automatically... \n",
            "\u001b[34m\u001b[1moptimizer:\u001b[0m AdamW(lr=0.002, momentum=0.9) with parameter groups 81 weight(decay=0.0), 88 weight(decay=0.0005), 87 bias(decay=0.0)\n",
            "Image sizes 640 train, 640 val\n",
            "Using 2 dataloader workers\n",
            "Logging results to \u001b[1mtreinamento/pombos_yolov12n\u001b[0m\n",
            "Starting training for 80 epochs...\n",
            "\n",
            "      Epoch    GPU_mem   box_loss   cls_loss   dfl_loss  Instances       Size\n"
          ]
        },
        {
          "output_type": "stream",
          "name": "stderr",
          "text": [
            "       1/80       2.7G      1.145      2.564      1.547         24        640: 100%|██████████| 19/19 [00:06<00:00,  3.07it/s]\n",
            "                 Class     Images  Instances      Box(P          R      mAP50  mAP50-95): 100%|██████████| 3/3 [00:00<00:00,  4.68it/s]"
          ]
        },
        {
          "output_type": "stream",
          "name": "stdout",
          "text": [
            "                   all         74         83    0.00374          1       0.63      0.388\n"
          ]
        },
        {
          "output_type": "stream",
          "name": "stderr",
          "text": [
            "\n"
          ]
        },
        {
          "output_type": "stream",
          "name": "stdout",
          "text": [
            "\n",
            "      Epoch    GPU_mem   box_loss   cls_loss   dfl_loss  Instances       Size\n"
          ]
        },
        {
          "output_type": "stream",
          "name": "stderr",
          "text": [
            "       2/80      3.08G      1.196      1.898      1.535         23        640: 100%|██████████| 19/19 [00:06<00:00,  2.99it/s]\n",
            "                 Class     Images  Instances      Box(P          R      mAP50  mAP50-95): 100%|██████████| 3/3 [00:00<00:00,  5.02it/s]"
          ]
        },
        {
          "output_type": "stream",
          "name": "stdout",
          "text": [
            "                   all         74         83          1      0.176        0.6       0.27\n"
          ]
        },
        {
          "output_type": "stream",
          "name": "stderr",
          "text": [
            "\n"
          ]
        },
        {
          "output_type": "stream",
          "name": "stdout",
          "text": [
            "\n",
            "      Epoch    GPU_mem   box_loss   cls_loss   dfl_loss  Instances       Size\n"
          ]
        },
        {
          "output_type": "stream",
          "name": "stderr",
          "text": [
            "       3/80      3.08G      1.313      1.796      1.615         14        640: 100%|██████████| 19/19 [00:05<00:00,  3.68it/s]\n",
            "                 Class     Images  Instances      Box(P          R      mAP50  mAP50-95): 100%|██████████| 3/3 [00:00<00:00,  4.77it/s]"
          ]
        },
        {
          "output_type": "stream",
          "name": "stdout",
          "text": [
            "                   all         74         83      0.618       0.41      0.519      0.237\n"
          ]
        },
        {
          "output_type": "stream",
          "name": "stderr",
          "text": [
            "\n"
          ]
        },
        {
          "output_type": "stream",
          "name": "stdout",
          "text": [
            "\n",
            "      Epoch    GPU_mem   box_loss   cls_loss   dfl_loss  Instances       Size\n"
          ]
        },
        {
          "output_type": "stream",
          "name": "stderr",
          "text": [
            "       4/80      3.08G      1.324      1.751       1.62         22        640: 100%|██████████| 19/19 [00:06<00:00,  3.02it/s]\n",
            "                 Class     Images  Instances      Box(P          R      mAP50  mAP50-95): 100%|██████████| 3/3 [00:00<00:00,  4.75it/s]"
          ]
        },
        {
          "output_type": "stream",
          "name": "stdout",
          "text": [
            "                   all         74         83      0.289      0.386      0.337      0.145\n"
          ]
        },
        {
          "output_type": "stream",
          "name": "stderr",
          "text": [
            "\n"
          ]
        },
        {
          "output_type": "stream",
          "name": "stdout",
          "text": [
            "\n",
            "      Epoch    GPU_mem   box_loss   cls_loss   dfl_loss  Instances       Size\n"
          ]
        },
        {
          "output_type": "stream",
          "name": "stderr",
          "text": [
            "       5/80      3.08G      1.371      1.754      1.647         24        640: 100%|██████████| 19/19 [00:04<00:00,  3.84it/s]\n",
            "                 Class     Images  Instances      Box(P          R      mAP50  mAP50-95): 100%|██████████| 3/3 [00:00<00:00,  4.59it/s]"
          ]
        },
        {
          "output_type": "stream",
          "name": "stdout",
          "text": [
            "                   all         74         83       0.06     0.0723     0.0271     0.0076\n"
          ]
        },
        {
          "output_type": "stream",
          "name": "stderr",
          "text": [
            "\n"
          ]
        },
        {
          "output_type": "stream",
          "name": "stdout",
          "text": [
            "\n",
            "      Epoch    GPU_mem   box_loss   cls_loss   dfl_loss  Instances       Size\n"
          ]
        },
        {
          "output_type": "stream",
          "name": "stderr",
          "text": [
            "       6/80      3.08G      1.405      1.668      1.632         22        640: 100%|██████████| 19/19 [00:06<00:00,  3.02it/s]\n",
            "                 Class     Images  Instances      Box(P          R      mAP50  mAP50-95): 100%|██████████| 3/3 [00:00<00:00,  4.71it/s]"
          ]
        },
        {
          "output_type": "stream",
          "name": "stdout",
          "text": [
            "                   all         74         83      0.428      0.494      0.388      0.171\n"
          ]
        },
        {
          "output_type": "stream",
          "name": "stderr",
          "text": [
            "\n"
          ]
        },
        {
          "output_type": "stream",
          "name": "stdout",
          "text": [
            "\n",
            "      Epoch    GPU_mem   box_loss   cls_loss   dfl_loss  Instances       Size\n"
          ]
        },
        {
          "output_type": "stream",
          "name": "stderr",
          "text": [
            "       7/80      3.08G      1.392      1.604       1.63         17        640: 100%|██████████| 19/19 [00:05<00:00,  3.72it/s]\n",
            "                 Class     Images  Instances      Box(P          R      mAP50  mAP50-95): 100%|██████████| 3/3 [00:00<00:00,  4.75it/s]"
          ]
        },
        {
          "output_type": "stream",
          "name": "stdout",
          "text": [
            "                   all         74         83      0.393       0.59      0.408      0.202\n"
          ]
        },
        {
          "output_type": "stream",
          "name": "stderr",
          "text": [
            "\n"
          ]
        },
        {
          "output_type": "stream",
          "name": "stdout",
          "text": [
            "\n",
            "      Epoch    GPU_mem   box_loss   cls_loss   dfl_loss  Instances       Size\n"
          ]
        },
        {
          "output_type": "stream",
          "name": "stderr",
          "text": [
            "       8/80      3.08G      1.375      1.494      1.623         19        640: 100%|██████████| 19/19 [00:06<00:00,  2.83it/s]\n",
            "                 Class     Images  Instances      Box(P          R      mAP50  mAP50-95): 100%|██████████| 3/3 [00:00<00:00,  4.14it/s]"
          ]
        },
        {
          "output_type": "stream",
          "name": "stdout",
          "text": [
            "                   all         74         83      0.327      0.422      0.287       0.11\n"
          ]
        },
        {
          "output_type": "stream",
          "name": "stderr",
          "text": [
            "\n"
          ]
        },
        {
          "output_type": "stream",
          "name": "stdout",
          "text": [
            "\n",
            "      Epoch    GPU_mem   box_loss   cls_loss   dfl_loss  Instances       Size\n"
          ]
        },
        {
          "output_type": "stream",
          "name": "stderr",
          "text": [
            "       9/80      3.08G      1.377       1.46      1.621         20        640: 100%|██████████| 19/19 [00:05<00:00,  3.73it/s]\n",
            "                 Class     Images  Instances      Box(P          R      mAP50  mAP50-95): 100%|██████████| 3/3 [00:00<00:00,  4.81it/s]"
          ]
        },
        {
          "output_type": "stream",
          "name": "stdout",
          "text": [
            "                   all         74         83      0.668      0.663      0.646       0.34\n"
          ]
        },
        {
          "output_type": "stream",
          "name": "stderr",
          "text": [
            "\n"
          ]
        },
        {
          "output_type": "stream",
          "name": "stdout",
          "text": [
            "\n",
            "      Epoch    GPU_mem   box_loss   cls_loss   dfl_loss  Instances       Size\n"
          ]
        },
        {
          "output_type": "stream",
          "name": "stderr",
          "text": [
            "      10/80      3.08G      1.353      1.349      1.587         22        640: 100%|██████████| 19/19 [00:06<00:00,  2.97it/s]\n",
            "                 Class     Images  Instances      Box(P          R      mAP50  mAP50-95): 100%|██████████| 3/3 [00:00<00:00,  4.72it/s]"
          ]
        },
        {
          "output_type": "stream",
          "name": "stdout",
          "text": [
            "                   all         74         83      0.476       0.68      0.538      0.231\n"
          ]
        },
        {
          "output_type": "stream",
          "name": "stderr",
          "text": [
            "\n"
          ]
        },
        {
          "output_type": "stream",
          "name": "stdout",
          "text": [
            "\n",
            "      Epoch    GPU_mem   box_loss   cls_loss   dfl_loss  Instances       Size\n"
          ]
        },
        {
          "output_type": "stream",
          "name": "stderr",
          "text": [
            "      11/80      3.08G      1.311      1.381      1.556         21        640: 100%|██████████| 19/19 [00:04<00:00,  3.99it/s]\n",
            "                 Class     Images  Instances      Box(P          R      mAP50  mAP50-95): 100%|██████████| 3/3 [00:00<00:00,  3.59it/s]"
          ]
        },
        {
          "output_type": "stream",
          "name": "stdout",
          "text": [
            "                   all         74         83      0.735      0.566       0.66      0.327\n"
          ]
        },
        {
          "output_type": "stream",
          "name": "stderr",
          "text": [
            "\n"
          ]
        },
        {
          "output_type": "stream",
          "name": "stdout",
          "text": [
            "\n",
            "      Epoch    GPU_mem   box_loss   cls_loss   dfl_loss  Instances       Size\n"
          ]
        },
        {
          "output_type": "stream",
          "name": "stderr",
          "text": [
            "      12/80      3.08G      1.281      1.253      1.571         18        640: 100%|██████████| 19/19 [00:06<00:00,  2.96it/s]\n",
            "                 Class     Images  Instances      Box(P          R      mAP50  mAP50-95): 100%|██████████| 3/3 [00:00<00:00,  4.71it/s]"
          ]
        },
        {
          "output_type": "stream",
          "name": "stdout",
          "text": [
            "                   all         74         83      0.686      0.687      0.736      0.451\n"
          ]
        },
        {
          "output_type": "stream",
          "name": "stderr",
          "text": [
            "\n"
          ]
        },
        {
          "output_type": "stream",
          "name": "stdout",
          "text": [
            "\n",
            "      Epoch    GPU_mem   box_loss   cls_loss   dfl_loss  Instances       Size\n"
          ]
        },
        {
          "output_type": "stream",
          "name": "stderr",
          "text": [
            "      13/80      3.08G      1.324      1.288      1.565         20        640: 100%|██████████| 19/19 [00:05<00:00,  3.68it/s]\n",
            "                 Class     Images  Instances      Box(P          R      mAP50  mAP50-95): 100%|██████████| 3/3 [00:00<00:00,  4.46it/s]"
          ]
        },
        {
          "output_type": "stream",
          "name": "stdout",
          "text": [
            "                   all         74         83      0.698      0.586      0.666       0.34\n"
          ]
        },
        {
          "output_type": "stream",
          "name": "stderr",
          "text": [
            "\n"
          ]
        },
        {
          "output_type": "stream",
          "name": "stdout",
          "text": [
            "\n",
            "      Epoch    GPU_mem   box_loss   cls_loss   dfl_loss  Instances       Size\n"
          ]
        },
        {
          "output_type": "stream",
          "name": "stderr",
          "text": [
            "      14/80      3.08G      1.248      1.184      1.556         16        640: 100%|██████████| 19/19 [00:06<00:00,  2.91it/s]\n",
            "                 Class     Images  Instances      Box(P          R      mAP50  mAP50-95): 100%|██████████| 3/3 [00:00<00:00,  4.53it/s]"
          ]
        },
        {
          "output_type": "stream",
          "name": "stdout",
          "text": [
            "                   all         74         83      0.893      0.806      0.917      0.545\n"
          ]
        },
        {
          "output_type": "stream",
          "name": "stderr",
          "text": [
            "\n"
          ]
        },
        {
          "output_type": "stream",
          "name": "stdout",
          "text": [
            "\n",
            "      Epoch    GPU_mem   box_loss   cls_loss   dfl_loss  Instances       Size\n"
          ]
        },
        {
          "output_type": "stream",
          "name": "stderr",
          "text": [
            "      15/80      3.08G      1.285      1.232      1.525         21        640: 100%|██████████| 19/19 [00:05<00:00,  3.67it/s]\n",
            "                 Class     Images  Instances      Box(P          R      mAP50  mAP50-95): 100%|██████████| 3/3 [00:00<00:00,  4.29it/s]"
          ]
        },
        {
          "output_type": "stream",
          "name": "stdout",
          "text": [
            "                   all         74         83      0.706      0.771      0.685      0.402\n"
          ]
        },
        {
          "output_type": "stream",
          "name": "stderr",
          "text": [
            "\n"
          ]
        },
        {
          "output_type": "stream",
          "name": "stdout",
          "text": [
            "\n",
            "      Epoch    GPU_mem   box_loss   cls_loss   dfl_loss  Instances       Size\n"
          ]
        },
        {
          "output_type": "stream",
          "name": "stderr",
          "text": [
            "      16/80      3.08G      1.294      1.196      1.541         20        640: 100%|██████████| 19/19 [00:06<00:00,  3.10it/s]\n",
            "                 Class     Images  Instances      Box(P          R      mAP50  mAP50-95): 100%|██████████| 3/3 [00:00<00:00,  4.14it/s]"
          ]
        },
        {
          "output_type": "stream",
          "name": "stdout",
          "text": [
            "                   all         74         83      0.888      0.771      0.865       0.55\n"
          ]
        },
        {
          "output_type": "stream",
          "name": "stderr",
          "text": [
            "\n"
          ]
        },
        {
          "output_type": "stream",
          "name": "stdout",
          "text": [
            "\n",
            "      Epoch    GPU_mem   box_loss   cls_loss   dfl_loss  Instances       Size\n"
          ]
        },
        {
          "output_type": "stream",
          "name": "stderr",
          "text": [
            "      17/80      3.08G      1.246      1.117      1.516         22        640: 100%|██████████| 19/19 [00:04<00:00,  4.02it/s]\n",
            "                 Class     Images  Instances      Box(P          R      mAP50  mAP50-95): 100%|██████████| 3/3 [00:00<00:00,  4.72it/s]"
          ]
        },
        {
          "output_type": "stream",
          "name": "stdout",
          "text": [
            "                   all         74         83       0.87      0.855      0.902      0.573\n"
          ]
        },
        {
          "output_type": "stream",
          "name": "stderr",
          "text": [
            "\n"
          ]
        },
        {
          "output_type": "stream",
          "name": "stdout",
          "text": [
            "\n",
            "      Epoch    GPU_mem   box_loss   cls_loss   dfl_loss  Instances       Size\n"
          ]
        },
        {
          "output_type": "stream",
          "name": "stderr",
          "text": [
            "      18/80      3.08G      1.268      1.145      1.532         15        640: 100%|██████████| 19/19 [00:05<00:00,  3.30it/s]\n",
            "                 Class     Images  Instances      Box(P          R      mAP50  mAP50-95): 100%|██████████| 3/3 [00:00<00:00,  4.68it/s]"
          ]
        },
        {
          "output_type": "stream",
          "name": "stdout",
          "text": [
            "                   all         74         83      0.761      0.651      0.768      0.462\n"
          ]
        },
        {
          "output_type": "stream",
          "name": "stderr",
          "text": [
            "\n"
          ]
        },
        {
          "output_type": "stream",
          "name": "stdout",
          "text": [
            "\n",
            "      Epoch    GPU_mem   box_loss   cls_loss   dfl_loss  Instances       Size\n"
          ]
        },
        {
          "output_type": "stream",
          "name": "stderr",
          "text": [
            "      19/80      3.08G      1.211      1.095      1.487         15        640: 100%|██████████| 19/19 [00:04<00:00,  3.83it/s]\n",
            "                 Class     Images  Instances      Box(P          R      mAP50  mAP50-95): 100%|██████████| 3/3 [00:00<00:00,  4.01it/s]"
          ]
        },
        {
          "output_type": "stream",
          "name": "stdout",
          "text": [
            "                   all         74         83      0.686      0.896      0.868      0.544\n"
          ]
        },
        {
          "output_type": "stream",
          "name": "stderr",
          "text": [
            "\n"
          ]
        },
        {
          "output_type": "stream",
          "name": "stdout",
          "text": [
            "\n",
            "      Epoch    GPU_mem   box_loss   cls_loss   dfl_loss  Instances       Size\n"
          ]
        },
        {
          "output_type": "stream",
          "name": "stderr",
          "text": [
            "      20/80      3.08G      1.181       1.08      1.466         17        640: 100%|██████████| 19/19 [00:05<00:00,  3.30it/s]\n",
            "                 Class     Images  Instances      Box(P          R      mAP50  mAP50-95): 100%|██████████| 3/3 [00:00<00:00,  4.15it/s]"
          ]
        },
        {
          "output_type": "stream",
          "name": "stdout",
          "text": [
            "                   all         74         83      0.899      0.831      0.917       0.51\n"
          ]
        },
        {
          "output_type": "stream",
          "name": "stderr",
          "text": [
            "\n"
          ]
        },
        {
          "output_type": "stream",
          "name": "stdout",
          "text": [
            "\n",
            "      Epoch    GPU_mem   box_loss   cls_loss   dfl_loss  Instances       Size\n"
          ]
        },
        {
          "output_type": "stream",
          "name": "stderr",
          "text": [
            "      21/80      3.08G      1.203      1.054      1.511         16        640: 100%|██████████| 19/19 [00:05<00:00,  3.78it/s]\n",
            "                 Class     Images  Instances      Box(P          R      mAP50  mAP50-95): 100%|██████████| 3/3 [00:00<00:00,  4.09it/s]"
          ]
        },
        {
          "output_type": "stream",
          "name": "stdout",
          "text": [
            "                   all         74         83      0.913      0.886      0.937      0.576\n"
          ]
        },
        {
          "output_type": "stream",
          "name": "stderr",
          "text": [
            "\n"
          ]
        },
        {
          "output_type": "stream",
          "name": "stdout",
          "text": [
            "\n",
            "      Epoch    GPU_mem   box_loss   cls_loss   dfl_loss  Instances       Size\n"
          ]
        },
        {
          "output_type": "stream",
          "name": "stderr",
          "text": [
            "      22/80      3.08G      1.139     0.9666      1.453         28        640: 100%|██████████| 19/19 [00:05<00:00,  3.33it/s]\n",
            "                 Class     Images  Instances      Box(P          R      mAP50  mAP50-95): 100%|██████████| 3/3 [00:00<00:00,  4.28it/s]"
          ]
        },
        {
          "output_type": "stream",
          "name": "stdout",
          "text": [
            "                   all         74         83      0.781      0.831      0.867      0.512\n"
          ]
        },
        {
          "output_type": "stream",
          "name": "stderr",
          "text": [
            "\n"
          ]
        },
        {
          "output_type": "stream",
          "name": "stdout",
          "text": [
            "\n",
            "      Epoch    GPU_mem   box_loss   cls_loss   dfl_loss  Instances       Size\n"
          ]
        },
        {
          "output_type": "stream",
          "name": "stderr",
          "text": [
            "      23/80      3.08G      1.161      1.009       1.44         20        640: 100%|██████████| 19/19 [00:04<00:00,  3.81it/s]\n",
            "                 Class     Images  Instances      Box(P          R      mAP50  mAP50-95): 100%|██████████| 3/3 [00:01<00:00,  2.89it/s]\n"
          ]
        },
        {
          "output_type": "stream",
          "name": "stdout",
          "text": [
            "                   all         74         83      0.878      0.904      0.933      0.638\n",
            "\n",
            "      Epoch    GPU_mem   box_loss   cls_loss   dfl_loss  Instances       Size\n"
          ]
        },
        {
          "output_type": "stream",
          "name": "stderr",
          "text": [
            "      24/80      3.08G      1.183      1.021       1.44         14        640: 100%|██████████| 19/19 [00:05<00:00,  3.44it/s]\n",
            "                 Class     Images  Instances      Box(P          R      mAP50  mAP50-95): 100%|██████████| 3/3 [00:00<00:00,  5.04it/s]"
          ]
        },
        {
          "output_type": "stream",
          "name": "stdout",
          "text": [
            "                   all         74         83      0.889       0.88      0.916      0.597\n"
          ]
        },
        {
          "output_type": "stream",
          "name": "stderr",
          "text": [
            "\n"
          ]
        },
        {
          "output_type": "stream",
          "name": "stdout",
          "text": [
            "\n",
            "      Epoch    GPU_mem   box_loss   cls_loss   dfl_loss  Instances       Size\n"
          ]
        },
        {
          "output_type": "stream",
          "name": "stderr",
          "text": [
            "      25/80      3.08G      1.178     0.9629      1.474         17        640: 100%|██████████| 19/19 [00:04<00:00,  3.92it/s]\n",
            "                 Class     Images  Instances      Box(P          R      mAP50  mAP50-95): 100%|██████████| 3/3 [00:00<00:00,  3.38it/s]"
          ]
        },
        {
          "output_type": "stream",
          "name": "stdout",
          "text": [
            "                   all         74         83      0.928       0.94      0.953      0.628\n"
          ]
        },
        {
          "output_type": "stream",
          "name": "stderr",
          "text": [
            "\n"
          ]
        },
        {
          "output_type": "stream",
          "name": "stdout",
          "text": [
            "\n",
            "      Epoch    GPU_mem   box_loss   cls_loss   dfl_loss  Instances       Size\n"
          ]
        },
        {
          "output_type": "stream",
          "name": "stderr",
          "text": [
            "      26/80      3.08G      1.204      1.037       1.47         22        640: 100%|██████████| 19/19 [00:05<00:00,  3.35it/s]\n",
            "                 Class     Images  Instances      Box(P          R      mAP50  mAP50-95): 100%|██████████| 3/3 [00:00<00:00,  5.39it/s]"
          ]
        },
        {
          "output_type": "stream",
          "name": "stdout",
          "text": [
            "                   all         74         83      0.852        0.9      0.921      0.627\n"
          ]
        },
        {
          "output_type": "stream",
          "name": "stderr",
          "text": [
            "\n"
          ]
        },
        {
          "output_type": "stream",
          "name": "stdout",
          "text": [
            "\n",
            "      Epoch    GPU_mem   box_loss   cls_loss   dfl_loss  Instances       Size\n"
          ]
        },
        {
          "output_type": "stream",
          "name": "stderr",
          "text": [
            "      27/80      3.08G      1.156     0.9478      1.445         18        640: 100%|██████████| 19/19 [00:05<00:00,  3.62it/s]\n",
            "                 Class     Images  Instances      Box(P          R      mAP50  mAP50-95): 100%|██████████| 3/3 [00:00<00:00,  3.20it/s]"
          ]
        },
        {
          "output_type": "stream",
          "name": "stdout",
          "text": [
            "                   all         74         83      0.934      0.892      0.937      0.663\n"
          ]
        },
        {
          "output_type": "stream",
          "name": "stderr",
          "text": [
            "\n"
          ]
        },
        {
          "output_type": "stream",
          "name": "stdout",
          "text": [
            "\n",
            "      Epoch    GPU_mem   box_loss   cls_loss   dfl_loss  Instances       Size\n"
          ]
        },
        {
          "output_type": "stream",
          "name": "stderr",
          "text": [
            "      28/80       3.1G      1.183     0.9535      1.431         17        640: 100%|██████████| 19/19 [00:05<00:00,  3.56it/s]\n",
            "                 Class     Images  Instances      Box(P          R      mAP50  mAP50-95): 100%|██████████| 3/3 [00:00<00:00,  4.99it/s]"
          ]
        },
        {
          "output_type": "stream",
          "name": "stdout",
          "text": [
            "                   all         74         83      0.877      0.928      0.947       0.58\n"
          ]
        },
        {
          "output_type": "stream",
          "name": "stderr",
          "text": [
            "\n"
          ]
        },
        {
          "output_type": "stream",
          "name": "stdout",
          "text": [
            "\n",
            "      Epoch    GPU_mem   box_loss   cls_loss   dfl_loss  Instances       Size\n"
          ]
        },
        {
          "output_type": "stream",
          "name": "stderr",
          "text": [
            "      29/80      3.11G      1.114      0.917      1.414         19        640: 100%|██████████| 19/19 [00:04<00:00,  3.93it/s]\n",
            "                 Class     Images  Instances      Box(P          R      mAP50  mAP50-95): 100%|██████████| 3/3 [00:01<00:00,  2.60it/s]"
          ]
        },
        {
          "output_type": "stream",
          "name": "stdout",
          "text": [
            "                   all         74         83      0.929      0.916      0.955       0.69\n"
          ]
        },
        {
          "output_type": "stream",
          "name": "stderr",
          "text": [
            "\n"
          ]
        },
        {
          "output_type": "stream",
          "name": "stdout",
          "text": [
            "\n",
            "      Epoch    GPU_mem   box_loss   cls_loss   dfl_loss  Instances       Size\n"
          ]
        },
        {
          "output_type": "stream",
          "name": "stderr",
          "text": [
            "      30/80      3.13G      1.121     0.9383      1.431         28        640: 100%|██████████| 19/19 [00:05<00:00,  3.62it/s]\n",
            "                 Class     Images  Instances      Box(P          R      mAP50  mAP50-95): 100%|██████████| 3/3 [00:00<00:00,  4.61it/s]"
          ]
        },
        {
          "output_type": "stream",
          "name": "stdout",
          "text": [
            "                   all         74         83      0.931      0.904      0.951      0.652\n"
          ]
        },
        {
          "output_type": "stream",
          "name": "stderr",
          "text": [
            "\n"
          ]
        },
        {
          "output_type": "stream",
          "name": "stdout",
          "text": [
            "\n",
            "      Epoch    GPU_mem   box_loss   cls_loss   dfl_loss  Instances       Size\n"
          ]
        },
        {
          "output_type": "stream",
          "name": "stderr",
          "text": [
            "      31/80      3.13G       1.16     0.9311      1.424         23        640: 100%|██████████| 19/19 [00:05<00:00,  3.58it/s]\n",
            "                 Class     Images  Instances      Box(P          R      mAP50  mAP50-95): 100%|██████████| 3/3 [00:01<00:00,  2.97it/s]"
          ]
        },
        {
          "output_type": "stream",
          "name": "stdout",
          "text": [
            "                   all         74         83      0.863      0.908      0.925      0.637\n"
          ]
        },
        {
          "output_type": "stream",
          "name": "stderr",
          "text": [
            "\n"
          ]
        },
        {
          "output_type": "stream",
          "name": "stdout",
          "text": [
            "\n",
            "      Epoch    GPU_mem   box_loss   cls_loss   dfl_loss  Instances       Size\n"
          ]
        },
        {
          "output_type": "stream",
          "name": "stderr",
          "text": [
            "      32/80      3.16G       1.15     0.8705      1.471         14        640: 100%|██████████| 19/19 [00:05<00:00,  3.68it/s]\n",
            "                 Class     Images  Instances      Box(P          R      mAP50  mAP50-95): 100%|██████████| 3/3 [00:00<00:00,  5.17it/s]"
          ]
        },
        {
          "output_type": "stream",
          "name": "stdout",
          "text": [
            "                   all         74         83      0.936       0.94      0.961      0.724\n"
          ]
        },
        {
          "output_type": "stream",
          "name": "stderr",
          "text": [
            "\n"
          ]
        },
        {
          "output_type": "stream",
          "name": "stdout",
          "text": [
            "\n",
            "      Epoch    GPU_mem   box_loss   cls_loss   dfl_loss  Instances       Size\n"
          ]
        },
        {
          "output_type": "stream",
          "name": "stderr",
          "text": [
            "      33/80      3.17G      1.141     0.9214      1.418         19        640: 100%|██████████| 19/19 [00:05<00:00,  3.52it/s]\n",
            "                 Class     Images  Instances      Box(P          R      mAP50  mAP50-95): 100%|██████████| 3/3 [00:00<00:00,  3.10it/s]"
          ]
        },
        {
          "output_type": "stream",
          "name": "stdout",
          "text": [
            "                   all         74         83      0.885      0.952      0.958      0.704\n"
          ]
        },
        {
          "output_type": "stream",
          "name": "stderr",
          "text": [
            "\n"
          ]
        },
        {
          "output_type": "stream",
          "name": "stdout",
          "text": [
            "\n",
            "      Epoch    GPU_mem   box_loss   cls_loss   dfl_loss  Instances       Size\n"
          ]
        },
        {
          "output_type": "stream",
          "name": "stderr",
          "text": [
            "      34/80      3.19G      1.135      0.917      1.436         26        640: 100%|██████████| 19/19 [00:05<00:00,  3.75it/s]\n",
            "                 Class     Images  Instances      Box(P          R      mAP50  mAP50-95): 100%|██████████| 3/3 [00:00<00:00,  5.15it/s]"
          ]
        },
        {
          "output_type": "stream",
          "name": "stdout",
          "text": [
            "                   all         74         83       0.92      0.916      0.957      0.678\n"
          ]
        },
        {
          "output_type": "stream",
          "name": "stderr",
          "text": [
            "\n"
          ]
        },
        {
          "output_type": "stream",
          "name": "stdout",
          "text": [
            "\n",
            "      Epoch    GPU_mem   box_loss   cls_loss   dfl_loss  Instances       Size\n"
          ]
        },
        {
          "output_type": "stream",
          "name": "stderr",
          "text": [
            "      35/80       3.2G      1.096     0.8662      1.393         29        640: 100%|██████████| 19/19 [00:05<00:00,  3.53it/s]\n",
            "                 Class     Images  Instances      Box(P          R      mAP50  mAP50-95): 100%|██████████| 3/3 [00:01<00:00,  2.43it/s]"
          ]
        },
        {
          "output_type": "stream",
          "name": "stdout",
          "text": [
            "                   all         74         83      0.928      0.927      0.955      0.695\n"
          ]
        },
        {
          "output_type": "stream",
          "name": "stderr",
          "text": [
            "\n"
          ]
        },
        {
          "output_type": "stream",
          "name": "stdout",
          "text": [
            "\n",
            "      Epoch    GPU_mem   box_loss   cls_loss   dfl_loss  Instances       Size\n"
          ]
        },
        {
          "output_type": "stream",
          "name": "stderr",
          "text": [
            "      36/80      3.22G      1.213     0.9221      1.493         23        640: 100%|██████████| 19/19 [00:04<00:00,  3.81it/s]\n",
            "                 Class     Images  Instances      Box(P          R      mAP50  mAP50-95): 100%|██████████| 3/3 [00:00<00:00,  4.68it/s]"
          ]
        },
        {
          "output_type": "stream",
          "name": "stdout",
          "text": [
            "                   all         74         83      0.904      0.916      0.954      0.641\n"
          ]
        },
        {
          "output_type": "stream",
          "name": "stderr",
          "text": [
            "\n"
          ]
        },
        {
          "output_type": "stream",
          "name": "stdout",
          "text": [
            "\n",
            "      Epoch    GPU_mem   box_loss   cls_loss   dfl_loss  Instances       Size\n"
          ]
        },
        {
          "output_type": "stream",
          "name": "stderr",
          "text": [
            "      37/80      3.23G       1.11     0.8439      1.401         29        640: 100%|██████████| 19/19 [00:05<00:00,  3.26it/s]\n",
            "                 Class     Images  Instances      Box(P          R      mAP50  mAP50-95): 100%|██████████| 3/3 [00:00<00:00,  3.00it/s]"
          ]
        },
        {
          "output_type": "stream",
          "name": "stdout",
          "text": [
            "                   all         74         83      0.858      0.904      0.937       0.67\n"
          ]
        },
        {
          "output_type": "stream",
          "name": "stderr",
          "text": [
            "\n"
          ]
        },
        {
          "output_type": "stream",
          "name": "stdout",
          "text": [
            "\n",
            "      Epoch    GPU_mem   box_loss   cls_loss   dfl_loss  Instances       Size\n"
          ]
        },
        {
          "output_type": "stream",
          "name": "stderr",
          "text": [
            "      38/80      3.25G      1.118     0.8203      1.384         24        640: 100%|██████████| 19/19 [00:04<00:00,  3.88it/s]\n",
            "                 Class     Images  Instances      Box(P          R      mAP50  mAP50-95): 100%|██████████| 3/3 [00:00<00:00,  4.90it/s]"
          ]
        },
        {
          "output_type": "stream",
          "name": "stdout",
          "text": [
            "                   all         74         83      0.918      0.952      0.959       0.69\n"
          ]
        },
        {
          "output_type": "stream",
          "name": "stderr",
          "text": [
            "\n"
          ]
        },
        {
          "output_type": "stream",
          "name": "stdout",
          "text": [
            "\n",
            "      Epoch    GPU_mem   box_loss   cls_loss   dfl_loss  Instances       Size\n"
          ]
        },
        {
          "output_type": "stream",
          "name": "stderr",
          "text": [
            "      39/80      3.25G      1.074     0.8653      1.383         18        640: 100%|██████████| 19/19 [00:05<00:00,  3.54it/s]\n",
            "                 Class     Images  Instances      Box(P          R      mAP50  mAP50-95): 100%|██████████| 3/3 [00:01<00:00,  2.49it/s]"
          ]
        },
        {
          "output_type": "stream",
          "name": "stdout",
          "text": [
            "                   all         74         83        0.9      0.928      0.939      0.684\n"
          ]
        },
        {
          "output_type": "stream",
          "name": "stderr",
          "text": [
            "\n"
          ]
        },
        {
          "output_type": "stream",
          "name": "stdout",
          "text": [
            "\n",
            "      Epoch    GPU_mem   box_loss   cls_loss   dfl_loss  Instances       Size\n"
          ]
        },
        {
          "output_type": "stream",
          "name": "stderr",
          "text": [
            "      40/80      3.28G      1.028     0.8171      1.357         15        640: 100%|██████████| 19/19 [00:04<00:00,  3.84it/s]\n",
            "                 Class     Images  Instances      Box(P          R      mAP50  mAP50-95): 100%|██████████| 3/3 [00:00<00:00,  5.01it/s]"
          ]
        },
        {
          "output_type": "stream",
          "name": "stdout",
          "text": [
            "                   all         74         83      0.917      0.929      0.957      0.713\n"
          ]
        },
        {
          "output_type": "stream",
          "name": "stderr",
          "text": [
            "\n"
          ]
        },
        {
          "output_type": "stream",
          "name": "stdout",
          "text": [
            "\n",
            "      Epoch    GPU_mem   box_loss   cls_loss   dfl_loss  Instances       Size\n"
          ]
        },
        {
          "output_type": "stream",
          "name": "stderr",
          "text": [
            "      41/80      3.29G      1.025     0.8001       1.35         25        640: 100%|██████████| 19/19 [00:05<00:00,  3.44it/s]\n",
            "                 Class     Images  Instances      Box(P          R      mAP50  mAP50-95): 100%|██████████| 3/3 [00:01<00:00,  2.92it/s]"
          ]
        },
        {
          "output_type": "stream",
          "name": "stdout",
          "text": [
            "                   all         74         83      0.892      0.928      0.949      0.706\n"
          ]
        },
        {
          "output_type": "stream",
          "name": "stderr",
          "text": [
            "\n"
          ]
        },
        {
          "output_type": "stream",
          "name": "stdout",
          "text": [
            "\n",
            "      Epoch    GPU_mem   box_loss   cls_loss   dfl_loss  Instances       Size\n"
          ]
        },
        {
          "output_type": "stream",
          "name": "stderr",
          "text": [
            "      42/80       3.3G      1.067     0.8601       1.38         25        640: 100%|██████████| 19/19 [00:04<00:00,  3.82it/s]\n",
            "                 Class     Images  Instances      Box(P          R      mAP50  mAP50-95): 100%|██████████| 3/3 [00:00<00:00,  4.89it/s]"
          ]
        },
        {
          "output_type": "stream",
          "name": "stdout",
          "text": [
            "                   all         74         83      0.934      0.859      0.948      0.705\n"
          ]
        },
        {
          "output_type": "stream",
          "name": "stderr",
          "text": [
            "\n"
          ]
        },
        {
          "output_type": "stream",
          "name": "stdout",
          "text": [
            "\n",
            "      Epoch    GPU_mem   box_loss   cls_loss   dfl_loss  Instances       Size\n"
          ]
        },
        {
          "output_type": "stream",
          "name": "stderr",
          "text": [
            "      43/80      3.31G      1.033       0.82      1.358         17        640: 100%|██████████| 19/19 [00:05<00:00,  3.27it/s]\n",
            "                 Class     Images  Instances      Box(P          R      mAP50  mAP50-95): 100%|██████████| 3/3 [00:01<00:00,  2.90it/s]"
          ]
        },
        {
          "output_type": "stream",
          "name": "stdout",
          "text": [
            "                   all         74         83       0.95      0.907      0.961      0.703\n"
          ]
        },
        {
          "output_type": "stream",
          "name": "stderr",
          "text": [
            "\n"
          ]
        },
        {
          "output_type": "stream",
          "name": "stdout",
          "text": [
            "\n",
            "      Epoch    GPU_mem   box_loss   cls_loss   dfl_loss  Instances       Size\n"
          ]
        },
        {
          "output_type": "stream",
          "name": "stderr",
          "text": [
            "      44/80      3.34G      1.021     0.7781      1.365         18        640: 100%|██████████| 19/19 [00:05<00:00,  3.70it/s]\n",
            "                 Class     Images  Instances      Box(P          R      mAP50  mAP50-95): 100%|██████████| 3/3 [00:00<00:00,  4.53it/s]"
          ]
        },
        {
          "output_type": "stream",
          "name": "stdout",
          "text": [
            "                   all         74         83      0.947      0.857      0.959      0.693\n"
          ]
        },
        {
          "output_type": "stream",
          "name": "stderr",
          "text": [
            "\n"
          ]
        },
        {
          "output_type": "stream",
          "name": "stdout",
          "text": [
            "\n",
            "      Epoch    GPU_mem   box_loss   cls_loss   dfl_loss  Instances       Size\n"
          ]
        },
        {
          "output_type": "stream",
          "name": "stderr",
          "text": [
            "      45/80      3.35G      1.047      0.807      1.356         23        640: 100%|██████████| 19/19 [00:05<00:00,  3.27it/s]\n",
            "                 Class     Images  Instances      Box(P          R      mAP50  mAP50-95): 100%|██████████| 3/3 [00:00<00:00,  3.06it/s]"
          ]
        },
        {
          "output_type": "stream",
          "name": "stdout",
          "text": [
            "                   all         74         83      0.924      0.885       0.96      0.713\n"
          ]
        },
        {
          "output_type": "stream",
          "name": "stderr",
          "text": [
            "\n"
          ]
        },
        {
          "output_type": "stream",
          "name": "stdout",
          "text": [
            "\n",
            "      Epoch    GPU_mem   box_loss   cls_loss   dfl_loss  Instances       Size\n"
          ]
        },
        {
          "output_type": "stream",
          "name": "stderr",
          "text": [
            "      46/80      3.37G     0.9987     0.7939      1.337         20        640: 100%|██████████| 19/19 [00:04<00:00,  3.82it/s]\n",
            "                 Class     Images  Instances      Box(P          R      mAP50  mAP50-95): 100%|██████████| 3/3 [00:00<00:00,  4.46it/s]"
          ]
        },
        {
          "output_type": "stream",
          "name": "stdout",
          "text": [
            "                   all         74         83      0.944      0.904      0.951      0.707\n"
          ]
        },
        {
          "output_type": "stream",
          "name": "stderr",
          "text": [
            "\n"
          ]
        },
        {
          "output_type": "stream",
          "name": "stdout",
          "text": [
            "\n",
            "      Epoch    GPU_mem   box_loss   cls_loss   dfl_loss  Instances       Size\n"
          ]
        },
        {
          "output_type": "stream",
          "name": "stderr",
          "text": [
            "      47/80      3.37G      1.007     0.7723      1.353         23        640: 100%|██████████| 19/19 [00:05<00:00,  3.25it/s]\n",
            "                 Class     Images  Instances      Box(P          R      mAP50  mAP50-95): 100%|██████████| 3/3 [00:01<00:00,  2.90it/s]"
          ]
        },
        {
          "output_type": "stream",
          "name": "stdout",
          "text": [
            "                   all         74         83      0.955      0.904       0.94      0.674\n"
          ]
        },
        {
          "output_type": "stream",
          "name": "stderr",
          "text": [
            "\n"
          ]
        },
        {
          "output_type": "stream",
          "name": "stdout",
          "text": [
            "\n",
            "      Epoch    GPU_mem   box_loss   cls_loss   dfl_loss  Instances       Size\n"
          ]
        },
        {
          "output_type": "stream",
          "name": "stderr",
          "text": [
            "      48/80      3.39G     0.9727      0.738      1.291         21        640: 100%|██████████| 19/19 [00:04<00:00,  3.88it/s]\n",
            "                 Class     Images  Instances      Box(P          R      mAP50  mAP50-95): 100%|██████████| 3/3 [00:00<00:00,  4.61it/s]"
          ]
        },
        {
          "output_type": "stream",
          "name": "stdout",
          "text": [
            "                   all         74         83      0.948       0.88      0.951      0.693\n"
          ]
        },
        {
          "output_type": "stream",
          "name": "stderr",
          "text": [
            "\n"
          ]
        },
        {
          "output_type": "stream",
          "name": "stdout",
          "text": [
            "\n",
            "      Epoch    GPU_mem   box_loss   cls_loss   dfl_loss  Instances       Size\n"
          ]
        },
        {
          "output_type": "stream",
          "name": "stderr",
          "text": [
            "      49/80      3.41G      1.028     0.7716      1.344         22        640: 100%|██████████| 19/19 [00:06<00:00,  3.14it/s]\n",
            "                 Class     Images  Instances      Box(P          R      mAP50  mAP50-95): 100%|██████████| 3/3 [00:00<00:00,  3.66it/s]"
          ]
        },
        {
          "output_type": "stream",
          "name": "stdout",
          "text": [
            "                   all         74         83      0.895      0.922      0.957      0.706\n"
          ]
        },
        {
          "output_type": "stream",
          "name": "stderr",
          "text": [
            "\n"
          ]
        },
        {
          "output_type": "stream",
          "name": "stdout",
          "text": [
            "\n",
            "      Epoch    GPU_mem   box_loss   cls_loss   dfl_loss  Instances       Size\n"
          ]
        },
        {
          "output_type": "stream",
          "name": "stderr",
          "text": [
            "      50/80      3.42G     0.9961     0.7822      1.341         15        640: 100%|██████████| 19/19 [00:04<00:00,  3.90it/s]\n",
            "                 Class     Images  Instances      Box(P          R      mAP50  mAP50-95): 100%|██████████| 3/3 [00:00<00:00,  4.51it/s]"
          ]
        },
        {
          "output_type": "stream",
          "name": "stdout",
          "text": [
            "                   all         74         83      0.932      0.904      0.941      0.699\n"
          ]
        },
        {
          "output_type": "stream",
          "name": "stderr",
          "text": [
            "\n"
          ]
        },
        {
          "output_type": "stream",
          "name": "stdout",
          "text": [
            "\n",
            "      Epoch    GPU_mem   box_loss   cls_loss   dfl_loss  Instances       Size\n"
          ]
        },
        {
          "output_type": "stream",
          "name": "stderr",
          "text": [
            "      51/80      3.43G     0.9623      0.802      1.285         18        640: 100%|██████████| 19/19 [00:06<00:00,  3.08it/s]\n",
            "                 Class     Images  Instances      Box(P          R      mAP50  mAP50-95): 100%|██████████| 3/3 [00:00<00:00,  4.59it/s]"
          ]
        },
        {
          "output_type": "stream",
          "name": "stdout",
          "text": [
            "                   all         74         83      0.887       0.95      0.963      0.718\n"
          ]
        },
        {
          "output_type": "stream",
          "name": "stderr",
          "text": [
            "\n"
          ]
        },
        {
          "output_type": "stream",
          "name": "stdout",
          "text": [
            "\n",
            "      Epoch    GPU_mem   box_loss   cls_loss   dfl_loss  Instances       Size\n"
          ]
        },
        {
          "output_type": "stream",
          "name": "stderr",
          "text": [
            "      52/80      3.45G      0.981      0.742      1.313         30        640: 100%|██████████| 19/19 [00:04<00:00,  3.87it/s]\n",
            "                 Class     Images  Instances      Box(P          R      mAP50  mAP50-95): 100%|██████████| 3/3 [00:00<00:00,  5.00it/s]"
          ]
        },
        {
          "output_type": "stream",
          "name": "stdout",
          "text": [
            "                   all         74         83      0.896      0.937      0.963      0.716\n"
          ]
        },
        {
          "output_type": "stream",
          "name": "stderr",
          "text": [
            "\n"
          ]
        },
        {
          "output_type": "stream",
          "name": "stdout",
          "text": [
            "\n",
            "      Epoch    GPU_mem   box_loss   cls_loss   dfl_loss  Instances       Size\n"
          ]
        },
        {
          "output_type": "stream",
          "name": "stderr",
          "text": [
            "      53/80      3.47G     0.9452     0.7044      1.308         26        640: 100%|██████████| 19/19 [00:05<00:00,  3.18it/s]\n",
            "                 Class     Images  Instances      Box(P          R      mAP50  mAP50-95): 100%|██████████| 3/3 [00:01<00:00,  2.86it/s]"
          ]
        },
        {
          "output_type": "stream",
          "name": "stdout",
          "text": [
            "                   all         74         83      0.928      0.927      0.966      0.712\n"
          ]
        },
        {
          "output_type": "stream",
          "name": "stderr",
          "text": [
            "\n"
          ]
        },
        {
          "output_type": "stream",
          "name": "stdout",
          "text": [
            "\n",
            "      Epoch    GPU_mem   box_loss   cls_loss   dfl_loss  Instances       Size\n"
          ]
        },
        {
          "output_type": "stream",
          "name": "stderr",
          "text": [
            "      54/80      3.49G      0.973     0.7174      1.323         14        640: 100%|██████████| 19/19 [00:04<00:00,  3.81it/s]\n",
            "                 Class     Images  Instances      Box(P          R      mAP50  mAP50-95): 100%|██████████| 3/3 [00:00<00:00,  4.40it/s]"
          ]
        },
        {
          "output_type": "stream",
          "name": "stdout",
          "text": [
            "                   all         74         83      0.945      0.916      0.964      0.718\n"
          ]
        },
        {
          "output_type": "stream",
          "name": "stderr",
          "text": [
            "\n"
          ]
        },
        {
          "output_type": "stream",
          "name": "stdout",
          "text": [
            "\n",
            "      Epoch    GPU_mem   box_loss   cls_loss   dfl_loss  Instances       Size\n"
          ]
        },
        {
          "output_type": "stream",
          "name": "stderr",
          "text": [
            "      55/80      3.49G     0.9499     0.7056      1.297         24        640: 100%|██████████| 19/19 [00:06<00:00,  3.06it/s]\n",
            "                 Class     Images  Instances      Box(P          R      mAP50  mAP50-95): 100%|██████████| 3/3 [00:00<00:00,  3.94it/s]"
          ]
        },
        {
          "output_type": "stream",
          "name": "stdout",
          "text": [
            "                   all         74         83      0.941      0.892      0.957      0.711\n"
          ]
        },
        {
          "output_type": "stream",
          "name": "stderr",
          "text": [
            "\n"
          ]
        },
        {
          "output_type": "stream",
          "name": "stdout",
          "text": [
            "\n",
            "      Epoch    GPU_mem   box_loss   cls_loss   dfl_loss  Instances       Size\n"
          ]
        },
        {
          "output_type": "stream",
          "name": "stderr",
          "text": [
            "      56/80      3.51G     0.9596     0.7272      1.287         24        640: 100%|██████████| 19/19 [00:04<00:00,  3.82it/s]\n",
            "                 Class     Images  Instances      Box(P          R      mAP50  mAP50-95): 100%|██████████| 3/3 [00:00<00:00,  5.55it/s]"
          ]
        },
        {
          "output_type": "stream",
          "name": "stdout",
          "text": [
            "                   all         74         83      0.986      0.837       0.95      0.687\n"
          ]
        },
        {
          "output_type": "stream",
          "name": "stderr",
          "text": [
            "\n"
          ]
        },
        {
          "output_type": "stream",
          "name": "stdout",
          "text": [
            "\n",
            "      Epoch    GPU_mem   box_loss   cls_loss   dfl_loss  Instances       Size\n"
          ]
        },
        {
          "output_type": "stream",
          "name": "stderr",
          "text": [
            "      57/80      3.53G     0.9491      0.731      1.318         24        640: 100%|██████████| 19/19 [00:05<00:00,  3.22it/s]\n",
            "                 Class     Images  Instances      Box(P          R      mAP50  mAP50-95): 100%|██████████| 3/3 [00:00<00:00,  3.95it/s]"
          ]
        },
        {
          "output_type": "stream",
          "name": "stdout",
          "text": [
            "                   all         74         83      0.937      0.916      0.947      0.699\n"
          ]
        },
        {
          "output_type": "stream",
          "name": "stderr",
          "text": [
            "\n"
          ]
        },
        {
          "output_type": "stream",
          "name": "stdout",
          "text": [
            "\n",
            "      Epoch    GPU_mem   box_loss   cls_loss   dfl_loss  Instances       Size\n"
          ]
        },
        {
          "output_type": "stream",
          "name": "stderr",
          "text": [
            "      58/80      3.54G     0.9179     0.6982      1.297         23        640: 100%|██████████| 19/19 [00:04<00:00,  3.91it/s]\n",
            "                 Class     Images  Instances      Box(P          R      mAP50  mAP50-95): 100%|██████████| 3/3 [00:00<00:00,  4.77it/s]"
          ]
        },
        {
          "output_type": "stream",
          "name": "stdout",
          "text": [
            "                   all         74         83      0.963      0.929       0.96      0.717\n"
          ]
        },
        {
          "output_type": "stream",
          "name": "stderr",
          "text": [
            "\n"
          ]
        },
        {
          "output_type": "stream",
          "name": "stdout",
          "text": [
            "\n",
            "      Epoch    GPU_mem   box_loss   cls_loss   dfl_loss  Instances       Size\n"
          ]
        },
        {
          "output_type": "stream",
          "name": "stderr",
          "text": [
            "      59/80      3.55G     0.9354     0.6862      1.278         18        640: 100%|██████████| 19/19 [00:06<00:00,  3.12it/s]\n",
            "                 Class     Images  Instances      Box(P          R      mAP50  mAP50-95): 100%|██████████| 3/3 [00:00<00:00,  4.75it/s]"
          ]
        },
        {
          "output_type": "stream",
          "name": "stdout",
          "text": [
            "                   all         74         83      0.919       0.94      0.951      0.732\n"
          ]
        },
        {
          "output_type": "stream",
          "name": "stderr",
          "text": [
            "\n"
          ]
        },
        {
          "output_type": "stream",
          "name": "stdout",
          "text": [
            "\n",
            "      Epoch    GPU_mem   box_loss   cls_loss   dfl_loss  Instances       Size\n"
          ]
        },
        {
          "output_type": "stream",
          "name": "stderr",
          "text": [
            "      60/80      3.57G     0.9277     0.6809      1.286         22        640: 100%|██████████| 19/19 [00:04<00:00,  3.97it/s]\n",
            "                 Class     Images  Instances      Box(P          R      mAP50  mAP50-95): 100%|██████████| 3/3 [00:00<00:00,  5.50it/s]"
          ]
        },
        {
          "output_type": "stream",
          "name": "stdout",
          "text": [
            "                   all         74         83      0.938      0.919       0.96      0.713\n"
          ]
        },
        {
          "output_type": "stream",
          "name": "stderr",
          "text": [
            "\n"
          ]
        },
        {
          "output_type": "stream",
          "name": "stdout",
          "text": [
            "\n",
            "      Epoch    GPU_mem   box_loss   cls_loss   dfl_loss  Instances       Size\n"
          ]
        },
        {
          "output_type": "stream",
          "name": "stderr",
          "text": [
            "      61/80      3.59G     0.9632     0.6906       1.31         21        640: 100%|██████████| 19/19 [00:05<00:00,  3.40it/s]\n",
            "                 Class     Images  Instances      Box(P          R      mAP50  mAP50-95): 100%|██████████| 3/3 [00:00<00:00,  3.41it/s]"
          ]
        },
        {
          "output_type": "stream",
          "name": "stdout",
          "text": [
            "                   all         74         83      0.928       0.94      0.961      0.731\n"
          ]
        },
        {
          "output_type": "stream",
          "name": "stderr",
          "text": [
            "\n"
          ]
        },
        {
          "output_type": "stream",
          "name": "stdout",
          "text": [
            "\n",
            "      Epoch    GPU_mem   box_loss   cls_loss   dfl_loss  Instances       Size\n"
          ]
        },
        {
          "output_type": "stream",
          "name": "stderr",
          "text": [
            "      62/80       3.6G     0.8783     0.6805      1.249         17        640: 100%|██████████| 19/19 [00:04<00:00,  3.83it/s]\n",
            "                 Class     Images  Instances      Box(P          R      mAP50  mAP50-95): 100%|██████████| 3/3 [00:00<00:00,  4.32it/s]"
          ]
        },
        {
          "output_type": "stream",
          "name": "stdout",
          "text": [
            "                   all         74         83      0.944      0.916      0.966      0.736\n"
          ]
        },
        {
          "output_type": "stream",
          "name": "stderr",
          "text": [
            "\n"
          ]
        },
        {
          "output_type": "stream",
          "name": "stdout",
          "text": [
            "\n",
            "      Epoch    GPU_mem   box_loss   cls_loss   dfl_loss  Instances       Size\n"
          ]
        },
        {
          "output_type": "stream",
          "name": "stderr",
          "text": [
            "      63/80      3.61G     0.8903     0.6576       1.25         23        640: 100%|██████████| 19/19 [00:05<00:00,  3.17it/s]\n",
            "                 Class     Images  Instances      Box(P          R      mAP50  mAP50-95): 100%|██████████| 3/3 [00:00<00:00,  3.07it/s]"
          ]
        },
        {
          "output_type": "stream",
          "name": "stdout",
          "text": [
            "                   all         74         83      0.927      0.904      0.952       0.71\n"
          ]
        },
        {
          "output_type": "stream",
          "name": "stderr",
          "text": [
            "\n"
          ]
        },
        {
          "output_type": "stream",
          "name": "stdout",
          "text": [
            "\n",
            "      Epoch    GPU_mem   box_loss   cls_loss   dfl_loss  Instances       Size\n"
          ]
        },
        {
          "output_type": "stream",
          "name": "stderr",
          "text": [
            "      64/80      3.63G     0.8882     0.6546      1.253         26        640: 100%|██████████| 19/19 [00:05<00:00,  3.72it/s]\n",
            "                 Class     Images  Instances      Box(P          R      mAP50  mAP50-95): 100%|██████████| 3/3 [00:00<00:00,  5.11it/s]"
          ]
        },
        {
          "output_type": "stream",
          "name": "stdout",
          "text": [
            "                   all         74         83      0.961      0.902      0.965      0.717\n"
          ]
        },
        {
          "output_type": "stream",
          "name": "stderr",
          "text": [
            "\n"
          ]
        },
        {
          "output_type": "stream",
          "name": "stdout",
          "text": [
            "\n",
            "      Epoch    GPU_mem   box_loss   cls_loss   dfl_loss  Instances       Size\n"
          ]
        },
        {
          "output_type": "stream",
          "name": "stderr",
          "text": [
            "      65/80      3.65G     0.9241     0.6687      1.284         24        640: 100%|██████████| 19/19 [00:05<00:00,  3.26it/s]\n",
            "                 Class     Images  Instances      Box(P          R      mAP50  mAP50-95): 100%|██████████| 3/3 [00:00<00:00,  3.26it/s]"
          ]
        },
        {
          "output_type": "stream",
          "name": "stdout",
          "text": [
            "                   all         74         83      0.956      0.904      0.959      0.723\n"
          ]
        },
        {
          "output_type": "stream",
          "name": "stderr",
          "text": [
            "\n"
          ]
        },
        {
          "output_type": "stream",
          "name": "stdout",
          "text": [
            "\n",
            "      Epoch    GPU_mem   box_loss   cls_loss   dfl_loss  Instances       Size\n"
          ]
        },
        {
          "output_type": "stream",
          "name": "stderr",
          "text": [
            "      66/80      3.66G      0.886     0.6591      1.258         22        640: 100%|██████████| 19/19 [00:04<00:00,  3.87it/s]\n",
            "                 Class     Images  Instances      Box(P          R      mAP50  mAP50-95): 100%|██████████| 3/3 [00:00<00:00,  4.93it/s]"
          ]
        },
        {
          "output_type": "stream",
          "name": "stdout",
          "text": [
            "                   all         74         83      0.959      0.904      0.957      0.729\n"
          ]
        },
        {
          "output_type": "stream",
          "name": "stderr",
          "text": [
            "\n"
          ]
        },
        {
          "output_type": "stream",
          "name": "stdout",
          "text": [
            "\n",
            "      Epoch    GPU_mem   box_loss   cls_loss   dfl_loss  Instances       Size\n"
          ]
        },
        {
          "output_type": "stream",
          "name": "stderr",
          "text": [
            "      67/80      3.67G     0.8513      0.639      1.235         17        640: 100%|██████████| 19/19 [00:05<00:00,  3.23it/s]\n",
            "                 Class     Images  Instances      Box(P          R      mAP50  mAP50-95): 100%|██████████| 3/3 [00:00<00:00,  3.02it/s]"
          ]
        },
        {
          "output_type": "stream",
          "name": "stdout",
          "text": [
            "                   all         74         83      0.964      0.904      0.963      0.715\n"
          ]
        },
        {
          "output_type": "stream",
          "name": "stderr",
          "text": [
            "\n"
          ]
        },
        {
          "output_type": "stream",
          "name": "stdout",
          "text": [
            "\n",
            "      Epoch    GPU_mem   box_loss   cls_loss   dfl_loss  Instances       Size\n"
          ]
        },
        {
          "output_type": "stream",
          "name": "stderr",
          "text": [
            "      68/80      3.69G      0.882      0.652      1.265         27        640: 100%|██████████| 19/19 [00:05<00:00,  3.76it/s]\n",
            "                 Class     Images  Instances      Box(P          R      mAP50  mAP50-95): 100%|██████████| 3/3 [00:00<00:00,  4.78it/s]"
          ]
        },
        {
          "output_type": "stream",
          "name": "stdout",
          "text": [
            "                   all         74         83      0.926      0.952       0.97      0.728\n"
          ]
        },
        {
          "output_type": "stream",
          "name": "stderr",
          "text": [
            "\n"
          ]
        },
        {
          "output_type": "stream",
          "name": "stdout",
          "text": [
            "\n",
            "      Epoch    GPU_mem   box_loss   cls_loss   dfl_loss  Instances       Size\n"
          ]
        },
        {
          "output_type": "stream",
          "name": "stderr",
          "text": [
            "      69/80      3.71G     0.8282     0.6303      1.217         25        640: 100%|██████████| 19/19 [00:05<00:00,  3.29it/s]\n",
            "                 Class     Images  Instances      Box(P          R      mAP50  mAP50-95): 100%|██████████| 3/3 [00:01<00:00,  2.77it/s]"
          ]
        },
        {
          "output_type": "stream",
          "name": "stdout",
          "text": [
            "                   all         74         83      0.929      0.952      0.965      0.721\n"
          ]
        },
        {
          "output_type": "stream",
          "name": "stderr",
          "text": [
            "\n"
          ]
        },
        {
          "output_type": "stream",
          "name": "stdout",
          "text": [
            "\n",
            "      Epoch    GPU_mem   box_loss   cls_loss   dfl_loss  Instances       Size\n"
          ]
        },
        {
          "output_type": "stream",
          "name": "stderr",
          "text": [
            "      70/80      3.72G     0.8372     0.6382      1.212         23        640: 100%|██████████| 19/19 [00:04<00:00,  3.96it/s]\n",
            "                 Class     Images  Instances      Box(P          R      mAP50  mAP50-95): 100%|██████████| 3/3 [00:00<00:00,  4.58it/s]"
          ]
        },
        {
          "output_type": "stream",
          "name": "stdout",
          "text": [
            "                   all         74         83      0.914      0.964       0.97       0.71\n"
          ]
        },
        {
          "output_type": "stream",
          "name": "stderr",
          "text": [
            "\n"
          ]
        },
        {
          "output_type": "stream",
          "name": "stdout",
          "text": [
            "Closing dataloader mosaic\n",
            "\u001b[34m\u001b[1malbumentations: \u001b[0mBlur(p=0.01, blur_limit=(3, 7)), MedianBlur(p=0.01, blur_limit=(3, 7)), ToGray(p=0.01, method='weighted_average', num_output_channels=3), CLAHE(p=0.01, clip_limit=(1.0, 4.0), tile_grid_size=(8, 8))\n",
            "\n",
            "      Epoch    GPU_mem   box_loss   cls_loss   dfl_loss  Instances       Size\n"
          ]
        },
        {
          "output_type": "stream",
          "name": "stderr",
          "text": [
            "      71/80      3.73G     0.7139     0.5352      1.227          9        640: 100%|██████████| 19/19 [00:07<00:00,  2.51it/s]\n",
            "                 Class     Images  Instances      Box(P          R      mAP50  mAP50-95): 100%|██████████| 3/3 [00:00<00:00,  5.10it/s]"
          ]
        },
        {
          "output_type": "stream",
          "name": "stdout",
          "text": [
            "                   all         74         83      0.928      0.939      0.965      0.712\n"
          ]
        },
        {
          "output_type": "stream",
          "name": "stderr",
          "text": [
            "\n"
          ]
        },
        {
          "output_type": "stream",
          "name": "stdout",
          "text": [
            "\n",
            "      Epoch    GPU_mem   box_loss   cls_loss   dfl_loss  Instances       Size\n"
          ]
        },
        {
          "output_type": "stream",
          "name": "stderr",
          "text": [
            "      72/80      3.75G      0.689     0.4833      1.206         11        640: 100%|██████████| 19/19 [00:04<00:00,  4.02it/s]\n",
            "                 Class     Images  Instances      Box(P          R      mAP50  mAP50-95): 100%|██████████| 3/3 [00:00<00:00,  5.32it/s]"
          ]
        },
        {
          "output_type": "stream",
          "name": "stdout",
          "text": [
            "                   all         74         83      0.965      0.916       0.96      0.721\n"
          ]
        },
        {
          "output_type": "stream",
          "name": "stderr",
          "text": [
            "\n"
          ]
        },
        {
          "output_type": "stream",
          "name": "stdout",
          "text": [
            "\n",
            "      Epoch    GPU_mem   box_loss   cls_loss   dfl_loss  Instances       Size\n"
          ]
        },
        {
          "output_type": "stream",
          "name": "stderr",
          "text": [
            "      73/80      3.77G     0.6646     0.4696      1.177         10        640: 100%|██████████| 19/19 [00:05<00:00,  3.26it/s]\n",
            "                 Class     Images  Instances      Box(P          R      mAP50  mAP50-95): 100%|██████████| 3/3 [00:00<00:00,  5.23it/s]"
          ]
        },
        {
          "output_type": "stream",
          "name": "stdout",
          "text": [
            "                   all         74         83      0.971      0.916      0.965      0.734\n"
          ]
        },
        {
          "output_type": "stream",
          "name": "stderr",
          "text": [
            "\n"
          ]
        },
        {
          "output_type": "stream",
          "name": "stdout",
          "text": [
            "\n",
            "      Epoch    GPU_mem   box_loss   cls_loss   dfl_loss  Instances       Size\n"
          ]
        },
        {
          "output_type": "stream",
          "name": "stderr",
          "text": [
            "      74/80      3.78G     0.6554     0.4379      1.156         14        640: 100%|██████████| 19/19 [00:04<00:00,  4.02it/s]\n",
            "                 Class     Images  Instances      Box(P          R      mAP50  mAP50-95): 100%|██████████| 3/3 [00:00<00:00,  4.63it/s]"
          ]
        },
        {
          "output_type": "stream",
          "name": "stdout",
          "text": [
            "                   all         74         83      0.978      0.916      0.964      0.735\n"
          ]
        },
        {
          "output_type": "stream",
          "name": "stderr",
          "text": [
            "\n"
          ]
        },
        {
          "output_type": "stream",
          "name": "stdout",
          "text": [
            "\n",
            "      Epoch    GPU_mem   box_loss   cls_loss   dfl_loss  Instances       Size\n"
          ]
        },
        {
          "output_type": "stream",
          "name": "stderr",
          "text": [
            "      75/80      3.79G     0.6867     0.4459       1.17         12        640: 100%|██████████| 19/19 [00:05<00:00,  3.32it/s]\n",
            "                 Class     Images  Instances      Box(P          R      mAP50  mAP50-95): 100%|██████████| 3/3 [00:00<00:00,  4.36it/s]"
          ]
        },
        {
          "output_type": "stream",
          "name": "stdout",
          "text": [
            "                   all         74         83      0.962      0.904      0.968      0.736\n"
          ]
        },
        {
          "output_type": "stream",
          "name": "stderr",
          "text": [
            "\n"
          ]
        },
        {
          "output_type": "stream",
          "name": "stdout",
          "text": [
            "\n",
            "      Epoch    GPU_mem   box_loss   cls_loss   dfl_loss  Instances       Size\n"
          ]
        },
        {
          "output_type": "stream",
          "name": "stderr",
          "text": [
            "      76/80      3.81G     0.6569     0.4416      1.161          9        640: 100%|██████████| 19/19 [00:04<00:00,  4.10it/s]\n",
            "                 Class     Images  Instances      Box(P          R      mAP50  mAP50-95): 100%|██████████| 3/3 [00:00<00:00,  5.03it/s]"
          ]
        },
        {
          "output_type": "stream",
          "name": "stdout",
          "text": [
            "                   all         74         83      0.961      0.928      0.969      0.732\n"
          ]
        },
        {
          "output_type": "stream",
          "name": "stderr",
          "text": [
            "\n"
          ]
        },
        {
          "output_type": "stream",
          "name": "stdout",
          "text": [
            "\n",
            "      Epoch    GPU_mem   box_loss   cls_loss   dfl_loss  Instances       Size\n"
          ]
        },
        {
          "output_type": "stream",
          "name": "stderr",
          "text": [
            "      77/80      3.83G     0.6457     0.4321      1.145          9        640: 100%|██████████| 19/19 [00:05<00:00,  3.41it/s]\n",
            "                 Class     Images  Instances      Box(P          R      mAP50  mAP50-95): 100%|██████████| 3/3 [00:00<00:00,  3.79it/s]"
          ]
        },
        {
          "output_type": "stream",
          "name": "stdout",
          "text": [
            "                   all         74         83      0.951      0.916      0.973      0.735\n"
          ]
        },
        {
          "output_type": "stream",
          "name": "stderr",
          "text": [
            "\n"
          ]
        },
        {
          "output_type": "stream",
          "name": "stdout",
          "text": [
            "\n",
            "      Epoch    GPU_mem   box_loss   cls_loss   dfl_loss  Instances       Size\n"
          ]
        },
        {
          "output_type": "stream",
          "name": "stderr",
          "text": [
            "      78/80      3.84G     0.6413     0.4324      1.166         12        640: 100%|██████████| 19/19 [00:04<00:00,  4.15it/s]\n",
            "                 Class     Images  Instances      Box(P          R      mAP50  mAP50-95): 100%|██████████| 3/3 [00:00<00:00,  5.21it/s]"
          ]
        },
        {
          "output_type": "stream",
          "name": "stdout",
          "text": [
            "                   all         74         83       0.95      0.928      0.976      0.727\n"
          ]
        },
        {
          "output_type": "stream",
          "name": "stderr",
          "text": [
            "\n"
          ]
        },
        {
          "output_type": "stream",
          "name": "stdout",
          "text": [
            "\n",
            "      Epoch    GPU_mem   box_loss   cls_loss   dfl_loss  Instances       Size\n"
          ]
        },
        {
          "output_type": "stream",
          "name": "stderr",
          "text": [
            "      79/80      3.85G     0.6358     0.4087       1.14         10        640: 100%|██████████| 19/19 [00:04<00:00,  3.92it/s]\n",
            "                 Class     Images  Instances      Box(P          R      mAP50  mAP50-95): 100%|██████████| 3/3 [00:01<00:00,  2.93it/s]"
          ]
        },
        {
          "output_type": "stream",
          "name": "stdout",
          "text": [
            "                   all         74         83      0.941      0.916      0.976      0.723\n"
          ]
        },
        {
          "output_type": "stream",
          "name": "stderr",
          "text": [
            "\n"
          ]
        },
        {
          "output_type": "stream",
          "name": "stdout",
          "text": [
            "\n",
            "      Epoch    GPU_mem   box_loss   cls_loss   dfl_loss  Instances       Size\n"
          ]
        },
        {
          "output_type": "stream",
          "name": "stderr",
          "text": [
            "      80/80      3.87G     0.6137     0.4259      1.142          8        640: 100%|██████████| 19/19 [00:04<00:00,  4.01it/s]\n",
            "                 Class     Images  Instances      Box(P          R      mAP50  mAP50-95): 100%|██████████| 3/3 [00:00<00:00,  5.30it/s]"
          ]
        },
        {
          "output_type": "stream",
          "name": "stdout",
          "text": [
            "                   all         74         83      0.929      0.928      0.976       0.72\n"
          ]
        },
        {
          "output_type": "stream",
          "name": "stderr",
          "text": [
            "\n"
          ]
        },
        {
          "output_type": "stream",
          "name": "stdout",
          "text": [
            "\n",
            "80 epochs completed in 0.148 hours.\n",
            "Optimizer stripped from treinamento/pombos_yolov12n/weights/last.pt, 5.5MB\n",
            "Optimizer stripped from treinamento/pombos_yolov12n/weights/best.pt, 5.5MB\n",
            "\n",
            "Validating treinamento/pombos_yolov12n/weights/best.pt...\n",
            "Ultralytics 8.3.154 🚀 Python-3.11.13 torch-2.6.0+cu124 CUDA:0 (Tesla T4, 15095MiB)\n",
            "YOLO11n summary (fused): 100 layers, 2,582,347 parameters, 0 gradients, 6.3 GFLOPs\n"
          ]
        },
        {
          "output_type": "stream",
          "name": "stderr",
          "text": [
            "                 Class     Images  Instances      Box(P          R      mAP50  mAP50-95): 100%|██████████| 3/3 [00:01<00:00,  2.94it/s]\n"
          ]
        },
        {
          "output_type": "stream",
          "name": "stdout",
          "text": [
            "                   all         74         83      0.962      0.904      0.968      0.736\n",
            "Speed: 0.3ms preprocess, 3.0ms inference, 0.0ms loss, 3.3ms postprocess per image\n",
            "Results saved to \u001b[1mtreinamento/pombos_yolov12n\u001b[0m\n"
          ]
        },
        {
          "output_type": "execute_result",
          "data": {
            "text/plain": [
              "ultralytics.utils.metrics.DetMetrics object with attributes:\n",
              "\n",
              "ap_class_index: array([0])\n",
              "box: ultralytics.utils.metrics.Metric object\n",
              "confusion_matrix: <ultralytics.utils.metrics.ConfusionMatrix object at 0x7fce3d6d1b50>\n",
              "curves: ['Precision-Recall(B)', 'F1-Confidence(B)', 'Precision-Confidence(B)', 'Recall-Confidence(B)']\n",
              "curves_results: [[array([          0,    0.001001,    0.002002,    0.003003,    0.004004,    0.005005,    0.006006,    0.007007,    0.008008,    0.009009,     0.01001,    0.011011,    0.012012,    0.013013,    0.014014,    0.015015,    0.016016,    0.017017,    0.018018,    0.019019,     0.02002,    0.021021,    0.022022,    0.023023,\n",
              "          0.024024,    0.025025,    0.026026,    0.027027,    0.028028,    0.029029,     0.03003,    0.031031,    0.032032,    0.033033,    0.034034,    0.035035,    0.036036,    0.037037,    0.038038,    0.039039,     0.04004,    0.041041,    0.042042,    0.043043,    0.044044,    0.045045,    0.046046,    0.047047,\n",
              "          0.048048,    0.049049,     0.05005,    0.051051,    0.052052,    0.053053,    0.054054,    0.055055,    0.056056,    0.057057,    0.058058,    0.059059,     0.06006,    0.061061,    0.062062,    0.063063,    0.064064,    0.065065,    0.066066,    0.067067,    0.068068,    0.069069,     0.07007,    0.071071,\n",
              "          0.072072,    0.073073,    0.074074,    0.075075,    0.076076,    0.077077,    0.078078,    0.079079,     0.08008,    0.081081,    0.082082,    0.083083,    0.084084,    0.085085,    0.086086,    0.087087,    0.088088,    0.089089,     0.09009,    0.091091,    0.092092,    0.093093,    0.094094,    0.095095,\n",
              "          0.096096,    0.097097,    0.098098,    0.099099,      0.1001,      0.1011,      0.1021,      0.1031,      0.1041,     0.10511,     0.10611,     0.10711,     0.10811,     0.10911,     0.11011,     0.11111,     0.11211,     0.11311,     0.11411,     0.11512,     0.11612,     0.11712,     0.11812,     0.11912,\n",
              "           0.12012,     0.12112,     0.12212,     0.12312,     0.12412,     0.12513,     0.12613,     0.12713,     0.12813,     0.12913,     0.13013,     0.13113,     0.13213,     0.13313,     0.13413,     0.13514,     0.13614,     0.13714,     0.13814,     0.13914,     0.14014,     0.14114,     0.14214,     0.14314,\n",
              "           0.14414,     0.14515,     0.14615,     0.14715,     0.14815,     0.14915,     0.15015,     0.15115,     0.15215,     0.15315,     0.15415,     0.15516,     0.15616,     0.15716,     0.15816,     0.15916,     0.16016,     0.16116,     0.16216,     0.16316,     0.16416,     0.16517,     0.16617,     0.16717,\n",
              "           0.16817,     0.16917,     0.17017,     0.17117,     0.17217,     0.17317,     0.17417,     0.17518,     0.17618,     0.17718,     0.17818,     0.17918,     0.18018,     0.18118,     0.18218,     0.18318,     0.18418,     0.18519,     0.18619,     0.18719,     0.18819,     0.18919,     0.19019,     0.19119,\n",
              "           0.19219,     0.19319,     0.19419,      0.1952,      0.1962,      0.1972,      0.1982,      0.1992,      0.2002,      0.2012,      0.2022,      0.2032,      0.2042,     0.20521,     0.20621,     0.20721,     0.20821,     0.20921,     0.21021,     0.21121,     0.21221,     0.21321,     0.21421,     0.21522,\n",
              "           0.21622,     0.21722,     0.21822,     0.21922,     0.22022,     0.22122,     0.22222,     0.22322,     0.22422,     0.22523,     0.22623,     0.22723,     0.22823,     0.22923,     0.23023,     0.23123,     0.23223,     0.23323,     0.23423,     0.23524,     0.23624,     0.23724,     0.23824,     0.23924,\n",
              "           0.24024,     0.24124,     0.24224,     0.24324,     0.24424,     0.24525,     0.24625,     0.24725,     0.24825,     0.24925,     0.25025,     0.25125,     0.25225,     0.25325,     0.25425,     0.25526,     0.25626,     0.25726,     0.25826,     0.25926,     0.26026,     0.26126,     0.26226,     0.26326,\n",
              "           0.26426,     0.26527,     0.26627,     0.26727,     0.26827,     0.26927,     0.27027,     0.27127,     0.27227,     0.27327,     0.27427,     0.27528,     0.27628,     0.27728,     0.27828,     0.27928,     0.28028,     0.28128,     0.28228,     0.28328,     0.28428,     0.28529,     0.28629,     0.28729,\n",
              "           0.28829,     0.28929,     0.29029,     0.29129,     0.29229,     0.29329,     0.29429,      0.2953,      0.2963,      0.2973,      0.2983,      0.2993,      0.3003,      0.3013,      0.3023,      0.3033,      0.3043,     0.30531,     0.30631,     0.30731,     0.30831,     0.30931,     0.31031,     0.31131,\n",
              "           0.31231,     0.31331,     0.31431,     0.31532,     0.31632,     0.31732,     0.31832,     0.31932,     0.32032,     0.32132,     0.32232,     0.32332,     0.32432,     0.32533,     0.32633,     0.32733,     0.32833,     0.32933,     0.33033,     0.33133,     0.33233,     0.33333,     0.33433,     0.33534,\n",
              "           0.33634,     0.33734,     0.33834,     0.33934,     0.34034,     0.34134,     0.34234,     0.34334,     0.34434,     0.34535,     0.34635,     0.34735,     0.34835,     0.34935,     0.35035,     0.35135,     0.35235,     0.35335,     0.35435,     0.35536,     0.35636,     0.35736,     0.35836,     0.35936,\n",
              "           0.36036,     0.36136,     0.36236,     0.36336,     0.36436,     0.36537,     0.36637,     0.36737,     0.36837,     0.36937,     0.37037,     0.37137,     0.37237,     0.37337,     0.37437,     0.37538,     0.37638,     0.37738,     0.37838,     0.37938,     0.38038,     0.38138,     0.38238,     0.38338,\n",
              "           0.38438,     0.38539,     0.38639,     0.38739,     0.38839,     0.38939,     0.39039,     0.39139,     0.39239,     0.39339,     0.39439,      0.3954,      0.3964,      0.3974,      0.3984,      0.3994,      0.4004,      0.4014,      0.4024,      0.4034,      0.4044,     0.40541,     0.40641,     0.40741,\n",
              "           0.40841,     0.40941,     0.41041,     0.41141,     0.41241,     0.41341,     0.41441,     0.41542,     0.41642,     0.41742,     0.41842,     0.41942,     0.42042,     0.42142,     0.42242,     0.42342,     0.42442,     0.42543,     0.42643,     0.42743,     0.42843,     0.42943,     0.43043,     0.43143,\n",
              "           0.43243,     0.43343,     0.43443,     0.43544,     0.43644,     0.43744,     0.43844,     0.43944,     0.44044,     0.44144,     0.44244,     0.44344,     0.44444,     0.44545,     0.44645,     0.44745,     0.44845,     0.44945,     0.45045,     0.45145,     0.45245,     0.45345,     0.45445,     0.45546,\n",
              "           0.45646,     0.45746,     0.45846,     0.45946,     0.46046,     0.46146,     0.46246,     0.46346,     0.46446,     0.46547,     0.46647,     0.46747,     0.46847,     0.46947,     0.47047,     0.47147,     0.47247,     0.47347,     0.47447,     0.47548,     0.47648,     0.47748,     0.47848,     0.47948,\n",
              "           0.48048,     0.48148,     0.48248,     0.48348,     0.48448,     0.48549,     0.48649,     0.48749,     0.48849,     0.48949,     0.49049,     0.49149,     0.49249,     0.49349,     0.49449,      0.4955,      0.4965,      0.4975,      0.4985,      0.4995,      0.5005,      0.5015,      0.5025,      0.5035,\n",
              "            0.5045,     0.50551,     0.50651,     0.50751,     0.50851,     0.50951,     0.51051,     0.51151,     0.51251,     0.51351,     0.51451,     0.51552,     0.51652,     0.51752,     0.51852,     0.51952,     0.52052,     0.52152,     0.52252,     0.52352,     0.52452,     0.52553,     0.52653,     0.52753,\n",
              "           0.52853,     0.52953,     0.53053,     0.53153,     0.53253,     0.53353,     0.53453,     0.53554,     0.53654,     0.53754,     0.53854,     0.53954,     0.54054,     0.54154,     0.54254,     0.54354,     0.54454,     0.54555,     0.54655,     0.54755,     0.54855,     0.54955,     0.55055,     0.55155,\n",
              "           0.55255,     0.55355,     0.55455,     0.55556,     0.55656,     0.55756,     0.55856,     0.55956,     0.56056,     0.56156,     0.56256,     0.56356,     0.56456,     0.56557,     0.56657,     0.56757,     0.56857,     0.56957,     0.57057,     0.57157,     0.57257,     0.57357,     0.57457,     0.57558,\n",
              "           0.57658,     0.57758,     0.57858,     0.57958,     0.58058,     0.58158,     0.58258,     0.58358,     0.58458,     0.58559,     0.58659,     0.58759,     0.58859,     0.58959,     0.59059,     0.59159,     0.59259,     0.59359,     0.59459,      0.5956,      0.5966,      0.5976,      0.5986,      0.5996,\n",
              "            0.6006,      0.6016,      0.6026,      0.6036,      0.6046,     0.60561,     0.60661,     0.60761,     0.60861,     0.60961,     0.61061,     0.61161,     0.61261,     0.61361,     0.61461,     0.61562,     0.61662,     0.61762,     0.61862,     0.61962,     0.62062,     0.62162,     0.62262,     0.62362,\n",
              "           0.62462,     0.62563,     0.62663,     0.62763,     0.62863,     0.62963,     0.63063,     0.63163,     0.63263,     0.63363,     0.63463,     0.63564,     0.63664,     0.63764,     0.63864,     0.63964,     0.64064,     0.64164,     0.64264,     0.64364,     0.64464,     0.64565,     0.64665,     0.64765,\n",
              "           0.64865,     0.64965,     0.65065,     0.65165,     0.65265,     0.65365,     0.65465,     0.65566,     0.65666,     0.65766,     0.65866,     0.65966,     0.66066,     0.66166,     0.66266,     0.66366,     0.66466,     0.66567,     0.66667,     0.66767,     0.66867,     0.66967,     0.67067,     0.67167,\n",
              "           0.67267,     0.67367,     0.67467,     0.67568,     0.67668,     0.67768,     0.67868,     0.67968,     0.68068,     0.68168,     0.68268,     0.68368,     0.68468,     0.68569,     0.68669,     0.68769,     0.68869,     0.68969,     0.69069,     0.69169,     0.69269,     0.69369,     0.69469,      0.6957,\n",
              "            0.6967,      0.6977,      0.6987,      0.6997,      0.7007,      0.7017,      0.7027,      0.7037,      0.7047,     0.70571,     0.70671,     0.70771,     0.70871,     0.70971,     0.71071,     0.71171,     0.71271,     0.71371,     0.71471,     0.71572,     0.71672,     0.71772,     0.71872,     0.71972,\n",
              "           0.72072,     0.72172,     0.72272,     0.72372,     0.72472,     0.72573,     0.72673,     0.72773,     0.72873,     0.72973,     0.73073,     0.73173,     0.73273,     0.73373,     0.73473,     0.73574,     0.73674,     0.73774,     0.73874,     0.73974,     0.74074,     0.74174,     0.74274,     0.74374,\n",
              "           0.74474,     0.74575,     0.74675,     0.74775,     0.74875,     0.74975,     0.75075,     0.75175,     0.75275,     0.75375,     0.75475,     0.75576,     0.75676,     0.75776,     0.75876,     0.75976,     0.76076,     0.76176,     0.76276,     0.76376,     0.76476,     0.76577,     0.76677,     0.76777,\n",
              "           0.76877,     0.76977,     0.77077,     0.77177,     0.77277,     0.77377,     0.77477,     0.77578,     0.77678,     0.77778,     0.77878,     0.77978,     0.78078,     0.78178,     0.78278,     0.78378,     0.78478,     0.78579,     0.78679,     0.78779,     0.78879,     0.78979,     0.79079,     0.79179,\n",
              "           0.79279,     0.79379,     0.79479,      0.7958,      0.7968,      0.7978,      0.7988,      0.7998,      0.8008,      0.8018,      0.8028,      0.8038,      0.8048,     0.80581,     0.80681,     0.80781,     0.80881,     0.80981,     0.81081,     0.81181,     0.81281,     0.81381,     0.81481,     0.81582,\n",
              "           0.81682,     0.81782,     0.81882,     0.81982,     0.82082,     0.82182,     0.82282,     0.82382,     0.82482,     0.82583,     0.82683,     0.82783,     0.82883,     0.82983,     0.83083,     0.83183,     0.83283,     0.83383,     0.83483,     0.83584,     0.83684,     0.83784,     0.83884,     0.83984,\n",
              "           0.84084,     0.84184,     0.84284,     0.84384,     0.84484,     0.84585,     0.84685,     0.84785,     0.84885,     0.84985,     0.85085,     0.85185,     0.85285,     0.85385,     0.85485,     0.85586,     0.85686,     0.85786,     0.85886,     0.85986,     0.86086,     0.86186,     0.86286,     0.86386,\n",
              "           0.86486,     0.86587,     0.86687,     0.86787,     0.86887,     0.86987,     0.87087,     0.87187,     0.87287,     0.87387,     0.87487,     0.87588,     0.87688,     0.87788,     0.87888,     0.87988,     0.88088,     0.88188,     0.88288,     0.88388,     0.88488,     0.88589,     0.88689,     0.88789,\n",
              "           0.88889,     0.88989,     0.89089,     0.89189,     0.89289,     0.89389,     0.89489,      0.8959,      0.8969,      0.8979,      0.8989,      0.8999,      0.9009,      0.9019,      0.9029,      0.9039,      0.9049,     0.90591,     0.90691,     0.90791,     0.90891,     0.90991,     0.91091,     0.91191,\n",
              "           0.91291,     0.91391,     0.91491,     0.91592,     0.91692,     0.91792,     0.91892,     0.91992,     0.92092,     0.92192,     0.92292,     0.92392,     0.92492,     0.92593,     0.92693,     0.92793,     0.92893,     0.92993,     0.93093,     0.93193,     0.93293,     0.93393,     0.93493,     0.93594,\n",
              "           0.93694,     0.93794,     0.93894,     0.93994,     0.94094,     0.94194,     0.94294,     0.94394,     0.94494,     0.94595,     0.94695,     0.94795,     0.94895,     0.94995,     0.95095,     0.95195,     0.95295,     0.95395,     0.95495,     0.95596,     0.95696,     0.95796,     0.95896,     0.95996,\n",
              "           0.96096,     0.96196,     0.96296,     0.96396,     0.96496,     0.96597,     0.96697,     0.96797,     0.96897,     0.96997,     0.97097,     0.97197,     0.97297,     0.97397,     0.97497,     0.97598,     0.97698,     0.97798,     0.97898,     0.97998,     0.98098,     0.98198,     0.98298,     0.98398,\n",
              "           0.98498,     0.98599,     0.98699,     0.98799,     0.98899,     0.98999,     0.99099,     0.99199,     0.99299,     0.99399,     0.99499,       0.996,       0.997,       0.998,       0.999,           1]), array([[          1,           1,           1,           1,           1,           1,           1,           1,           1,           1,           1,           1,           1,           1,           1,           1,           1,           1,           1,           1,           1,           1,           1,\n",
              "                  1,           1,           1,           1,           1,           1,           1,           1,           1,           1,           1,           1,           1,           1,           1,           1,           1,           1,           1,           1,           1,           1,           1,\n",
              "                  1,           1,           1,           1,           1,           1,           1,           1,           1,           1,           1,           1,           1,           1,           1,           1,           1,           1,           1,           1,           1,           1,           1,\n",
              "                  1,           1,           1,           1,           1,           1,           1,           1,           1,           1,           1,           1,           1,           1,           1,           1,           1,           1,           1,           1,           1,           1,           1,\n",
              "                  1,           1,           1,           1,           1,           1,           1,           1,           1,           1,           1,           1,           1,           1,           1,           1,           1,           1,           1,           1,           1,           1,           1,\n",
              "                  1,           1,           1,           1,           1,           1,           1,           1,           1,           1,           1,           1,           1,           1,           1,           1,           1,           1,           1,           1,           1,           1,           1,\n",
              "                  1,           1,           1,           1,           1,           1,           1,           1,           1,           1,           1,           1,           1,           1,           1,           1,           1,           1,           1,           1,           1,           1,           1,\n",
              "                  1,           1,           1,           1,           1,           1,           1,           1,           1,           1,           1,           1,           1,           1,           1,           1,           1,           1,           1,           1,           1,           1,           1,\n",
              "                  1,           1,           1,           1,           1,           1,           1,           1,           1,           1,           1,           1,           1,           1,           1,           1,           1,           1,           1,           1,           1,           1,           1,\n",
              "                  1,           1,           1,           1,           1,           1,           1,           1,           1,           1,           1,           1,           1,           1,           1,           1,           1,           1,           1,           1,           1,           1,           1,\n",
              "                  1,           1,           1,           1,           1,           1,           1,           1,           1,           1,           1,           1,           1,           1,           1,           1,           1,           1,           1,           1,           1,           1,           1,\n",
              "                  1,           1,           1,           1,           1,           1,           1,           1,           1,           1,           1,           1,           1,           1,           1,           1,           1,           1,           1,           1,           1,           1,           1,\n",
              "                  1,           1,           1,           1,           1,           1,           1,           1,           1,           1,           1,           1,           1,           1,           1,           1,           1,           1,           1,           1,           1,           1,           1,\n",
              "                  1,           1,           1,           1,           1,           1,           1,           1,           1,           1,           1,           1,           1,           1,           1,           1,           1,           1,           1,           1,           1,           1,           1,\n",
              "                  1,           1,           1,           1,           1,           1,           1,           1,           1,           1,           1,           1,           1,           1,           1,           1,           1,           1,           1,           1,           1,           1,           1,\n",
              "                  1,           1,           1,           1,           1,           1,           1,           1,           1,           1,           1,           1,           1,           1,           1,           1,           1,           1,           1,           1,           1,           1,           1,\n",
              "                  1,           1,           1,           1,           1,           1,           1,           1,           1,           1,           1,           1,           1,           1,           1,           1,           1,           1,           1,           1,           1,           1,           1,\n",
              "                  1,           1,           1,           1,           1,           1,           1,           1,           1,           1,           1,           1,           1,           1,           1,           1,           1,           1,           1,           1,           1,           1,           1,\n",
              "                  1,           1,           1,           1,           1,           1,           1,           1,           1,           1,           1,           1,           1,           1,           1,           1,           1,           1,           1,           1,           1,           1,           1,\n",
              "                  1,           1,           1,           1,           1,           1,           1,           1,           1,           1,           1,           1,           1,           1,           1,           1,           1,           1,           1,           1,           1,           1,           1,\n",
              "                  1,           1,           1,           1,           1,           1,           1,           1,           1,           1,           1,           1,           1,           1,           1,           1,           1,           1,           1,           1,           1,           1,           1,\n",
              "                  1,           1,           1,           1,           1,           1,           1,           1,           1,           1,           1,           1,           1,           1,           1,           1,           1,           1,           1,           1,           1,           1,           1,\n",
              "                  1,           1,           1,           1,           1,           1,           1,           1,           1,           1,           1,           1,           1,           1,           1,           1,           1,           1,           1,           1,           1,           1,           1,\n",
              "                  1,           1,           1,           1,           1,           1,           1,           1,           1,           1,           1,           1,           1,           1,           1,           1,           1,           1,           1,           1,           1,           1,           1,\n",
              "                  1,           1,           1,           1,           1,           1,           1,           1,           1,           1,           1,           1,           1,           1,           1,           1,           1,           1,           1,           1,           1,           1,           1,\n",
              "                  1,           1,           1,           1,           1,           1,           1,           1,           1,           1,           1,           1,           1,           1,           1,           1,           1,           1,           1,           1,           1,           1,           1,\n",
              "                  1,           1,           1,           1,           1,           1,           1,           1,           1,           1,           1,           1,           1,           1,           1,           1,           1,           1,           1,           1,           1,           1,           1,\n",
              "                  1,           1,           1,           1,           1,           1,           1,           1,           1,           1,           1,           1,           1,           1,           1,           1,           1,           1,           1,           1,           1,           1,           1,\n",
              "                  1,           1,           1,           1,           1,           1,           1,           1,           1,           1,           1,           1,           1,           1,           1,           1,           1,           1,           1,           1,           1,           1,           1,\n",
              "                  1,           1,           1,           1,           1,           1,           1,           1,           1,           1,           1,           1,           1,           1,           1,           1,           1,           1,           1,           1,           1,           1,           1,\n",
              "                  1,           1,           1,           1,           1,           1,           1,           1,           1,           1,           1,           1,           1,           1,           1,           1,           1,           1,           1,           1,           1,           1,           1,\n",
              "                  1,           1,           1,           1,           1,           1,           1,           1,           1,           1,           1,           1,           1,           1,           1,           1,           1,           1,           1,           1,           1,           1,           1,\n",
              "                  1,           1,           1,           1,           1,           1,           1,           1,           1,           1,           1,           1,           1,           1,           1,           1,           1,           1,           1,           1,           1,           1,           1,\n",
              "                  1,           1,           1,           1,           1,           1,           1,           1,           1,           1,           1,           1,           1,           1,           1,           1,           1,           1,           1,           1,           1,           1,           1,\n",
              "                  1,           1,           1,           1,           1,           1,           1,           1,           1,           1,           1,           1,           1,           1,           1,           1,           1,           1,           1,           1,           1,           1,           1,\n",
              "                  1,           1,           1,           1,           1,           1,           1,           1,           1,           1,           1,           1,           1,           1,           1,           1,           1,           1,           1,           1,           1,           1,           1,\n",
              "                  1,           1,           1,           1,           1,           1,           1,           1,           1,           1,           1,           1,           1,           1,           1,           1,           1,           1,           1,           1,           1,           1,           1,\n",
              "                  1,           1,           1,           1,           1,           1,           1,           1,           1,           1,           1,           1,           1,           1,           1,           1,           1,           1,           1,           1,           1,           1,           1,\n",
              "                  1,           1,           1,           1,           1,     0.98684,     0.98684,     0.98684,     0.98684,     0.98684,     0.98684,     0.98684,     0.98684,     0.98684,     0.98684,     0.98684,     0.98684,     0.98684,     0.98684,     0.98684,     0.98684,     0.98684,     0.98684,\n",
              "            0.98684,     0.98684,     0.98684,     0.98684,     0.98684,     0.98684,     0.96203,     0.96203,     0.96203,     0.96203,     0.96203,     0.96203,     0.96203,     0.96203,     0.96203,     0.96203,     0.96203,     0.96203,     0.93902,     0.93902,     0.93902,     0.93902,     0.93902,\n",
              "            0.93902,     0.93902,     0.93902,     0.93902,     0.93902,     0.93902,     0.93902,     0.92857,     0.92857,     0.92857,     0.92857,     0.92857,     0.92857,     0.92857,     0.92857,     0.92857,     0.92857,     0.92857,     0.92857,     0.89773,     0.89773,     0.89773,     0.89773,\n",
              "            0.89773,     0.89773,     0.89773,     0.89773,     0.89773,     0.89773,     0.89773,     0.89773,     0.87912,     0.87912,     0.87912,     0.87912,     0.87912,     0.87912,     0.87912,     0.87912,     0.87912,     0.87912,     0.87912,     0.87912,     0.49693,     0.49693,     0.49693,\n",
              "            0.49693,     0.49693,     0.49693,     0.49693,     0.49693,     0.49693,     0.49693,     0.49693,     0.49693,     0.27243,     0.27243,     0.27243,     0.27243,     0.27243,     0.27243,     0.27243,     0.27243,     0.27243,     0.27243,     0.27243,     0.27243,    0.065877,    0.060388,\n",
              "           0.054898,    0.049408,    0.043918,    0.038428,    0.032939,    0.027449,    0.021959,    0.016469,     0.01098,   0.0054898,           0]]), 'Recall', 'Precision'], [array([          0,    0.001001,    0.002002,    0.003003,    0.004004,    0.005005,    0.006006,    0.007007,    0.008008,    0.009009,     0.01001,    0.011011,    0.012012,    0.013013,    0.014014,    0.015015,    0.016016,    0.017017,    0.018018,    0.019019,     0.02002,    0.021021,    0.022022,    0.023023,\n",
              "          0.024024,    0.025025,    0.026026,    0.027027,    0.028028,    0.029029,     0.03003,    0.031031,    0.032032,    0.033033,    0.034034,    0.035035,    0.036036,    0.037037,    0.038038,    0.039039,     0.04004,    0.041041,    0.042042,    0.043043,    0.044044,    0.045045,    0.046046,    0.047047,\n",
              "          0.048048,    0.049049,     0.05005,    0.051051,    0.052052,    0.053053,    0.054054,    0.055055,    0.056056,    0.057057,    0.058058,    0.059059,     0.06006,    0.061061,    0.062062,    0.063063,    0.064064,    0.065065,    0.066066,    0.067067,    0.068068,    0.069069,     0.07007,    0.071071,\n",
              "          0.072072,    0.073073,    0.074074,    0.075075,    0.076076,    0.077077,    0.078078,    0.079079,     0.08008,    0.081081,    0.082082,    0.083083,    0.084084,    0.085085,    0.086086,    0.087087,    0.088088,    0.089089,     0.09009,    0.091091,    0.092092,    0.093093,    0.094094,    0.095095,\n",
              "          0.096096,    0.097097,    0.098098,    0.099099,      0.1001,      0.1011,      0.1021,      0.1031,      0.1041,     0.10511,     0.10611,     0.10711,     0.10811,     0.10911,     0.11011,     0.11111,     0.11211,     0.11311,     0.11411,     0.11512,     0.11612,     0.11712,     0.11812,     0.11912,\n",
              "           0.12012,     0.12112,     0.12212,     0.12312,     0.12412,     0.12513,     0.12613,     0.12713,     0.12813,     0.12913,     0.13013,     0.13113,     0.13213,     0.13313,     0.13413,     0.13514,     0.13614,     0.13714,     0.13814,     0.13914,     0.14014,     0.14114,     0.14214,     0.14314,\n",
              "           0.14414,     0.14515,     0.14615,     0.14715,     0.14815,     0.14915,     0.15015,     0.15115,     0.15215,     0.15315,     0.15415,     0.15516,     0.15616,     0.15716,     0.15816,     0.15916,     0.16016,     0.16116,     0.16216,     0.16316,     0.16416,     0.16517,     0.16617,     0.16717,\n",
              "           0.16817,     0.16917,     0.17017,     0.17117,     0.17217,     0.17317,     0.17417,     0.17518,     0.17618,     0.17718,     0.17818,     0.17918,     0.18018,     0.18118,     0.18218,     0.18318,     0.18418,     0.18519,     0.18619,     0.18719,     0.18819,     0.18919,     0.19019,     0.19119,\n",
              "           0.19219,     0.19319,     0.19419,      0.1952,      0.1962,      0.1972,      0.1982,      0.1992,      0.2002,      0.2012,      0.2022,      0.2032,      0.2042,     0.20521,     0.20621,     0.20721,     0.20821,     0.20921,     0.21021,     0.21121,     0.21221,     0.21321,     0.21421,     0.21522,\n",
              "           0.21622,     0.21722,     0.21822,     0.21922,     0.22022,     0.22122,     0.22222,     0.22322,     0.22422,     0.22523,     0.22623,     0.22723,     0.22823,     0.22923,     0.23023,     0.23123,     0.23223,     0.23323,     0.23423,     0.23524,     0.23624,     0.23724,     0.23824,     0.23924,\n",
              "           0.24024,     0.24124,     0.24224,     0.24324,     0.24424,     0.24525,     0.24625,     0.24725,     0.24825,     0.24925,     0.25025,     0.25125,     0.25225,     0.25325,     0.25425,     0.25526,     0.25626,     0.25726,     0.25826,     0.25926,     0.26026,     0.26126,     0.26226,     0.26326,\n",
              "           0.26426,     0.26527,     0.26627,     0.26727,     0.26827,     0.26927,     0.27027,     0.27127,     0.27227,     0.27327,     0.27427,     0.27528,     0.27628,     0.27728,     0.27828,     0.27928,     0.28028,     0.28128,     0.28228,     0.28328,     0.28428,     0.28529,     0.28629,     0.28729,\n",
              "           0.28829,     0.28929,     0.29029,     0.29129,     0.29229,     0.29329,     0.29429,      0.2953,      0.2963,      0.2973,      0.2983,      0.2993,      0.3003,      0.3013,      0.3023,      0.3033,      0.3043,     0.30531,     0.30631,     0.30731,     0.30831,     0.30931,     0.31031,     0.31131,\n",
              "           0.31231,     0.31331,     0.31431,     0.31532,     0.31632,     0.31732,     0.31832,     0.31932,     0.32032,     0.32132,     0.32232,     0.32332,     0.32432,     0.32533,     0.32633,     0.32733,     0.32833,     0.32933,     0.33033,     0.33133,     0.33233,     0.33333,     0.33433,     0.33534,\n",
              "           0.33634,     0.33734,     0.33834,     0.33934,     0.34034,     0.34134,     0.34234,     0.34334,     0.34434,     0.34535,     0.34635,     0.34735,     0.34835,     0.34935,     0.35035,     0.35135,     0.35235,     0.35335,     0.35435,     0.35536,     0.35636,     0.35736,     0.35836,     0.35936,\n",
              "           0.36036,     0.36136,     0.36236,     0.36336,     0.36436,     0.36537,     0.36637,     0.36737,     0.36837,     0.36937,     0.37037,     0.37137,     0.37237,     0.37337,     0.37437,     0.37538,     0.37638,     0.37738,     0.37838,     0.37938,     0.38038,     0.38138,     0.38238,     0.38338,\n",
              "           0.38438,     0.38539,     0.38639,     0.38739,     0.38839,     0.38939,     0.39039,     0.39139,     0.39239,     0.39339,     0.39439,      0.3954,      0.3964,      0.3974,      0.3984,      0.3994,      0.4004,      0.4014,      0.4024,      0.4034,      0.4044,     0.40541,     0.40641,     0.40741,\n",
              "           0.40841,     0.40941,     0.41041,     0.41141,     0.41241,     0.41341,     0.41441,     0.41542,     0.41642,     0.41742,     0.41842,     0.41942,     0.42042,     0.42142,     0.42242,     0.42342,     0.42442,     0.42543,     0.42643,     0.42743,     0.42843,     0.42943,     0.43043,     0.43143,\n",
              "           0.43243,     0.43343,     0.43443,     0.43544,     0.43644,     0.43744,     0.43844,     0.43944,     0.44044,     0.44144,     0.44244,     0.44344,     0.44444,     0.44545,     0.44645,     0.44745,     0.44845,     0.44945,     0.45045,     0.45145,     0.45245,     0.45345,     0.45445,     0.45546,\n",
              "           0.45646,     0.45746,     0.45846,     0.45946,     0.46046,     0.46146,     0.46246,     0.46346,     0.46446,     0.46547,     0.46647,     0.46747,     0.46847,     0.46947,     0.47047,     0.47147,     0.47247,     0.47347,     0.47447,     0.47548,     0.47648,     0.47748,     0.47848,     0.47948,\n",
              "           0.48048,     0.48148,     0.48248,     0.48348,     0.48448,     0.48549,     0.48649,     0.48749,     0.48849,     0.48949,     0.49049,     0.49149,     0.49249,     0.49349,     0.49449,      0.4955,      0.4965,      0.4975,      0.4985,      0.4995,      0.5005,      0.5015,      0.5025,      0.5035,\n",
              "            0.5045,     0.50551,     0.50651,     0.50751,     0.50851,     0.50951,     0.51051,     0.51151,     0.51251,     0.51351,     0.51451,     0.51552,     0.51652,     0.51752,     0.51852,     0.51952,     0.52052,     0.52152,     0.52252,     0.52352,     0.52452,     0.52553,     0.52653,     0.52753,\n",
              "           0.52853,     0.52953,     0.53053,     0.53153,     0.53253,     0.53353,     0.53453,     0.53554,     0.53654,     0.53754,     0.53854,     0.53954,     0.54054,     0.54154,     0.54254,     0.54354,     0.54454,     0.54555,     0.54655,     0.54755,     0.54855,     0.54955,     0.55055,     0.55155,\n",
              "           0.55255,     0.55355,     0.55455,     0.55556,     0.55656,     0.55756,     0.55856,     0.55956,     0.56056,     0.56156,     0.56256,     0.56356,     0.56456,     0.56557,     0.56657,     0.56757,     0.56857,     0.56957,     0.57057,     0.57157,     0.57257,     0.57357,     0.57457,     0.57558,\n",
              "           0.57658,     0.57758,     0.57858,     0.57958,     0.58058,     0.58158,     0.58258,     0.58358,     0.58458,     0.58559,     0.58659,     0.58759,     0.58859,     0.58959,     0.59059,     0.59159,     0.59259,     0.59359,     0.59459,      0.5956,      0.5966,      0.5976,      0.5986,      0.5996,\n",
              "            0.6006,      0.6016,      0.6026,      0.6036,      0.6046,     0.60561,     0.60661,     0.60761,     0.60861,     0.60961,     0.61061,     0.61161,     0.61261,     0.61361,     0.61461,     0.61562,     0.61662,     0.61762,     0.61862,     0.61962,     0.62062,     0.62162,     0.62262,     0.62362,\n",
              "           0.62462,     0.62563,     0.62663,     0.62763,     0.62863,     0.62963,     0.63063,     0.63163,     0.63263,     0.63363,     0.63463,     0.63564,     0.63664,     0.63764,     0.63864,     0.63964,     0.64064,     0.64164,     0.64264,     0.64364,     0.64464,     0.64565,     0.64665,     0.64765,\n",
              "           0.64865,     0.64965,     0.65065,     0.65165,     0.65265,     0.65365,     0.65465,     0.65566,     0.65666,     0.65766,     0.65866,     0.65966,     0.66066,     0.66166,     0.66266,     0.66366,     0.66466,     0.66567,     0.66667,     0.66767,     0.66867,     0.66967,     0.67067,     0.67167,\n",
              "           0.67267,     0.67367,     0.67467,     0.67568,     0.67668,     0.67768,     0.67868,     0.67968,     0.68068,     0.68168,     0.68268,     0.68368,     0.68468,     0.68569,     0.68669,     0.68769,     0.68869,     0.68969,     0.69069,     0.69169,     0.69269,     0.69369,     0.69469,      0.6957,\n",
              "            0.6967,      0.6977,      0.6987,      0.6997,      0.7007,      0.7017,      0.7027,      0.7037,      0.7047,     0.70571,     0.70671,     0.70771,     0.70871,     0.70971,     0.71071,     0.71171,     0.71271,     0.71371,     0.71471,     0.71572,     0.71672,     0.71772,     0.71872,     0.71972,\n",
              "           0.72072,     0.72172,     0.72272,     0.72372,     0.72472,     0.72573,     0.72673,     0.72773,     0.72873,     0.72973,     0.73073,     0.73173,     0.73273,     0.73373,     0.73473,     0.73574,     0.73674,     0.73774,     0.73874,     0.73974,     0.74074,     0.74174,     0.74274,     0.74374,\n",
              "           0.74474,     0.74575,     0.74675,     0.74775,     0.74875,     0.74975,     0.75075,     0.75175,     0.75275,     0.75375,     0.75475,     0.75576,     0.75676,     0.75776,     0.75876,     0.75976,     0.76076,     0.76176,     0.76276,     0.76376,     0.76476,     0.76577,     0.76677,     0.76777,\n",
              "           0.76877,     0.76977,     0.77077,     0.77177,     0.77277,     0.77377,     0.77477,     0.77578,     0.77678,     0.77778,     0.77878,     0.77978,     0.78078,     0.78178,     0.78278,     0.78378,     0.78478,     0.78579,     0.78679,     0.78779,     0.78879,     0.78979,     0.79079,     0.79179,\n",
              "           0.79279,     0.79379,     0.79479,      0.7958,      0.7968,      0.7978,      0.7988,      0.7998,      0.8008,      0.8018,      0.8028,      0.8038,      0.8048,     0.80581,     0.80681,     0.80781,     0.80881,     0.80981,     0.81081,     0.81181,     0.81281,     0.81381,     0.81481,     0.81582,\n",
              "           0.81682,     0.81782,     0.81882,     0.81982,     0.82082,     0.82182,     0.82282,     0.82382,     0.82482,     0.82583,     0.82683,     0.82783,     0.82883,     0.82983,     0.83083,     0.83183,     0.83283,     0.83383,     0.83483,     0.83584,     0.83684,     0.83784,     0.83884,     0.83984,\n",
              "           0.84084,     0.84184,     0.84284,     0.84384,     0.84484,     0.84585,     0.84685,     0.84785,     0.84885,     0.84985,     0.85085,     0.85185,     0.85285,     0.85385,     0.85485,     0.85586,     0.85686,     0.85786,     0.85886,     0.85986,     0.86086,     0.86186,     0.86286,     0.86386,\n",
              "           0.86486,     0.86587,     0.86687,     0.86787,     0.86887,     0.86987,     0.87087,     0.87187,     0.87287,     0.87387,     0.87487,     0.87588,     0.87688,     0.87788,     0.87888,     0.87988,     0.88088,     0.88188,     0.88288,     0.88388,     0.88488,     0.88589,     0.88689,     0.88789,\n",
              "           0.88889,     0.88989,     0.89089,     0.89189,     0.89289,     0.89389,     0.89489,      0.8959,      0.8969,      0.8979,      0.8989,      0.8999,      0.9009,      0.9019,      0.9029,      0.9039,      0.9049,     0.90591,     0.90691,     0.90791,     0.90891,     0.90991,     0.91091,     0.91191,\n",
              "           0.91291,     0.91391,     0.91491,     0.91592,     0.91692,     0.91792,     0.91892,     0.91992,     0.92092,     0.92192,     0.92292,     0.92392,     0.92492,     0.92593,     0.92693,     0.92793,     0.92893,     0.92993,     0.93093,     0.93193,     0.93293,     0.93393,     0.93493,     0.93594,\n",
              "           0.93694,     0.93794,     0.93894,     0.93994,     0.94094,     0.94194,     0.94294,     0.94394,     0.94494,     0.94595,     0.94695,     0.94795,     0.94895,     0.94995,     0.95095,     0.95195,     0.95295,     0.95395,     0.95495,     0.95596,     0.95696,     0.95796,     0.95896,     0.95996,\n",
              "           0.96096,     0.96196,     0.96296,     0.96396,     0.96496,     0.96597,     0.96697,     0.96797,     0.96897,     0.96997,     0.97097,     0.97197,     0.97297,     0.97397,     0.97497,     0.97598,     0.97698,     0.97798,     0.97898,     0.97998,     0.98098,     0.98198,     0.98298,     0.98398,\n",
              "           0.98498,     0.98599,     0.98699,     0.98799,     0.98899,     0.98999,     0.99099,     0.99199,     0.99299,     0.99399,     0.99499,       0.996,       0.997,       0.998,       0.999,           1]), array([[    0.12387,     0.12387,     0.31777,     0.43175,     0.52479,     0.58428,      0.6193,      0.6399,     0.65292,     0.65832,     0.67935,     0.69181,     0.70349,     0.71802,     0.72189,     0.73462,     0.73657,     0.74599,     0.75856,     0.77003,      0.7767,     0.78161,     0.78374,\n",
              "            0.79734,     0.80007,     0.80325,      0.8079,     0.80886,     0.80967,     0.81048,     0.81129,     0.81209,     0.81496,     0.81717,     0.81866,     0.82015,     0.82208,     0.82415,     0.82626,     0.82839,      0.8298,     0.83092,     0.83203,     0.83314,     0.84464,     0.84776,\n",
              "            0.84915,     0.85054,     0.85607,     0.85736,     0.85865,     0.85993,      0.8612,     0.86245,      0.8637,     0.86488,     0.86515,     0.86542,     0.86568,     0.86595,     0.86622,     0.86649,     0.86675,     0.86702,     0.86729,     0.86755,     0.86782,     0.86809,     0.86835,\n",
              "            0.86862,     0.86889,     0.86915,     0.86942,     0.86975,     0.87017,     0.87059,       0.871,     0.87142,     0.87184,     0.87225,     0.87267,     0.87309,      0.8735,     0.87392,     0.87434,     0.87486,     0.87538,      0.8759,     0.87642,     0.87693,     0.87745,     0.87797,\n",
              "            0.87849,       0.879,     0.87932,     0.87959,     0.87985,     0.88012,     0.88038,     0.88064,     0.88091,     0.88117,     0.88143,      0.8817,     0.88196,     0.88222,     0.88248,     0.88275,     0.88301,     0.88327,     0.88353,     0.88379,     0.88411,     0.88455,       0.885,\n",
              "            0.88544,     0.88588,     0.88633,     0.88677,     0.88721,     0.88765,     0.88809,     0.88854,     0.88892,     0.88907,     0.88922,     0.88937,     0.88952,     0.88967,     0.88982,     0.88997,     0.89012,     0.89027,     0.89042,     0.89057,     0.89072,     0.89087,     0.89102,\n",
              "            0.89117,     0.89132,     0.89147,     0.89162,     0.89177,     0.89192,     0.89207,     0.89222,     0.89237,     0.89252,     0.89267,     0.89281,     0.89296,     0.89311,     0.89326,     0.89341,     0.89356,     0.89371,     0.89415,     0.89891,     0.89897,     0.89904,      0.8991,\n",
              "            0.89916,     0.89922,     0.89929,     0.89935,     0.89941,     0.89948,     0.89954,      0.8996,     0.89966,     0.89973,     0.89979,     0.89985,     0.89991,     0.89998,     0.90004,      0.9001,     0.90017,     0.90023,     0.90029,     0.90035,     0.90042,     0.90048,     0.90054,\n",
              "             0.9006,     0.90067,     0.90073,     0.90079,     0.90085,     0.90092,     0.90098,     0.90104,      0.9011,     0.90117,     0.90123,     0.90129,     0.90136,     0.90142,     0.90148,     0.90154,     0.90161,     0.90167,     0.90173,     0.90179,     0.90186,     0.90192,     0.90198,\n",
              "            0.90204,      0.9021,     0.90217,     0.90223,     0.90229,     0.90235,     0.90242,     0.90248,     0.90254,      0.9026,     0.90267,     0.90273,     0.90279,     0.90285,     0.90292,     0.90298,     0.90304,      0.9031,     0.90317,     0.90323,     0.90329,     0.90335,     0.90341,\n",
              "            0.90348,     0.90354,      0.9036,     0.90366,     0.90373,     0.90379,     0.90385,     0.90391,     0.90416,     0.90478,      0.9054,     0.90602,     0.90664,     0.90726,     0.90788,     0.90849,      0.9091,     0.90931,     0.90953,     0.90974,     0.90996,     0.91017,     0.91039,\n",
              "             0.9106,     0.91082,     0.91103,     0.91124,     0.91146,     0.91167,     0.91189,      0.9121,     0.91231,     0.91253,     0.91274,     0.91296,     0.91317,     0.91338,      0.9136,     0.91381,     0.91402,     0.91424,     0.91472,     0.91529,     0.91586,     0.91643,     0.91699,\n",
              "            0.91756,     0.91813,     0.91869,     0.91926,     0.91919,     0.91848,     0.91777,     0.91706,     0.91635,     0.91564,     0.91493,     0.91421,      0.9135,     0.91338,     0.91349,      0.9136,     0.91371,     0.91383,     0.91394,     0.91405,     0.91416,     0.91428,     0.91439,\n",
              "             0.9145,     0.91461,     0.91473,     0.91484,     0.91495,     0.91506,     0.91518,     0.91529,      0.9154,     0.91551,     0.91563,     0.91574,     0.91585,     0.91596,     0.91608,     0.91619,      0.9163,     0.91641,     0.91652,     0.91664,     0.91675,     0.91686,     0.91697,\n",
              "            0.91708,      0.9172,     0.91731,     0.91742,     0.91753,     0.91764,     0.91776,     0.91787,     0.91798,     0.91809,      0.9182,     0.91831,     0.91843,     0.91854,     0.91864,     0.91872,      0.9188,     0.91888,     0.91897,     0.91905,     0.91913,     0.91921,      0.9193,\n",
              "            0.91938,     0.91946,     0.91954,     0.91962,     0.91971,     0.91979,     0.91987,     0.91995,     0.92003,     0.92012,      0.9202,     0.92028,     0.92036,     0.92045,     0.92053,     0.92061,     0.92069,     0.92077,     0.92086,     0.92094,     0.92102,      0.9211,     0.92118,\n",
              "            0.92126,     0.92135,     0.92143,     0.92151,     0.92159,     0.92167,     0.92176,     0.92184,     0.92192,       0.922,     0.92208,     0.92216,     0.92225,     0.92233,     0.92241,     0.92249,     0.92257,     0.92265,     0.92274,     0.92282,      0.9229,     0.92298,     0.92306,\n",
              "            0.92314,     0.92323,     0.92331,     0.92339,     0.92347,     0.92355,     0.92363,     0.92372,      0.9238,     0.92388,     0.92396,     0.92384,     0.92366,     0.92349,     0.92331,     0.92314,     0.92297,     0.92279,     0.92262,     0.92244,     0.92227,     0.92209,     0.92192,\n",
              "            0.92174,     0.92157,     0.92139,     0.92122,     0.92104,     0.92086,     0.92069,     0.92051,     0.92034,     0.92016,     0.91999,     0.91981,     0.91964,     0.91946,     0.91928,     0.91911,     0.91893,     0.91876,     0.91858,     0.91841,     0.91823,     0.91805,     0.91788,\n",
              "             0.9177,     0.91894,      0.9208,     0.92265,     0.92327,     0.92352,     0.92377,     0.92401,     0.92426,     0.92451,     0.92476,     0.92501,     0.92525,      0.9255,     0.92575,       0.926,     0.92625,     0.92649,     0.92674,     0.92699,     0.92723,     0.92748,     0.92773,\n",
              "            0.92797,     0.92822,     0.92847,     0.92863,     0.92873,     0.92883,     0.92893,     0.92903,     0.92913,     0.92923,     0.92933,     0.92943,     0.92953,     0.92963,     0.92973,     0.92983,     0.92993,     0.93003,     0.93014,     0.93024,     0.93034,     0.93044,     0.93054,\n",
              "            0.93064,     0.93074,     0.93084,     0.93094,     0.93104,     0.93114,     0.93124,     0.93134,     0.93144,     0.93154,     0.93164,     0.93174,     0.93184,     0.93194,     0.93204,     0.93214,     0.93224,     0.93234,     0.93244,     0.93253,     0.93263,     0.93273,     0.93283,\n",
              "            0.93293,     0.93303,     0.93313,     0.93323,     0.93333,     0.93343,     0.93353,     0.93363,     0.93373,     0.93383,     0.93393,     0.93403,     0.93413,     0.93404,     0.93395,     0.93385,     0.93376,     0.93366,     0.93357,     0.93347,     0.93338,     0.93328,     0.93319,\n",
              "            0.93309,       0.933,      0.9329,     0.93281,     0.93271,     0.93262,     0.93252,     0.93242,     0.93233,     0.93223,     0.93214,     0.93204,     0.93195,     0.93185,     0.93176,     0.93166,     0.93157,     0.93147,     0.93138,     0.93128,     0.93119,     0.93109,       0.931,\n",
              "             0.9309,     0.93081,     0.93071,     0.93061,     0.93052,     0.93042,     0.93033,     0.93023,     0.93014,     0.93004,     0.92995,     0.92985,     0.92975,     0.92966,     0.92956,     0.92947,     0.92937,     0.92928,     0.92918,     0.92909,     0.92899,     0.92889,      0.9288,\n",
              "             0.9287,     0.92861,     0.92851,     0.92842,     0.92832,     0.92822,     0.92813,     0.92803,     0.92794,     0.92784,     0.92774,     0.92834,      0.9293,     0.93026,     0.93122,     0.93218,     0.93314,     0.93309,     0.93279,     0.93249,     0.93219,     0.93189,     0.93158,\n",
              "            0.93128,     0.93098,     0.93068,     0.93037,     0.93007,     0.92977,     0.92946,     0.92916,     0.92886,     0.92855,     0.92825,     0.92795,     0.92764,     0.92734,     0.92703,     0.92692,     0.92718,     0.92744,      0.9277,     0.92796,     0.92822,     0.92848,     0.92874,\n",
              "              0.929,     0.92926,     0.92951,     0.92977,     0.93003,     0.93029,     0.93055,     0.93081,     0.93107,     0.93132,     0.93158,     0.93184,      0.9321,     0.93236,     0.93265,     0.93301,     0.93337,     0.93373,     0.93409,     0.93445,     0.93481,     0.93516,     0.93552,\n",
              "            0.93588,     0.93624,     0.93659,     0.93695,     0.93731,     0.93766,     0.93802,     0.93822,     0.93804,     0.93785,     0.93767,     0.93748,      0.9373,     0.93711,     0.93693,     0.93674,     0.93656,     0.93637,     0.93619,     0.93601,     0.93582,     0.93564,     0.93545,\n",
              "            0.93527,     0.93508,     0.93489,     0.93471,     0.93452,     0.93434,     0.93415,     0.93397,     0.93378,      0.9336,     0.93341,     0.93323,     0.93304,     0.93285,     0.93267,     0.93248,      0.9323,     0.93211,     0.93192,     0.93174,     0.93179,     0.93195,     0.93212,\n",
              "            0.93228,     0.93245,     0.93261,     0.93277,     0.93294,      0.9331,     0.93327,     0.93343,     0.93359,     0.93376,     0.93392,     0.93409,     0.93425,     0.93441,     0.93458,     0.93474,      0.9349,     0.93507,     0.93523,     0.93539,     0.93556,     0.93572,     0.93588,\n",
              "            0.93605,     0.93621,     0.93637,     0.93654,      0.9367,     0.93686,     0.93702,     0.93719,     0.93735,     0.93759,     0.93894,     0.94029,     0.94163,     0.94296,     0.94224,     0.94053,     0.93882,      0.9371,     0.93589,     0.93482,     0.93376,     0.93269,     0.93162,\n",
              "            0.93055,     0.93019,     0.93078,     0.93136,     0.93194,     0.93253,     0.93311,     0.93369,     0.93427,     0.93485,     0.93543,     0.93586,     0.93567,     0.93547,     0.93528,     0.93508,     0.93489,     0.93469,      0.9345,      0.9343,     0.93411,     0.93391,     0.93372,\n",
              "            0.93352,     0.93333,     0.93313,     0.93294,     0.93274,     0.93255,     0.93235,     0.93216,     0.93196,     0.93177,     0.93157,     0.93137,     0.93118,     0.93098,     0.93079,     0.93059,     0.93039,      0.9302,        0.93,     0.92981,     0.92961,     0.92941,     0.92922,\n",
              "            0.92898,     0.92828,     0.92757,     0.92686,     0.92614,     0.92543,     0.92472,       0.924,     0.92329,     0.92257,     0.92173,     0.92063,     0.91952,     0.91841,      0.9173,     0.91618,     0.91507,     0.91456,     0.91408,     0.91359,     0.91311,     0.91262,     0.91213,\n",
              "            0.91164,     0.91116,     0.91067,     0.91018,     0.90969,      0.9092,     0.90871,     0.90822,     0.90727,     0.90543,     0.90358,     0.90172,     0.89904,     0.89528,     0.89299,     0.89226,     0.89154,     0.89082,     0.89009,     0.88937,     0.88864,     0.88792,     0.88719,\n",
              "            0.88646,     0.88568,     0.88472,     0.88376,     0.88279,     0.88183,     0.88086,      0.8799,     0.87893,     0.87702,      0.8739,     0.87076,     0.86813,     0.86548,     0.86297,     0.86236,     0.86174,     0.86113,     0.86051,     0.85989,     0.85927,     0.85866,     0.85804,\n",
              "            0.85742,      0.8568,     0.85618,     0.85555,     0.85469,     0.85344,     0.85219,     0.85094,     0.84968,     0.84843,      0.8391,     0.83782,     0.83654,     0.83525,     0.83396,     0.83267,     0.83137,     0.82199,     0.82098,     0.81997,     0.81895,     0.81794,     0.81692,\n",
              "            0.81591,     0.81489,      0.8107,     0.80447,     0.80152,     0.79856,     0.79482,     0.79032,     0.77426,      0.7575,      0.7517,     0.75022,     0.74874,     0.74725,     0.74575,     0.74426,     0.74276,     0.73167,     0.72769,     0.72368,     0.71878,     0.71369,     0.70241,\n",
              "            0.70068,     0.69894,     0.69719,     0.69544,     0.69369,     0.67854,     0.67177,     0.66934,     0.66691,     0.66447,     0.66202,     0.65738,     0.65179,     0.64757,      0.6438,        0.64,     0.58906,      0.5721,     0.53362,     0.52495,      0.5182,     0.49165,     0.47709,\n",
              "             0.4448,     0.43729,     0.41831,     0.40795,     0.39905,      0.3911,     0.33808,     0.32663,     0.31709,      0.3083,     0.26943,     0.26413,     0.25879,     0.25343,     0.24456,       0.235,      0.2224,     0.20641,     0.19255,      0.1858,       0.179,     0.16476,     0.14769,\n",
              "            0.13345,       0.119,     0.10432,    0.091446,    0.088442,    0.085429,    0.082406,    0.079374,    0.076332,    0.073281,     0.07022,    0.045913,    0.042764,    0.039605,    0.036436,    0.033256,    0.030066,    0.026866,           0,           0,           0,           0,           0,\n",
              "                  0,           0,           0,           0,           0,           0,           0,           0,           0,           0,           0,           0,           0,           0,           0,           0,           0,           0,           0,           0,           0,           0,           0,\n",
              "                  0,           0,           0,           0,           0,           0,           0,           0,           0,           0,           0]]), 'Confidence', 'F1'], [array([          0,    0.001001,    0.002002,    0.003003,    0.004004,    0.005005,    0.006006,    0.007007,    0.008008,    0.009009,     0.01001,    0.011011,    0.012012,    0.013013,    0.014014,    0.015015,    0.016016,    0.017017,    0.018018,    0.019019,     0.02002,    0.021021,    0.022022,    0.023023,\n",
              "          0.024024,    0.025025,    0.026026,    0.027027,    0.028028,    0.029029,     0.03003,    0.031031,    0.032032,    0.033033,    0.034034,    0.035035,    0.036036,    0.037037,    0.038038,    0.039039,     0.04004,    0.041041,    0.042042,    0.043043,    0.044044,    0.045045,    0.046046,    0.047047,\n",
              "          0.048048,    0.049049,     0.05005,    0.051051,    0.052052,    0.053053,    0.054054,    0.055055,    0.056056,    0.057057,    0.058058,    0.059059,     0.06006,    0.061061,    0.062062,    0.063063,    0.064064,    0.065065,    0.066066,    0.067067,    0.068068,    0.069069,     0.07007,    0.071071,\n",
              "          0.072072,    0.073073,    0.074074,    0.075075,    0.076076,    0.077077,    0.078078,    0.079079,     0.08008,    0.081081,    0.082082,    0.083083,    0.084084,    0.085085,    0.086086,    0.087087,    0.088088,    0.089089,     0.09009,    0.091091,    0.092092,    0.093093,    0.094094,    0.095095,\n",
              "          0.096096,    0.097097,    0.098098,    0.099099,      0.1001,      0.1011,      0.1021,      0.1031,      0.1041,     0.10511,     0.10611,     0.10711,     0.10811,     0.10911,     0.11011,     0.11111,     0.11211,     0.11311,     0.11411,     0.11512,     0.11612,     0.11712,     0.11812,     0.11912,\n",
              "           0.12012,     0.12112,     0.12212,     0.12312,     0.12412,     0.12513,     0.12613,     0.12713,     0.12813,     0.12913,     0.13013,     0.13113,     0.13213,     0.13313,     0.13413,     0.13514,     0.13614,     0.13714,     0.13814,     0.13914,     0.14014,     0.14114,     0.14214,     0.14314,\n",
              "           0.14414,     0.14515,     0.14615,     0.14715,     0.14815,     0.14915,     0.15015,     0.15115,     0.15215,     0.15315,     0.15415,     0.15516,     0.15616,     0.15716,     0.15816,     0.15916,     0.16016,     0.16116,     0.16216,     0.16316,     0.16416,     0.16517,     0.16617,     0.16717,\n",
              "           0.16817,     0.16917,     0.17017,     0.17117,     0.17217,     0.17317,     0.17417,     0.17518,     0.17618,     0.17718,     0.17818,     0.17918,     0.18018,     0.18118,     0.18218,     0.18318,     0.18418,     0.18519,     0.18619,     0.18719,     0.18819,     0.18919,     0.19019,     0.19119,\n",
              "           0.19219,     0.19319,     0.19419,      0.1952,      0.1962,      0.1972,      0.1982,      0.1992,      0.2002,      0.2012,      0.2022,      0.2032,      0.2042,     0.20521,     0.20621,     0.20721,     0.20821,     0.20921,     0.21021,     0.21121,     0.21221,     0.21321,     0.21421,     0.21522,\n",
              "           0.21622,     0.21722,     0.21822,     0.21922,     0.22022,     0.22122,     0.22222,     0.22322,     0.22422,     0.22523,     0.22623,     0.22723,     0.22823,     0.22923,     0.23023,     0.23123,     0.23223,     0.23323,     0.23423,     0.23524,     0.23624,     0.23724,     0.23824,     0.23924,\n",
              "           0.24024,     0.24124,     0.24224,     0.24324,     0.24424,     0.24525,     0.24625,     0.24725,     0.24825,     0.24925,     0.25025,     0.25125,     0.25225,     0.25325,     0.25425,     0.25526,     0.25626,     0.25726,     0.25826,     0.25926,     0.26026,     0.26126,     0.26226,     0.26326,\n",
              "           0.26426,     0.26527,     0.26627,     0.26727,     0.26827,     0.26927,     0.27027,     0.27127,     0.27227,     0.27327,     0.27427,     0.27528,     0.27628,     0.27728,     0.27828,     0.27928,     0.28028,     0.28128,     0.28228,     0.28328,     0.28428,     0.28529,     0.28629,     0.28729,\n",
              "           0.28829,     0.28929,     0.29029,     0.29129,     0.29229,     0.29329,     0.29429,      0.2953,      0.2963,      0.2973,      0.2983,      0.2993,      0.3003,      0.3013,      0.3023,      0.3033,      0.3043,     0.30531,     0.30631,     0.30731,     0.30831,     0.30931,     0.31031,     0.31131,\n",
              "           0.31231,     0.31331,     0.31431,     0.31532,     0.31632,     0.31732,     0.31832,     0.31932,     0.32032,     0.32132,     0.32232,     0.32332,     0.32432,     0.32533,     0.32633,     0.32733,     0.32833,     0.32933,     0.33033,     0.33133,     0.33233,     0.33333,     0.33433,     0.33534,\n",
              "           0.33634,     0.33734,     0.33834,     0.33934,     0.34034,     0.34134,     0.34234,     0.34334,     0.34434,     0.34535,     0.34635,     0.34735,     0.34835,     0.34935,     0.35035,     0.35135,     0.35235,     0.35335,     0.35435,     0.35536,     0.35636,     0.35736,     0.35836,     0.35936,\n",
              "           0.36036,     0.36136,     0.36236,     0.36336,     0.36436,     0.36537,     0.36637,     0.36737,     0.36837,     0.36937,     0.37037,     0.37137,     0.37237,     0.37337,     0.37437,     0.37538,     0.37638,     0.37738,     0.37838,     0.37938,     0.38038,     0.38138,     0.38238,     0.38338,\n",
              "           0.38438,     0.38539,     0.38639,     0.38739,     0.38839,     0.38939,     0.39039,     0.39139,     0.39239,     0.39339,     0.39439,      0.3954,      0.3964,      0.3974,      0.3984,      0.3994,      0.4004,      0.4014,      0.4024,      0.4034,      0.4044,     0.40541,     0.40641,     0.40741,\n",
              "           0.40841,     0.40941,     0.41041,     0.41141,     0.41241,     0.41341,     0.41441,     0.41542,     0.41642,     0.41742,     0.41842,     0.41942,     0.42042,     0.42142,     0.42242,     0.42342,     0.42442,     0.42543,     0.42643,     0.42743,     0.42843,     0.42943,     0.43043,     0.43143,\n",
              "           0.43243,     0.43343,     0.43443,     0.43544,     0.43644,     0.43744,     0.43844,     0.43944,     0.44044,     0.44144,     0.44244,     0.44344,     0.44444,     0.44545,     0.44645,     0.44745,     0.44845,     0.44945,     0.45045,     0.45145,     0.45245,     0.45345,     0.45445,     0.45546,\n",
              "           0.45646,     0.45746,     0.45846,     0.45946,     0.46046,     0.46146,     0.46246,     0.46346,     0.46446,     0.46547,     0.46647,     0.46747,     0.46847,     0.46947,     0.47047,     0.47147,     0.47247,     0.47347,     0.47447,     0.47548,     0.47648,     0.47748,     0.47848,     0.47948,\n",
              "           0.48048,     0.48148,     0.48248,     0.48348,     0.48448,     0.48549,     0.48649,     0.48749,     0.48849,     0.48949,     0.49049,     0.49149,     0.49249,     0.49349,     0.49449,      0.4955,      0.4965,      0.4975,      0.4985,      0.4995,      0.5005,      0.5015,      0.5025,      0.5035,\n",
              "            0.5045,     0.50551,     0.50651,     0.50751,     0.50851,     0.50951,     0.51051,     0.51151,     0.51251,     0.51351,     0.51451,     0.51552,     0.51652,     0.51752,     0.51852,     0.51952,     0.52052,     0.52152,     0.52252,     0.52352,     0.52452,     0.52553,     0.52653,     0.52753,\n",
              "           0.52853,     0.52953,     0.53053,     0.53153,     0.53253,     0.53353,     0.53453,     0.53554,     0.53654,     0.53754,     0.53854,     0.53954,     0.54054,     0.54154,     0.54254,     0.54354,     0.54454,     0.54555,     0.54655,     0.54755,     0.54855,     0.54955,     0.55055,     0.55155,\n",
              "           0.55255,     0.55355,     0.55455,     0.55556,     0.55656,     0.55756,     0.55856,     0.55956,     0.56056,     0.56156,     0.56256,     0.56356,     0.56456,     0.56557,     0.56657,     0.56757,     0.56857,     0.56957,     0.57057,     0.57157,     0.57257,     0.57357,     0.57457,     0.57558,\n",
              "           0.57658,     0.57758,     0.57858,     0.57958,     0.58058,     0.58158,     0.58258,     0.58358,     0.58458,     0.58559,     0.58659,     0.58759,     0.58859,     0.58959,     0.59059,     0.59159,     0.59259,     0.59359,     0.59459,      0.5956,      0.5966,      0.5976,      0.5986,      0.5996,\n",
              "            0.6006,      0.6016,      0.6026,      0.6036,      0.6046,     0.60561,     0.60661,     0.60761,     0.60861,     0.60961,     0.61061,     0.61161,     0.61261,     0.61361,     0.61461,     0.61562,     0.61662,     0.61762,     0.61862,     0.61962,     0.62062,     0.62162,     0.62262,     0.62362,\n",
              "           0.62462,     0.62563,     0.62663,     0.62763,     0.62863,     0.62963,     0.63063,     0.63163,     0.63263,     0.63363,     0.63463,     0.63564,     0.63664,     0.63764,     0.63864,     0.63964,     0.64064,     0.64164,     0.64264,     0.64364,     0.64464,     0.64565,     0.64665,     0.64765,\n",
              "           0.64865,     0.64965,     0.65065,     0.65165,     0.65265,     0.65365,     0.65465,     0.65566,     0.65666,     0.65766,     0.65866,     0.65966,     0.66066,     0.66166,     0.66266,     0.66366,     0.66466,     0.66567,     0.66667,     0.66767,     0.66867,     0.66967,     0.67067,     0.67167,\n",
              "           0.67267,     0.67367,     0.67467,     0.67568,     0.67668,     0.67768,     0.67868,     0.67968,     0.68068,     0.68168,     0.68268,     0.68368,     0.68468,     0.68569,     0.68669,     0.68769,     0.68869,     0.68969,     0.69069,     0.69169,     0.69269,     0.69369,     0.69469,      0.6957,\n",
              "            0.6967,      0.6977,      0.6987,      0.6997,      0.7007,      0.7017,      0.7027,      0.7037,      0.7047,     0.70571,     0.70671,     0.70771,     0.70871,     0.70971,     0.71071,     0.71171,     0.71271,     0.71371,     0.71471,     0.71572,     0.71672,     0.71772,     0.71872,     0.71972,\n",
              "           0.72072,     0.72172,     0.72272,     0.72372,     0.72472,     0.72573,     0.72673,     0.72773,     0.72873,     0.72973,     0.73073,     0.73173,     0.73273,     0.73373,     0.73473,     0.73574,     0.73674,     0.73774,     0.73874,     0.73974,     0.74074,     0.74174,     0.74274,     0.74374,\n",
              "           0.74474,     0.74575,     0.74675,     0.74775,     0.74875,     0.74975,     0.75075,     0.75175,     0.75275,     0.75375,     0.75475,     0.75576,     0.75676,     0.75776,     0.75876,     0.75976,     0.76076,     0.76176,     0.76276,     0.76376,     0.76476,     0.76577,     0.76677,     0.76777,\n",
              "           0.76877,     0.76977,     0.77077,     0.77177,     0.77277,     0.77377,     0.77477,     0.77578,     0.77678,     0.77778,     0.77878,     0.77978,     0.78078,     0.78178,     0.78278,     0.78378,     0.78478,     0.78579,     0.78679,     0.78779,     0.78879,     0.78979,     0.79079,     0.79179,\n",
              "           0.79279,     0.79379,     0.79479,      0.7958,      0.7968,      0.7978,      0.7988,      0.7998,      0.8008,      0.8018,      0.8028,      0.8038,      0.8048,     0.80581,     0.80681,     0.80781,     0.80881,     0.80981,     0.81081,     0.81181,     0.81281,     0.81381,     0.81481,     0.81582,\n",
              "           0.81682,     0.81782,     0.81882,     0.81982,     0.82082,     0.82182,     0.82282,     0.82382,     0.82482,     0.82583,     0.82683,     0.82783,     0.82883,     0.82983,     0.83083,     0.83183,     0.83283,     0.83383,     0.83483,     0.83584,     0.83684,     0.83784,     0.83884,     0.83984,\n",
              "           0.84084,     0.84184,     0.84284,     0.84384,     0.84484,     0.84585,     0.84685,     0.84785,     0.84885,     0.84985,     0.85085,     0.85185,     0.85285,     0.85385,     0.85485,     0.85586,     0.85686,     0.85786,     0.85886,     0.85986,     0.86086,     0.86186,     0.86286,     0.86386,\n",
              "           0.86486,     0.86587,     0.86687,     0.86787,     0.86887,     0.86987,     0.87087,     0.87187,     0.87287,     0.87387,     0.87487,     0.87588,     0.87688,     0.87788,     0.87888,     0.87988,     0.88088,     0.88188,     0.88288,     0.88388,     0.88488,     0.88589,     0.88689,     0.88789,\n",
              "           0.88889,     0.88989,     0.89089,     0.89189,     0.89289,     0.89389,     0.89489,      0.8959,      0.8969,      0.8979,      0.8989,      0.8999,      0.9009,      0.9019,      0.9029,      0.9039,      0.9049,     0.90591,     0.90691,     0.90791,     0.90891,     0.90991,     0.91091,     0.91191,\n",
              "           0.91291,     0.91391,     0.91491,     0.91592,     0.91692,     0.91792,     0.91892,     0.91992,     0.92092,     0.92192,     0.92292,     0.92392,     0.92492,     0.92593,     0.92693,     0.92793,     0.92893,     0.92993,     0.93093,     0.93193,     0.93293,     0.93393,     0.93493,     0.93594,\n",
              "           0.93694,     0.93794,     0.93894,     0.93994,     0.94094,     0.94194,     0.94294,     0.94394,     0.94494,     0.94595,     0.94695,     0.94795,     0.94895,     0.94995,     0.95095,     0.95195,     0.95295,     0.95395,     0.95495,     0.95596,     0.95696,     0.95796,     0.95896,     0.95996,\n",
              "           0.96096,     0.96196,     0.96296,     0.96396,     0.96496,     0.96597,     0.96697,     0.96797,     0.96897,     0.96997,     0.97097,     0.97197,     0.97297,     0.97397,     0.97497,     0.97598,     0.97698,     0.97798,     0.97898,     0.97998,     0.98098,     0.98198,     0.98298,     0.98398,\n",
              "           0.98498,     0.98599,     0.98699,     0.98799,     0.98899,     0.98999,     0.99099,     0.99199,     0.99299,     0.99399,     0.99499,       0.996,       0.997,       0.998,       0.999,           1]), array([[   0.066076,    0.066076,     0.18934,     0.27719,     0.35889,     0.41696,     0.45357,     0.47601,     0.49057,     0.49987,     0.52452,     0.53953,     0.55387,      0.5721,     0.57703,     0.59347,     0.59603,     0.60846,     0.62536,     0.64111,     0.65041,     0.65733,     0.66034,\n",
              "            0.67989,     0.68386,     0.68852,     0.69538,     0.69681,     0.69801,     0.69922,     0.70042,     0.70162,     0.70591,     0.70923,     0.71148,     0.71374,     0.71667,     0.71982,     0.72305,      0.7263,     0.72848,     0.73021,     0.73193,     0.73365,     0.75166,     0.75662,\n",
              "            0.75884,     0.76107,     0.76996,     0.77205,     0.77415,     0.77624,      0.7783,     0.78035,     0.78239,     0.78434,     0.78478,     0.78522,     0.78566,      0.7861,     0.78654,     0.78699,     0.78743,     0.78787,     0.78831,     0.78875,     0.78919,     0.78963,     0.79007,\n",
              "            0.79051,     0.79095,     0.79139,     0.79183,     0.79239,     0.79308,     0.79377,     0.79447,     0.79516,     0.79586,     0.79655,     0.79725,     0.79794,     0.79864,     0.79933,     0.80003,     0.80091,     0.80178,     0.80265,     0.80352,     0.80439,     0.80527,     0.80614,\n",
              "            0.80701,     0.80788,     0.80842,     0.80887,     0.80932,     0.80976,     0.81021,     0.81066,      0.8111,     0.81155,       0.812,     0.81244,     0.81289,     0.81333,     0.81378,     0.81423,     0.81467,     0.81512,     0.81557,     0.81601,     0.81655,     0.81731,     0.81807,\n",
              "            0.81883,     0.81958,     0.82034,      0.8211,     0.82186,     0.82262,     0.82338,     0.82413,     0.82479,     0.82505,     0.82531,     0.82557,     0.82583,     0.82609,     0.82635,     0.82661,     0.82687,     0.82712,     0.82738,     0.82764,      0.8279,     0.82816,     0.82842,\n",
              "            0.82868,     0.82894,      0.8292,     0.82946,     0.82971,     0.82997,     0.83023,     0.83049,     0.83075,     0.83101,     0.83127,     0.83153,     0.83179,     0.83205,      0.8323,     0.83256,     0.83282,     0.83308,     0.83384,     0.84216,     0.84228,     0.84239,      0.8425,\n",
              "            0.84261,     0.84272,     0.84283,     0.84294,     0.84305,     0.84316,     0.84327,     0.84338,     0.84349,      0.8436,     0.84371,     0.84382,     0.84393,     0.84404,     0.84415,     0.84426,     0.84437,     0.84448,     0.84459,      0.8447,     0.84481,     0.84492,     0.84503,\n",
              "            0.84514,     0.84525,     0.84536,     0.84547,     0.84558,     0.84569,      0.8458,     0.84592,     0.84603,     0.84614,     0.84625,     0.84636,     0.84647,     0.84658,     0.84669,      0.8468,     0.84691,     0.84702,     0.84713,     0.84724,     0.84735,     0.84746,     0.84757,\n",
              "            0.84768,     0.84779,      0.8479,     0.84801,     0.84812,     0.84823,     0.84834,     0.84845,     0.84856,     0.84867,     0.84878,     0.84889,       0.849,     0.84911,     0.84922,     0.84933,     0.84944,     0.84956,     0.84967,     0.84978,     0.84989,        0.85,     0.85011,\n",
              "            0.85022,     0.85033,     0.85044,     0.85055,     0.85066,     0.85077,     0.85088,     0.85099,     0.85142,     0.85252,     0.85363,     0.85473,     0.85583,     0.85694,     0.85804,     0.85915,     0.86023,     0.86061,       0.861,     0.86138,     0.86177,     0.86215,     0.86254,\n",
              "            0.86292,     0.86331,     0.86369,     0.86408,     0.86446,     0.86485,     0.86524,     0.86562,     0.86601,     0.86639,     0.86678,     0.86716,     0.86755,     0.86793,     0.86832,      0.8687,     0.86909,     0.86947,     0.87035,     0.87138,     0.87241,     0.87344,     0.87448,\n",
              "            0.87551,     0.87654,     0.87757,      0.8786,     0.87905,     0.87889,     0.87874,     0.87859,     0.87843,     0.87828,     0.87813,     0.87797,     0.87782,     0.87793,     0.87814,     0.87834,     0.87855,     0.87876,     0.87897,     0.87918,     0.87939,     0.87959,      0.8798,\n",
              "            0.88001,     0.88022,     0.88043,     0.88064,     0.88084,     0.88105,     0.88126,     0.88147,     0.88168,     0.88189,      0.8821,      0.8823,     0.88251,     0.88272,     0.88293,     0.88314,     0.88335,     0.88355,     0.88376,     0.88397,     0.88418,     0.88439,      0.8846,\n",
              "            0.88481,     0.88501,     0.88522,     0.88543,     0.88564,     0.88585,     0.88606,     0.88626,     0.88647,     0.88668,     0.88689,      0.8871,     0.88731,     0.88752,      0.8877,     0.88786,     0.88801,     0.88816,     0.88832,     0.88847,     0.88862,     0.88878,     0.88893,\n",
              "            0.88909,     0.88924,     0.88939,     0.88955,      0.8897,     0.88985,     0.89001,     0.89016,     0.89032,     0.89047,     0.89062,     0.89078,     0.89093,     0.89108,     0.89124,     0.89139,     0.89155,      0.8917,     0.89185,     0.89201,     0.89216,     0.89231,     0.89247,\n",
              "            0.89262,     0.89278,     0.89293,     0.89308,     0.89324,     0.89339,     0.89354,      0.8937,     0.89385,     0.89401,     0.89416,     0.89431,     0.89447,     0.89462,     0.89477,     0.89493,     0.89508,     0.89524,     0.89539,     0.89554,      0.8957,     0.89585,       0.896,\n",
              "            0.89616,     0.89631,     0.89647,     0.89662,     0.89677,     0.89693,     0.89708,     0.89723,     0.89739,     0.89754,      0.8977,      0.8977,     0.89767,     0.89764,      0.8976,     0.89757,     0.89754,     0.89751,     0.89747,     0.89744,     0.89741,     0.89738,     0.89734,\n",
              "            0.89731,     0.89728,     0.89725,     0.89721,     0.89718,     0.89715,     0.89712,     0.89708,     0.89705,     0.89702,     0.89699,     0.89695,     0.89692,     0.89689,     0.89685,     0.89682,     0.89679,     0.89676,     0.89672,     0.89669,     0.89666,     0.89663,     0.89659,\n",
              "            0.89656,     0.89902,     0.90258,     0.90615,     0.90735,     0.90783,     0.90831,     0.90879,     0.90927,     0.90975,     0.91023,     0.91071,     0.91119,     0.91167,     0.91215,     0.91263,     0.91311,      0.9136,     0.91408,     0.91456,     0.91504,     0.91552,       0.916,\n",
              "            0.91648,     0.91696,     0.91744,     0.91776,     0.91796,     0.91815,     0.91835,     0.91855,     0.91874,     0.91894,     0.91913,     0.91933,     0.91953,     0.91972,     0.91992,     0.92012,     0.92031,     0.92051,     0.92071,      0.9209,      0.9211,      0.9213,     0.92149,\n",
              "            0.92169,     0.92188,     0.92208,     0.92228,     0.92247,     0.92267,     0.92287,     0.92306,     0.92326,     0.92346,     0.92365,     0.92385,     0.92405,     0.92424,     0.92444,     0.92464,     0.92483,     0.92503,     0.92522,     0.92542,     0.92562,     0.92581,     0.92601,\n",
              "            0.92621,      0.9264,      0.9266,      0.9268,     0.92699,     0.92719,     0.92739,     0.92758,     0.92778,     0.92797,     0.92817,     0.92837,     0.92856,     0.92856,     0.92855,     0.92853,     0.92852,     0.92851,      0.9285,     0.92848,     0.92847,     0.92846,     0.92844,\n",
              "            0.92843,     0.92842,     0.92841,     0.92839,     0.92838,     0.92837,     0.92835,     0.92834,     0.92833,     0.92832,      0.9283,     0.92829,     0.92828,     0.92827,     0.92825,     0.92824,     0.92823,     0.92821,      0.9282,     0.92819,     0.92818,     0.92816,     0.92815,\n",
              "            0.92814,     0.92812,     0.92811,      0.9281,     0.92809,     0.92807,     0.92806,     0.92805,     0.92803,     0.92802,     0.92801,       0.928,     0.92798,     0.92797,     0.92796,     0.92795,     0.92793,     0.92792,     0.92791,     0.92789,     0.92788,     0.92787,     0.92786,\n",
              "            0.92784,     0.92783,     0.92782,      0.9278,     0.92779,     0.92778,     0.92777,     0.92775,     0.92774,     0.92773,     0.92772,     0.92896,      0.9309,     0.93283,     0.93476,      0.9367,     0.93863,       0.939,     0.93896,     0.93893,     0.93889,     0.93886,     0.93882,\n",
              "            0.93879,     0.93875,     0.93872,     0.93868,     0.93865,     0.93861,     0.93858,     0.93854,     0.93851,     0.93847,     0.93844,      0.9384,     0.93837,     0.93833,      0.9383,     0.93845,     0.93898,     0.93952,     0.94005,     0.94059,     0.94112,     0.94165,     0.94219,\n",
              "            0.94272,     0.94326,     0.94379,     0.94433,     0.94486,     0.94539,     0.94593,     0.94646,       0.947,     0.94753,     0.94807,      0.9486,     0.94914,     0.94967,     0.95028,     0.95103,     0.95178,     0.95253,     0.95327,     0.95402,     0.95477,     0.95551,     0.95626,\n",
              "            0.95701,     0.95776,      0.9585,     0.95925,        0.96,     0.96074,     0.96149,     0.96202,     0.96201,     0.96199,     0.96198,     0.96197,     0.96195,     0.96194,     0.96193,     0.96191,      0.9619,     0.96188,     0.96187,     0.96186,     0.96184,     0.96183,     0.96182,\n",
              "             0.9618,     0.96179,     0.96178,     0.96176,     0.96175,     0.96173,     0.96172,     0.96171,     0.96169,     0.96168,     0.96167,     0.96165,     0.96164,     0.96162,     0.96161,      0.9616,     0.96158,     0.96157,     0.96156,     0.96154,     0.96178,     0.96213,     0.96248,\n",
              "            0.96283,     0.96318,     0.96353,     0.96388,     0.96423,     0.96458,     0.96493,     0.96528,     0.96563,     0.96598,     0.96633,     0.96668,     0.96704,     0.96739,     0.96774,     0.96809,     0.96844,     0.96879,     0.96914,     0.96949,     0.96984,     0.97019,     0.97054,\n",
              "            0.97089,     0.97124,     0.97159,     0.97195,      0.9723,     0.97265,       0.973,     0.97335,      0.9737,     0.97422,     0.97714,     0.98006,     0.98298,      0.9859,     0.98681,     0.98677,     0.98672,     0.98668,     0.98664,     0.98662,     0.98659,     0.98656,     0.98653,\n",
              "             0.9865,     0.98706,     0.98838,      0.9897,     0.99101,     0.99233,     0.99365,     0.99497,     0.99629,     0.99761,     0.99893,           1,           1,           1,           1,           1,           1,           1,           1,           1,           1,           1,           1,\n",
              "                  1,           1,           1,           1,           1,           1,           1,           1,           1,           1,           1,           1,           1,           1,           1,           1,           1,           1,           1,           1,           1,           1,           1,\n",
              "                  1,           1,           1,           1,           1,           1,           1,           1,           1,           1,           1,           1,           1,           1,           1,           1,           1,           1,           1,           1,           1,           1,           1,\n",
              "                  1,           1,           1,           1,           1,           1,           1,           1,           1,           1,           1,           1,           1,           1,           1,           1,           1,           1,           1,           1,           1,           1,           1,\n",
              "                  1,           1,           1,           1,           1,           1,           1,           1,           1,           1,           1,           1,           1,           1,           1,           1,           1,           1,           1,           1,           1,           1,           1,\n",
              "                  1,           1,           1,           1,           1,           1,           1,           1,           1,           1,           1,           1,           1,           1,           1,           1,           1,           1,           1,           1,           1,           1,           1,\n",
              "                  1,           1,           1,           1,           1,           1,           1,           1,           1,           1,           1,           1,           1,           1,           1,           1,           1,           1,           1,           1,           1,           1,           1,\n",
              "                  1,           1,           1,           1,           1,           1,           1,           1,           1,           1,           1,           1,           1,           1,           1,           1,           1,           1,           1,           1,           1,           1,           1,\n",
              "                  1,           1,           1,           1,           1,           1,           1,           1,           1,           1,           1,           1,           1,           1,           1,           1,           1,           1,           1,           1,           1,           1,           1,\n",
              "                  1,           1,           1,           1,           1,           1,           1,           1,           1,           1,           1,           1,           1,           1,           1,           1,           1,           1,           1,           1,           1,           1,           1,\n",
              "                  1,           1,           1,           1,           1,           1,           1,           1,           1,           1,           1,           1,           1,           1,           1,           1,           1,           1,           1,           1,           1,           1,           1,\n",
              "                  1,           1,           1,           1,           1,           1,           1,           1,           1,           1,           1]]), 'Confidence', 'Precision'], [array([          0,    0.001001,    0.002002,    0.003003,    0.004004,    0.005005,    0.006006,    0.007007,    0.008008,    0.009009,     0.01001,    0.011011,    0.012012,    0.013013,    0.014014,    0.015015,    0.016016,    0.017017,    0.018018,    0.019019,     0.02002,    0.021021,    0.022022,    0.023023,\n",
              "          0.024024,    0.025025,    0.026026,    0.027027,    0.028028,    0.029029,     0.03003,    0.031031,    0.032032,    0.033033,    0.034034,    0.035035,    0.036036,    0.037037,    0.038038,    0.039039,     0.04004,    0.041041,    0.042042,    0.043043,    0.044044,    0.045045,    0.046046,    0.047047,\n",
              "          0.048048,    0.049049,     0.05005,    0.051051,    0.052052,    0.053053,    0.054054,    0.055055,    0.056056,    0.057057,    0.058058,    0.059059,     0.06006,    0.061061,    0.062062,    0.063063,    0.064064,    0.065065,    0.066066,    0.067067,    0.068068,    0.069069,     0.07007,    0.071071,\n",
              "          0.072072,    0.073073,    0.074074,    0.075075,    0.076076,    0.077077,    0.078078,    0.079079,     0.08008,    0.081081,    0.082082,    0.083083,    0.084084,    0.085085,    0.086086,    0.087087,    0.088088,    0.089089,     0.09009,    0.091091,    0.092092,    0.093093,    0.094094,    0.095095,\n",
              "          0.096096,    0.097097,    0.098098,    0.099099,      0.1001,      0.1011,      0.1021,      0.1031,      0.1041,     0.10511,     0.10611,     0.10711,     0.10811,     0.10911,     0.11011,     0.11111,     0.11211,     0.11311,     0.11411,     0.11512,     0.11612,     0.11712,     0.11812,     0.11912,\n",
              "           0.12012,     0.12112,     0.12212,     0.12312,     0.12412,     0.12513,     0.12613,     0.12713,     0.12813,     0.12913,     0.13013,     0.13113,     0.13213,     0.13313,     0.13413,     0.13514,     0.13614,     0.13714,     0.13814,     0.13914,     0.14014,     0.14114,     0.14214,     0.14314,\n",
              "           0.14414,     0.14515,     0.14615,     0.14715,     0.14815,     0.14915,     0.15015,     0.15115,     0.15215,     0.15315,     0.15415,     0.15516,     0.15616,     0.15716,     0.15816,     0.15916,     0.16016,     0.16116,     0.16216,     0.16316,     0.16416,     0.16517,     0.16617,     0.16717,\n",
              "           0.16817,     0.16917,     0.17017,     0.17117,     0.17217,     0.17317,     0.17417,     0.17518,     0.17618,     0.17718,     0.17818,     0.17918,     0.18018,     0.18118,     0.18218,     0.18318,     0.18418,     0.18519,     0.18619,     0.18719,     0.18819,     0.18919,     0.19019,     0.19119,\n",
              "           0.19219,     0.19319,     0.19419,      0.1952,      0.1962,      0.1972,      0.1982,      0.1992,      0.2002,      0.2012,      0.2022,      0.2032,      0.2042,     0.20521,     0.20621,     0.20721,     0.20821,     0.20921,     0.21021,     0.21121,     0.21221,     0.21321,     0.21421,     0.21522,\n",
              "           0.21622,     0.21722,     0.21822,     0.21922,     0.22022,     0.22122,     0.22222,     0.22322,     0.22422,     0.22523,     0.22623,     0.22723,     0.22823,     0.22923,     0.23023,     0.23123,     0.23223,     0.23323,     0.23423,     0.23524,     0.23624,     0.23724,     0.23824,     0.23924,\n",
              "           0.24024,     0.24124,     0.24224,     0.24324,     0.24424,     0.24525,     0.24625,     0.24725,     0.24825,     0.24925,     0.25025,     0.25125,     0.25225,     0.25325,     0.25425,     0.25526,     0.25626,     0.25726,     0.25826,     0.25926,     0.26026,     0.26126,     0.26226,     0.26326,\n",
              "           0.26426,     0.26527,     0.26627,     0.26727,     0.26827,     0.26927,     0.27027,     0.27127,     0.27227,     0.27327,     0.27427,     0.27528,     0.27628,     0.27728,     0.27828,     0.27928,     0.28028,     0.28128,     0.28228,     0.28328,     0.28428,     0.28529,     0.28629,     0.28729,\n",
              "           0.28829,     0.28929,     0.29029,     0.29129,     0.29229,     0.29329,     0.29429,      0.2953,      0.2963,      0.2973,      0.2983,      0.2993,      0.3003,      0.3013,      0.3023,      0.3033,      0.3043,     0.30531,     0.30631,     0.30731,     0.30831,     0.30931,     0.31031,     0.31131,\n",
              "           0.31231,     0.31331,     0.31431,     0.31532,     0.31632,     0.31732,     0.31832,     0.31932,     0.32032,     0.32132,     0.32232,     0.32332,     0.32432,     0.32533,     0.32633,     0.32733,     0.32833,     0.32933,     0.33033,     0.33133,     0.33233,     0.33333,     0.33433,     0.33534,\n",
              "           0.33634,     0.33734,     0.33834,     0.33934,     0.34034,     0.34134,     0.34234,     0.34334,     0.34434,     0.34535,     0.34635,     0.34735,     0.34835,     0.34935,     0.35035,     0.35135,     0.35235,     0.35335,     0.35435,     0.35536,     0.35636,     0.35736,     0.35836,     0.35936,\n",
              "           0.36036,     0.36136,     0.36236,     0.36336,     0.36436,     0.36537,     0.36637,     0.36737,     0.36837,     0.36937,     0.37037,     0.37137,     0.37237,     0.37337,     0.37437,     0.37538,     0.37638,     0.37738,     0.37838,     0.37938,     0.38038,     0.38138,     0.38238,     0.38338,\n",
              "           0.38438,     0.38539,     0.38639,     0.38739,     0.38839,     0.38939,     0.39039,     0.39139,     0.39239,     0.39339,     0.39439,      0.3954,      0.3964,      0.3974,      0.3984,      0.3994,      0.4004,      0.4014,      0.4024,      0.4034,      0.4044,     0.40541,     0.40641,     0.40741,\n",
              "           0.40841,     0.40941,     0.41041,     0.41141,     0.41241,     0.41341,     0.41441,     0.41542,     0.41642,     0.41742,     0.41842,     0.41942,     0.42042,     0.42142,     0.42242,     0.42342,     0.42442,     0.42543,     0.42643,     0.42743,     0.42843,     0.42943,     0.43043,     0.43143,\n",
              "           0.43243,     0.43343,     0.43443,     0.43544,     0.43644,     0.43744,     0.43844,     0.43944,     0.44044,     0.44144,     0.44244,     0.44344,     0.44444,     0.44545,     0.44645,     0.44745,     0.44845,     0.44945,     0.45045,     0.45145,     0.45245,     0.45345,     0.45445,     0.45546,\n",
              "           0.45646,     0.45746,     0.45846,     0.45946,     0.46046,     0.46146,     0.46246,     0.46346,     0.46446,     0.46547,     0.46647,     0.46747,     0.46847,     0.46947,     0.47047,     0.47147,     0.47247,     0.47347,     0.47447,     0.47548,     0.47648,     0.47748,     0.47848,     0.47948,\n",
              "           0.48048,     0.48148,     0.48248,     0.48348,     0.48448,     0.48549,     0.48649,     0.48749,     0.48849,     0.48949,     0.49049,     0.49149,     0.49249,     0.49349,     0.49449,      0.4955,      0.4965,      0.4975,      0.4985,      0.4995,      0.5005,      0.5015,      0.5025,      0.5035,\n",
              "            0.5045,     0.50551,     0.50651,     0.50751,     0.50851,     0.50951,     0.51051,     0.51151,     0.51251,     0.51351,     0.51451,     0.51552,     0.51652,     0.51752,     0.51852,     0.51952,     0.52052,     0.52152,     0.52252,     0.52352,     0.52452,     0.52553,     0.52653,     0.52753,\n",
              "           0.52853,     0.52953,     0.53053,     0.53153,     0.53253,     0.53353,     0.53453,     0.53554,     0.53654,     0.53754,     0.53854,     0.53954,     0.54054,     0.54154,     0.54254,     0.54354,     0.54454,     0.54555,     0.54655,     0.54755,     0.54855,     0.54955,     0.55055,     0.55155,\n",
              "           0.55255,     0.55355,     0.55455,     0.55556,     0.55656,     0.55756,     0.55856,     0.55956,     0.56056,     0.56156,     0.56256,     0.56356,     0.56456,     0.56557,     0.56657,     0.56757,     0.56857,     0.56957,     0.57057,     0.57157,     0.57257,     0.57357,     0.57457,     0.57558,\n",
              "           0.57658,     0.57758,     0.57858,     0.57958,     0.58058,     0.58158,     0.58258,     0.58358,     0.58458,     0.58559,     0.58659,     0.58759,     0.58859,     0.58959,     0.59059,     0.59159,     0.59259,     0.59359,     0.59459,      0.5956,      0.5966,      0.5976,      0.5986,      0.5996,\n",
              "            0.6006,      0.6016,      0.6026,      0.6036,      0.6046,     0.60561,     0.60661,     0.60761,     0.60861,     0.60961,     0.61061,     0.61161,     0.61261,     0.61361,     0.61461,     0.61562,     0.61662,     0.61762,     0.61862,     0.61962,     0.62062,     0.62162,     0.62262,     0.62362,\n",
              "           0.62462,     0.62563,     0.62663,     0.62763,     0.62863,     0.62963,     0.63063,     0.63163,     0.63263,     0.63363,     0.63463,     0.63564,     0.63664,     0.63764,     0.63864,     0.63964,     0.64064,     0.64164,     0.64264,     0.64364,     0.64464,     0.64565,     0.64665,     0.64765,\n",
              "           0.64865,     0.64965,     0.65065,     0.65165,     0.65265,     0.65365,     0.65465,     0.65566,     0.65666,     0.65766,     0.65866,     0.65966,     0.66066,     0.66166,     0.66266,     0.66366,     0.66466,     0.66567,     0.66667,     0.66767,     0.66867,     0.66967,     0.67067,     0.67167,\n",
              "           0.67267,     0.67367,     0.67467,     0.67568,     0.67668,     0.67768,     0.67868,     0.67968,     0.68068,     0.68168,     0.68268,     0.68368,     0.68468,     0.68569,     0.68669,     0.68769,     0.68869,     0.68969,     0.69069,     0.69169,     0.69269,     0.69369,     0.69469,      0.6957,\n",
              "            0.6967,      0.6977,      0.6987,      0.6997,      0.7007,      0.7017,      0.7027,      0.7037,      0.7047,     0.70571,     0.70671,     0.70771,     0.70871,     0.70971,     0.71071,     0.71171,     0.71271,     0.71371,     0.71471,     0.71572,     0.71672,     0.71772,     0.71872,     0.71972,\n",
              "           0.72072,     0.72172,     0.72272,     0.72372,     0.72472,     0.72573,     0.72673,     0.72773,     0.72873,     0.72973,     0.73073,     0.73173,     0.73273,     0.73373,     0.73473,     0.73574,     0.73674,     0.73774,     0.73874,     0.73974,     0.74074,     0.74174,     0.74274,     0.74374,\n",
              "           0.74474,     0.74575,     0.74675,     0.74775,     0.74875,     0.74975,     0.75075,     0.75175,     0.75275,     0.75375,     0.75475,     0.75576,     0.75676,     0.75776,     0.75876,     0.75976,     0.76076,     0.76176,     0.76276,     0.76376,     0.76476,     0.76577,     0.76677,     0.76777,\n",
              "           0.76877,     0.76977,     0.77077,     0.77177,     0.77277,     0.77377,     0.77477,     0.77578,     0.77678,     0.77778,     0.77878,     0.77978,     0.78078,     0.78178,     0.78278,     0.78378,     0.78478,     0.78579,     0.78679,     0.78779,     0.78879,     0.78979,     0.79079,     0.79179,\n",
              "           0.79279,     0.79379,     0.79479,      0.7958,      0.7968,      0.7978,      0.7988,      0.7998,      0.8008,      0.8018,      0.8028,      0.8038,      0.8048,     0.80581,     0.80681,     0.80781,     0.80881,     0.80981,     0.81081,     0.81181,     0.81281,     0.81381,     0.81481,     0.81582,\n",
              "           0.81682,     0.81782,     0.81882,     0.81982,     0.82082,     0.82182,     0.82282,     0.82382,     0.82482,     0.82583,     0.82683,     0.82783,     0.82883,     0.82983,     0.83083,     0.83183,     0.83283,     0.83383,     0.83483,     0.83584,     0.83684,     0.83784,     0.83884,     0.83984,\n",
              "           0.84084,     0.84184,     0.84284,     0.84384,     0.84484,     0.84585,     0.84685,     0.84785,     0.84885,     0.84985,     0.85085,     0.85185,     0.85285,     0.85385,     0.85485,     0.85586,     0.85686,     0.85786,     0.85886,     0.85986,     0.86086,     0.86186,     0.86286,     0.86386,\n",
              "           0.86486,     0.86587,     0.86687,     0.86787,     0.86887,     0.86987,     0.87087,     0.87187,     0.87287,     0.87387,     0.87487,     0.87588,     0.87688,     0.87788,     0.87888,     0.87988,     0.88088,     0.88188,     0.88288,     0.88388,     0.88488,     0.88589,     0.88689,     0.88789,\n",
              "           0.88889,     0.88989,     0.89089,     0.89189,     0.89289,     0.89389,     0.89489,      0.8959,      0.8969,      0.8979,      0.8989,      0.8999,      0.9009,      0.9019,      0.9029,      0.9039,      0.9049,     0.90591,     0.90691,     0.90791,     0.90891,     0.90991,     0.91091,     0.91191,\n",
              "           0.91291,     0.91391,     0.91491,     0.91592,     0.91692,     0.91792,     0.91892,     0.91992,     0.92092,     0.92192,     0.92292,     0.92392,     0.92492,     0.92593,     0.92693,     0.92793,     0.92893,     0.92993,     0.93093,     0.93193,     0.93293,     0.93393,     0.93493,     0.93594,\n",
              "           0.93694,     0.93794,     0.93894,     0.93994,     0.94094,     0.94194,     0.94294,     0.94394,     0.94494,     0.94595,     0.94695,     0.94795,     0.94895,     0.94995,     0.95095,     0.95195,     0.95295,     0.95395,     0.95495,     0.95596,     0.95696,     0.95796,     0.95896,     0.95996,\n",
              "           0.96096,     0.96196,     0.96296,     0.96396,     0.96496,     0.96597,     0.96697,     0.96797,     0.96897,     0.96997,     0.97097,     0.97197,     0.97297,     0.97397,     0.97497,     0.97598,     0.97698,     0.97798,     0.97898,     0.97998,     0.98098,     0.98198,     0.98298,     0.98398,\n",
              "           0.98498,     0.98599,     0.98699,     0.98799,     0.98899,     0.98999,     0.99099,     0.99199,     0.99299,     0.99399,     0.99499,       0.996,       0.997,       0.998,       0.999,           1]), array([[    0.98795,     0.98795,     0.98795,      0.9759,      0.9759,      0.9759,      0.9759,      0.9759,      0.9759,     0.96386,     0.96386,     0.96386,     0.96386,     0.96386,     0.96386,     0.96386,     0.96386,     0.96386,     0.96386,     0.96386,     0.96386,     0.96386,     0.96386,\n",
              "            0.96386,     0.96386,     0.96386,     0.96386,     0.96386,     0.96386,     0.96386,     0.96386,     0.96386,     0.96386,     0.96386,     0.96386,     0.96386,     0.96386,     0.96386,     0.96386,     0.96386,     0.96386,     0.96386,     0.96386,     0.96386,     0.96386,     0.96386,\n",
              "            0.96386,     0.96386,     0.96386,     0.96386,     0.96386,     0.96386,     0.96386,     0.96386,     0.96386,     0.96386,     0.96386,     0.96386,     0.96386,     0.96386,     0.96386,     0.96386,     0.96386,     0.96386,     0.96386,     0.96386,     0.96386,     0.96386,     0.96386,\n",
              "            0.96386,     0.96386,     0.96386,     0.96386,     0.96386,     0.96386,     0.96386,     0.96386,     0.96386,     0.96386,     0.96386,     0.96386,     0.96386,     0.96386,     0.96386,     0.96386,     0.96386,     0.96386,     0.96386,     0.96386,     0.96386,     0.96386,     0.96386,\n",
              "            0.96386,     0.96386,     0.96386,     0.96386,     0.96386,     0.96386,     0.96386,     0.96386,     0.96386,     0.96386,     0.96386,     0.96386,     0.96386,     0.96386,     0.96386,     0.96386,     0.96386,     0.96386,     0.96386,     0.96386,     0.96386,     0.96386,     0.96386,\n",
              "            0.96386,     0.96386,     0.96386,     0.96386,     0.96386,     0.96386,     0.96386,     0.96386,     0.96386,     0.96386,     0.96386,     0.96386,     0.96386,     0.96386,     0.96386,     0.96386,     0.96386,     0.96386,     0.96386,     0.96386,     0.96386,     0.96386,     0.96386,\n",
              "            0.96386,     0.96386,     0.96386,     0.96386,     0.96386,     0.96386,     0.96386,     0.96386,     0.96386,     0.96386,     0.96386,     0.96386,     0.96386,     0.96386,     0.96386,     0.96386,     0.96386,     0.96386,     0.96386,     0.96386,     0.96386,     0.96386,     0.96386,\n",
              "            0.96386,     0.96386,     0.96386,     0.96386,     0.96386,     0.96386,     0.96386,     0.96386,     0.96386,     0.96386,     0.96386,     0.96386,     0.96386,     0.96386,     0.96386,     0.96386,     0.96386,     0.96386,     0.96386,     0.96386,     0.96386,     0.96386,     0.96386,\n",
              "            0.96386,     0.96386,     0.96386,     0.96386,     0.96386,     0.96386,     0.96386,     0.96386,     0.96386,     0.96386,     0.96386,     0.96386,     0.96386,     0.96386,     0.96386,     0.96386,     0.96386,     0.96386,     0.96386,     0.96386,     0.96386,     0.96386,     0.96386,\n",
              "            0.96386,     0.96386,     0.96386,     0.96386,     0.96386,     0.96386,     0.96386,     0.96386,     0.96386,     0.96386,     0.96386,     0.96386,     0.96386,     0.96386,     0.96386,     0.96386,     0.96386,     0.96386,     0.96386,     0.96386,     0.96386,     0.96386,     0.96386,\n",
              "            0.96386,     0.96386,     0.96386,     0.96386,     0.96386,     0.96386,     0.96386,     0.96386,     0.96386,     0.96386,     0.96386,     0.96386,     0.96386,     0.96386,     0.96386,     0.96386,     0.96386,     0.96386,     0.96386,     0.96386,     0.96386,     0.96386,     0.96386,\n",
              "            0.96386,     0.96386,     0.96386,     0.96386,     0.96386,     0.96386,     0.96386,     0.96386,     0.96386,     0.96386,     0.96386,     0.96386,     0.96386,     0.96386,     0.96386,     0.96386,     0.96386,     0.96386,     0.96386,     0.96386,     0.96386,     0.96386,     0.96386,\n",
              "            0.96386,     0.96386,     0.96386,     0.96386,     0.96318,      0.9618,     0.96043,     0.95906,     0.95769,     0.95632,     0.95494,     0.95357,      0.9522,     0.95181,     0.95181,     0.95181,     0.95181,     0.95181,     0.95181,     0.95181,     0.95181,     0.95181,     0.95181,\n",
              "            0.95181,     0.95181,     0.95181,     0.95181,     0.95181,     0.95181,     0.95181,     0.95181,     0.95181,     0.95181,     0.95181,     0.95181,     0.95181,     0.95181,     0.95181,     0.95181,     0.95181,     0.95181,     0.95181,     0.95181,     0.95181,     0.95181,     0.95181,\n",
              "            0.95181,     0.95181,     0.95181,     0.95181,     0.95181,     0.95181,     0.95181,     0.95181,     0.95181,     0.95181,     0.95181,     0.95181,     0.95181,     0.95181,     0.95181,     0.95181,     0.95181,     0.95181,     0.95181,     0.95181,     0.95181,     0.95181,     0.95181,\n",
              "            0.95181,     0.95181,     0.95181,     0.95181,     0.95181,     0.95181,     0.95181,     0.95181,     0.95181,     0.95181,     0.95181,     0.95181,     0.95181,     0.95181,     0.95181,     0.95181,     0.95181,     0.95181,     0.95181,     0.95181,     0.95181,     0.95181,     0.95181,\n",
              "            0.95181,     0.95181,     0.95181,     0.95181,     0.95181,     0.95181,     0.95181,     0.95181,     0.95181,     0.95181,     0.95181,     0.95181,     0.95181,     0.95181,     0.95181,     0.95181,     0.95181,     0.95181,     0.95181,     0.95181,     0.95181,     0.95181,     0.95181,\n",
              "            0.95181,     0.95181,     0.95181,     0.95181,     0.95181,     0.95181,     0.95181,     0.95181,     0.95181,     0.95181,     0.95181,     0.95154,     0.95121,     0.95088,     0.95054,     0.95021,     0.94987,     0.94954,     0.94921,     0.94887,     0.94854,     0.94821,     0.94787,\n",
              "            0.94754,      0.9472,     0.94687,     0.94654,      0.9462,     0.94587,     0.94554,      0.9452,     0.94487,     0.94453,      0.9442,     0.94387,     0.94353,      0.9432,     0.94287,     0.94253,      0.9422,     0.94186,     0.94153,      0.9412,     0.94086,     0.94053,      0.9402,\n",
              "            0.93986,     0.93976,     0.93976,     0.93976,     0.93976,     0.93976,     0.93976,     0.93976,     0.93976,     0.93976,     0.93976,     0.93976,     0.93976,     0.93976,     0.93976,     0.93976,     0.93976,     0.93976,     0.93976,     0.93976,     0.93976,     0.93976,     0.93976,\n",
              "            0.93976,     0.93976,     0.93976,     0.93976,     0.93976,     0.93976,     0.93976,     0.93976,     0.93976,     0.93976,     0.93976,     0.93976,     0.93976,     0.93976,     0.93976,     0.93976,     0.93976,     0.93976,     0.93976,     0.93976,     0.93976,     0.93976,     0.93976,\n",
              "            0.93976,     0.93976,     0.93976,     0.93976,     0.93976,     0.93976,     0.93976,     0.93976,     0.93976,     0.93976,     0.93976,     0.93976,     0.93976,     0.93976,     0.93976,     0.93976,     0.93976,     0.93976,     0.93976,     0.93976,     0.93976,     0.93976,     0.93976,\n",
              "            0.93976,     0.93976,     0.93976,     0.93976,     0.93976,     0.93976,     0.93976,     0.93976,     0.93976,     0.93976,     0.93976,     0.93976,     0.93976,     0.93959,     0.93941,     0.93923,     0.93905,     0.93887,     0.93869,     0.93851,     0.93833,     0.93815,     0.93798,\n",
              "             0.9378,     0.93762,     0.93744,     0.93726,     0.93708,      0.9369,     0.93672,     0.93654,     0.93636,     0.93619,     0.93601,     0.93583,     0.93565,     0.93547,     0.93529,     0.93511,     0.93493,     0.93475,     0.93458,      0.9344,     0.93422,     0.93404,     0.93386,\n",
              "            0.93368,      0.9335,     0.93332,     0.93314,     0.93296,     0.93279,     0.93261,     0.93243,     0.93225,     0.93207,     0.93189,     0.93171,     0.93153,     0.93135,     0.93117,       0.931,     0.93082,     0.93064,     0.93046,     0.93028,      0.9301,     0.92992,     0.92974,\n",
              "            0.92956,     0.92938,     0.92921,     0.92903,     0.92885,     0.92867,     0.92849,     0.92831,     0.92813,     0.92795,     0.92777,     0.92771,     0.92771,     0.92771,     0.92771,     0.92771,     0.92771,     0.92726,      0.9267,     0.92614,     0.92558,     0.92502,     0.92446,\n",
              "             0.9239,     0.92334,     0.92277,     0.92221,     0.92165,     0.92109,     0.92053,     0.91997,     0.91941,     0.91884,     0.91828,     0.91772,     0.91716,      0.9166,     0.91604,     0.91566,     0.91566,     0.91566,     0.91566,     0.91566,     0.91566,     0.91566,     0.91566,\n",
              "            0.91566,     0.91566,     0.91566,     0.91566,     0.91566,     0.91566,     0.91566,     0.91566,     0.91566,     0.91566,     0.91566,     0.91566,     0.91566,     0.91566,     0.91566,     0.91566,     0.91566,     0.91566,     0.91566,     0.91566,     0.91566,     0.91566,     0.91566,\n",
              "            0.91566,     0.91566,     0.91566,     0.91566,     0.91566,     0.91566,     0.91566,     0.91557,     0.91523,     0.91489,     0.91455,     0.91421,     0.91387,     0.91354,      0.9132,     0.91286,     0.91252,     0.91218,     0.91184,     0.91151,     0.91117,     0.91083,     0.91049,\n",
              "            0.91015,     0.90981,     0.90948,     0.90914,      0.9088,     0.90846,     0.90812,     0.90778,     0.90745,     0.90711,     0.90677,     0.90643,     0.90609,     0.90575,     0.90542,     0.90508,     0.90474,      0.9044,     0.90406,     0.90372,     0.90361,     0.90361,     0.90361,\n",
              "            0.90361,     0.90361,     0.90361,     0.90361,     0.90361,     0.90361,     0.90361,     0.90361,     0.90361,     0.90361,     0.90361,     0.90361,     0.90361,     0.90361,     0.90361,     0.90361,     0.90361,     0.90361,     0.90361,     0.90361,     0.90361,     0.90361,     0.90361,\n",
              "            0.90361,     0.90361,     0.90361,     0.90361,     0.90361,     0.90361,     0.90361,     0.90361,     0.90361,     0.90361,     0.90361,     0.90361,     0.90361,     0.90361,     0.90153,     0.89844,     0.89535,     0.89226,      0.8901,      0.8882,      0.8863,      0.8844,      0.8825,\n",
              "             0.8806,     0.87952,     0.87952,     0.87952,     0.87952,     0.87952,     0.87952,     0.87952,     0.87952,     0.87952,     0.87952,     0.87945,     0.87911,     0.87877,     0.87842,     0.87808,     0.87774,     0.87739,     0.87705,     0.87671,     0.87637,     0.87602,     0.87568,\n",
              "            0.87534,     0.87499,     0.87465,     0.87431,     0.87396,     0.87362,     0.87328,     0.87294,     0.87259,     0.87225,     0.87191,     0.87156,     0.87122,     0.87088,     0.87053,     0.87019,     0.86985,      0.8695,     0.86916,     0.86882,     0.86848,     0.86813,     0.86779,\n",
              "            0.86739,     0.86615,     0.86492,     0.86368,     0.86245,     0.86121,     0.85998,     0.85874,     0.85751,     0.85627,     0.85483,     0.85293,     0.85103,     0.84913,     0.84723,     0.84533,     0.84343,     0.84257,     0.84175,     0.84093,      0.8401,     0.83928,     0.83846,\n",
              "            0.83763,     0.83681,     0.83599,     0.83516,     0.83434,     0.83352,     0.83269,     0.83187,     0.83029,      0.8272,     0.82411,     0.82102,     0.81659,     0.81042,     0.80666,     0.80548,     0.80431,     0.80313,     0.80196,     0.80078,      0.7996,     0.79843,     0.79725,\n",
              "            0.79607,     0.79481,     0.79327,     0.79172,     0.79018,     0.78864,     0.78709,     0.78555,       0.784,     0.78098,     0.77604,      0.7711,     0.76698,     0.76287,     0.75897,     0.75802,     0.75707,     0.75612,     0.75517,     0.75422,     0.75327,     0.75232,     0.75137,\n",
              "            0.75042,     0.74947,     0.74852,     0.74757,     0.74625,     0.74435,     0.74245,     0.74055,     0.73865,     0.73675,     0.72281,     0.72091,     0.71901,     0.71711,     0.71521,     0.71331,     0.71141,     0.69777,     0.69632,     0.69487,     0.69341,     0.69196,     0.69051,\n",
              "            0.68905,      0.6876,     0.68166,      0.6729,     0.66879,     0.66467,     0.65951,     0.65333,     0.63166,     0.60966,     0.60218,     0.60028,     0.59838,     0.59648,     0.59458,     0.59268,     0.59078,     0.57688,     0.57194,       0.567,     0.56101,     0.55483,     0.54132,\n",
              "            0.53926,      0.5372,     0.53515,     0.53309,     0.53103,     0.51347,     0.50576,     0.50302,     0.50027,     0.49753,     0.49479,     0.48962,     0.48345,     0.47882,     0.47471,     0.47059,      0.4175,     0.40065,     0.36391,     0.35589,     0.34971,     0.32595,     0.31328,\n",
              "            0.28601,     0.27983,     0.26447,     0.25624,     0.24926,     0.24308,     0.20343,      0.1952,     0.18841,     0.18224,     0.15569,     0.15216,     0.14863,      0.1451,     0.13932,     0.13314,     0.12511,     0.11508,     0.10653,     0.10242,    0.098299,    0.089777,     0.07973,\n",
              "           0.071497,    0.063264,    0.055031,    0.047914,    0.046267,    0.044621,    0.042974,    0.041327,    0.039681,    0.038034,    0.036387,    0.023496,    0.021849,    0.020203,    0.018556,    0.016909,    0.015263,    0.013616,           0,           0,           0,           0,           0,\n",
              "                  0,           0,           0,           0,           0,           0,           0,           0,           0,           0,           0,           0,           0,           0,           0,           0,           0,           0,           0,           0,           0,           0,           0,\n",
              "                  0,           0,           0,           0,           0,           0,           0,           0,           0,           0,           0]]), 'Confidence', 'Recall']]\n",
              "fitness: np.float64(0.7595083440173566)\n",
              "keys: ['metrics/precision(B)', 'metrics/recall(B)', 'metrics/mAP50(B)', 'metrics/mAP50-95(B)']\n",
              "maps: array([    0.73635])\n",
              "names: {0: 'Rock Pigeon'}\n",
              "nt_per_class: array([83])\n",
              "nt_per_image: array([74])\n",
              "results_dict: {'metrics/precision(B)': np.float64(0.9615702456000705), 'metrics/recall(B)': np.float64(0.904401017621021), 'metrics/mAP50(B)': np.float64(0.967889235087971), 'metrics/mAP50-95(B)': np.float64(0.7363549116761772), 'fitness': np.float64(0.7595083440173566)}\n",
              "speed: {'preprocess': 0.33341355404175105, 'inference': 2.98081483783421, 'loss': 0.000563648648715792, 'postprocess': 3.312427810817246}\n",
              "stats: {'tp': [], 'conf': [], 'pred_cls': [], 'target_cls': [], 'target_img': []}\n",
              "task: 'detect'"
            ]
          },
          "metadata": {},
          "execution_count": 29
        }
      ]
    },
    {
      "cell_type": "code",
      "source": [
        "!zip -r treinamento.zip treinamento/"
      ],
      "metadata": {
        "colab": {
          "base_uri": "https://localhost:8080/"
        },
        "id": "YGfMQ8mnvA7m",
        "outputId": "6591b965-d47e-45f2-a5b8-43c2358448c8"
      },
      "execution_count": null,
      "outputs": [
        {
          "output_type": "stream",
          "name": "stdout",
          "text": [
            "  adding: treinamento/ (stored 0%)\n",
            "  adding: treinamento/pombos_yolov12n/ (stored 0%)\n",
            "  adding: treinamento/pombos_yolov12n/R_curve.png (deflated 16%)\n",
            "  adding: treinamento/pombos_yolov12n/train_batch1.jpg (deflated 4%)\n",
            "  adding: treinamento/pombos_yolov12n/results.png (deflated 7%)\n",
            "  adding: treinamento/pombos_yolov12n/train_batch2.jpg (deflated 4%)\n",
            "  adding: treinamento/pombos_yolov12n/val_batch1_labels.jpg (deflated 12%)\n",
            "  adding: treinamento/pombos_yolov12n/weights/ (stored 0%)\n",
            "  adding: treinamento/pombos_yolov12n/weights/last.pt (deflated 10%)\n",
            "  adding: treinamento/pombos_yolov12n/weights/best.pt (deflated 10%)\n",
            "  adding: treinamento/pombos_yolov12n/val_batch2_pred.jpg (deflated 15%)\n",
            "  adding: treinamento/pombos_yolov12n/val_batch0_labels.jpg (deflated 10%)\n",
            "  adding: treinamento/pombos_yolov12n/args.yaml (deflated 53%)\n",
            "  adding: treinamento/pombos_yolov12n/F1_curve.png (deflated 16%)\n",
            "  adding: treinamento/pombos_yolov12n/train_batch0.jpg (deflated 4%)\n",
            "  adding: treinamento/pombos_yolov12n/confusion_matrix.png (deflated 35%)\n",
            "  adding: treinamento/pombos_yolov12n/confusion_matrix_normalized.png (deflated 35%)\n",
            "  adding: treinamento/pombos_yolov12n/labels.jpg (deflated 28%)\n",
            "  adding: treinamento/pombos_yolov12n/val_batch0_pred.jpg (deflated 10%)\n",
            "  adding: treinamento/pombos_yolov12n/P_curve.png (deflated 18%)\n",
            "  adding: treinamento/pombos_yolov12n/val_batch2_labels.jpg (deflated 15%)\n",
            "  adding: treinamento/pombos_yolov12n/results.csv (deflated 61%)\n",
            "  adding: treinamento/pombos_yolov12n/PR_curve.png (deflated 27%)\n",
            "  adding: treinamento/pombos_yolov12n/labels_correlogram.jpg (deflated 42%)\n",
            "  adding: treinamento/pombos_yolov12n/val_batch1_pred.jpg (deflated 11%)\n",
            "  adding: treinamento/pombos_yolov12n/train_batch1331.jpg (deflated 10%)\n",
            "  adding: treinamento/pombos_yolov12n/train_batch1332.jpg (deflated 8%)\n",
            "  adding: treinamento/pombos_yolov12n/train_batch1330.jpg (deflated 9%)\n"
          ]
        }
      ]
    },
    {
      "cell_type": "code",
      "source": [
        "!rm -r dataset"
      ],
      "metadata": {
        "id": "dHT136r_98o_"
      },
      "execution_count": null,
      "outputs": []
    }
  ]
}